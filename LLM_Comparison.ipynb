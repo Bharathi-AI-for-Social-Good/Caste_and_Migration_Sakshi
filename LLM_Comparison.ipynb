{
 "cells": [
  {
   "cell_type": "code",
   "execution_count": 1,
   "id": "e4dd86fd",
   "metadata": {},
   "outputs": [],
   "source": [
    "import os\n",
    "import pandas as pd"
   ]
  },
  {
   "cell_type": "code",
   "execution_count": 2,
   "id": "6e4b852d",
   "metadata": {},
   "outputs": [],
   "source": [
    "# Get root directory\n",
    "project_root = os.path.abspath(os.path.join(os.getcwd(),\"..\",\"..\"))\n",
    "\n",
    "sample_annotation_path = os.path.join(project_root, 'Data Annotation/Human Annotation/Sample_annotation.csv')\n",
    "gpt_path = os.path.join(project_root, 'Data Annotation/LLM Annotation/GPT-4o.csv')\n",
    "gemini_path = os.path.join(project_root, 'Data Annotation/LLM Annotation/Gemini.csv')\n",
    "deepseek_path = os.path.join(project_root, 'Data Annotation/LLM Annotation/Deepseek.csv')\n",
    "\n",
    "Sample_annotation = pd.read_csv(sample_annotation_path)\n",
    "GPT = pd.read_csv(gpt_path)\n",
    "Gemini = pd.read_csv(gemini_path)\n",
    "Deepseek = pd.read_csv(deepseek_path)"
   ]
  },
  {
   "cell_type": "code",
   "execution_count": 3,
   "id": "4689d739",
   "metadata": {},
   "outputs": [],
   "source": [
    "Sample_annotation['Annotation'] = Sample_annotation['Annotation'].apply(lambda x: 1 if x == 'Hatespeech' else 0)\n",
    "GPT['Annotation'] = GPT['Annotation'].apply(lambda x: 1 if x == 'Hatespeech' else 0)\n",
    "Gemini['Annotation'] = Gemini['Annotation'].apply(lambda x: 1 if x == 'Hatespeech' else 0)\n",
    "Deepseek['Annotation'] = Deepseek['Annotation'].apply(lambda x: 1 if x == 'Hatespeech' else 0)"
   ]
  },
  {
   "cell_type": "code",
   "execution_count": 4,
   "id": "c601e15c",
   "metadata": {},
   "outputs": [
    {
     "data": {
      "application/vnd.microsoft.datawrangler.viewer.v0+json": {
       "columns": [
        {
         "name": "index",
         "rawType": "int64",
         "type": "integer"
        },
        {
         "name": "Annotation",
         "rawType": "int64",
         "type": "integer"
        }
       ],
       "ref": "10a068de-a03a-415a-b414-e3e035c33c89",
       "rows": [
        [
         "0",
         "1"
        ],
        [
         "1",
         "0"
        ],
        [
         "2",
         "0"
        ],
        [
         "3",
         "1"
        ],
        [
         "4",
         "1"
        ],
        [
         "5",
         "0"
        ],
        [
         "6",
         "1"
        ],
        [
         "7",
         "0"
        ],
        [
         "8",
         "0"
        ],
        [
         "9",
         "0"
        ],
        [
         "10",
         "0"
        ],
        [
         "11",
         "0"
        ],
        [
         "12",
         "0"
        ],
        [
         "13",
         "0"
        ],
        [
         "14",
         "1"
        ],
        [
         "15",
         "1"
        ],
        [
         "16",
         "0"
        ],
        [
         "17",
         "0"
        ],
        [
         "18",
         "0"
        ],
        [
         "19",
         "0"
        ],
        [
         "20",
         "0"
        ],
        [
         "21",
         "0"
        ],
        [
         "22",
         "0"
        ],
        [
         "23",
         "0"
        ],
        [
         "24",
         "1"
        ],
        [
         "25",
         "1"
        ],
        [
         "26",
         "0"
        ],
        [
         "27",
         "0"
        ],
        [
         "28",
         "0"
        ],
        [
         "29",
         "0"
        ],
        [
         "30",
         "1"
        ],
        [
         "31",
         "0"
        ],
        [
         "32",
         "0"
        ],
        [
         "33",
         "0"
        ],
        [
         "34",
         "0"
        ],
        [
         "35",
         "1"
        ],
        [
         "36",
         "0"
        ],
        [
         "37",
         "0"
        ],
        [
         "38",
         "0"
        ],
        [
         "39",
         "0"
        ],
        [
         "40",
         "0"
        ],
        [
         "41",
         "0"
        ],
        [
         "42",
         "1"
        ],
        [
         "43",
         "0"
        ],
        [
         "44",
         "0"
        ],
        [
         "45",
         "0"
        ],
        [
         "46",
         "0"
        ],
        [
         "47",
         "0"
        ],
        [
         "48",
         "0"
        ],
        [
         "49",
         "0"
        ]
       ],
       "shape": {
        "columns": 1,
        "rows": 500
       }
      },
      "text/plain": [
       "0      1\n",
       "1      0\n",
       "2      0\n",
       "3      1\n",
       "4      1\n",
       "      ..\n",
       "495    0\n",
       "496    0\n",
       "497    0\n",
       "498    0\n",
       "499    0\n",
       "Name: Annotation, Length: 500, dtype: int64"
      ]
     },
     "execution_count": 4,
     "metadata": {},
     "output_type": "execute_result"
    }
   ],
   "source": [
    "y_label = Sample_annotation['Annotation']\n",
    "y_label"
   ]
  },
  {
   "cell_type": "code",
   "execution_count": 5,
   "id": "4ae11120",
   "metadata": {},
   "outputs": [],
   "source": [
    "GPT_predictions = GPT['Annotation']\n",
    "Gemini_predictions = Gemini['Annotation']\n",
    "Deepseek_predictions = Deepseek['Annotation']"
   ]
  },
  {
   "cell_type": "code",
   "execution_count": 6,
   "id": "17d11a95",
   "metadata": {},
   "outputs": [
    {
     "name": "stdout",
     "output_type": "stream",
     "text": [
      "GPT-4o Classification Report:\n",
      "               precision    recall  f1-score   support\n",
      "\n",
      "           0       0.86      0.90      0.88       397\n",
      "           1       0.53      0.45      0.49       103\n",
      "\n",
      "    accuracy                           0.81       500\n",
      "   macro avg       0.70      0.67      0.68       500\n",
      "weighted avg       0.79      0.81      0.80       500\n",
      "\n",
      "Gemini Classification Report:\n",
      "               precision    recall  f1-score   support\n",
      "\n",
      "           0       0.94      0.63      0.75       397\n",
      "           1       0.37      0.83      0.51       103\n",
      "\n",
      "    accuracy                           0.67       500\n",
      "   macro avg       0.65      0.73      0.63       500\n",
      "weighted avg       0.82      0.67      0.70       500\n",
      "\n",
      "Deepseek Classification Report:\n",
      "               precision    recall  f1-score   support\n",
      "\n",
      "           0       0.86      0.69      0.77       397\n",
      "           1       0.33      0.58      0.42       103\n",
      "\n",
      "    accuracy                           0.67       500\n",
      "   macro avg       0.60      0.64      0.59       500\n",
      "weighted avg       0.75      0.67      0.69       500\n",
      "\n"
     ]
    },
    {
     "data": {
      "text/html": [
       "<style type=\"text/css\">\n",
       "</style>\n",
       "<table id=\"T_aa865\">\n",
       "  <thead>\n",
       "    <tr>\n",
       "      <th class=\"blank level0\" >&nbsp;</th>\n",
       "      <th id=\"T_aa865_level0_col0\" class=\"col_heading level0 col0\" >Accuracy</th>\n",
       "      <th id=\"T_aa865_level0_col1\" class=\"col_heading level0 col1\" >Precision</th>\n",
       "      <th id=\"T_aa865_level0_col2\" class=\"col_heading level0 col2\" >Recall</th>\n",
       "      <th id=\"T_aa865_level0_col3\" class=\"col_heading level0 col3\" >F1 Score</th>\n",
       "    </tr>\n",
       "    <tr>\n",
       "      <th class=\"index_name level0\" >Model</th>\n",
       "      <th class=\"blank col0\" >&nbsp;</th>\n",
       "      <th class=\"blank col1\" >&nbsp;</th>\n",
       "      <th class=\"blank col2\" >&nbsp;</th>\n",
       "      <th class=\"blank col3\" >&nbsp;</th>\n",
       "    </tr>\n",
       "  </thead>\n",
       "  <tbody>\n",
       "    <tr>\n",
       "      <th id=\"T_aa865_level0_row0\" class=\"row_heading level0 row0\" >Gemini</th>\n",
       "      <td id=\"T_aa865_row0_col0\" class=\"data row0 col0\" >67.00%</td>\n",
       "      <td id=\"T_aa865_row0_col1\" class=\"data row0 col1\" >36.75%</td>\n",
       "      <td id=\"T_aa865_row0_col2\" class=\"data row0 col2\" >83.50%</td>\n",
       "      <td id=\"T_aa865_row0_col3\" class=\"data row0 col3\" >51.04%</td>\n",
       "    </tr>\n",
       "    <tr>\n",
       "      <th id=\"T_aa865_level0_row1\" class=\"row_heading level0 row1\" >GPT-4o</th>\n",
       "      <td id=\"T_aa865_row1_col0\" class=\"data row1 col0\" >80.60%</td>\n",
       "      <td id=\"T_aa865_row1_col1\" class=\"data row1 col1\" >53.49%</td>\n",
       "      <td id=\"T_aa865_row1_col2\" class=\"data row1 col2\" >44.66%</td>\n",
       "      <td id=\"T_aa865_row1_col3\" class=\"data row1 col3\" >48.68%</td>\n",
       "    </tr>\n",
       "    <tr>\n",
       "      <th id=\"T_aa865_level0_row2\" class=\"row_heading level0 row2\" >Deepseek</th>\n",
       "      <td id=\"T_aa865_row2_col0\" class=\"data row2 col0\" >66.60%</td>\n",
       "      <td id=\"T_aa865_row2_col1\" class=\"data row2 col1\" >32.61%</td>\n",
       "      <td id=\"T_aa865_row2_col2\" class=\"data row2 col2\" >58.25%</td>\n",
       "      <td id=\"T_aa865_row2_col3\" class=\"data row2 col3\" >41.81%</td>\n",
       "    </tr>\n",
       "  </tbody>\n",
       "</table>\n"
      ],
      "text/plain": [
       "<pandas.io.formats.style.Styler at 0x17bf15ca0>"
      ]
     },
     "execution_count": 6,
     "metadata": {},
     "output_type": "execute_result"
    }
   ],
   "source": [
    "from sklearn.metrics import precision_score, recall_score\n",
    "\n",
    "# Accuracy\n",
    "GPT_accuracy = (GPT_predictions == y_label).mean()\n",
    "Gemini_accuracy = (Gemini_predictions == y_label).mean()\n",
    "Deepseek_accuracy = (Deepseek_predictions == y_label).mean()\n",
    "# Precision and Recall\n",
    "GPT_precision = precision_score(y_label, GPT_predictions)\n",
    "GPT_recall = recall_score(y_label, GPT_predictions)\n",
    "Gemini_precision = precision_score(y_label, Gemini_predictions)\n",
    "Gemini_recall = recall_score(y_label, Gemini_predictions)\n",
    "Deepseek_precision = precision_score(y_label, Deepseek_predictions)\n",
    "Deepseek_recall = recall_score(y_label, Deepseek_predictions)\n",
    "from sklearn.metrics import f1_score, classification_report\n",
    "GPT_f1 = f1_score(y_label, GPT_predictions)\n",
    "Gemini_f1 = f1_score(y_label, Gemini_predictions)\n",
    "Deepseek_f1 = f1_score(y_label, Deepseek_predictions)\n",
    "\n",
    "print(\"GPT-4o Classification Report:\\n\", classification_report(y_label, GPT_predictions))\n",
    "print(\"Gemini Classification Report:\\n\", classification_report(y_label, Gemini_predictions))\n",
    "print(\"Deepseek Classification Report:\\n\", classification_report(y_label, Deepseek_predictions))\n",
    "\n",
    "\n",
    "results = pd.DataFrame({\n",
    "    'Model': ['Gemini', 'GPT-4o', 'Deepseek'],\n",
    "    'Accuracy': [Gemini_accuracy, GPT_accuracy, Deepseek_accuracy],\n",
    "    'Precision': [Gemini_precision, GPT_precision, Deepseek_precision],\n",
    "    'Recall': [Gemini_recall, GPT_recall, Deepseek_recall],\n",
    "    'F1 Score': [Gemini_f1, GPT_f1, Deepseek_f1]\n",
    "})\n",
    "results = results.set_index('Model')\n",
    "results = results.style.format({\n",
    "    'Accuracy': '{:.2%}',\n",
    "    'Precision': '{:.2%}',\n",
    "    'Recall': '{:.2%}',\n",
    "    'F1 Score': '{:.2%}'\n",
    "})\n",
    "results"
   ]
  },
  {
   "cell_type": "code",
   "execution_count": 15,
   "id": "7eefed0b",
   "metadata": {},
   "outputs": [
    {
     "data": {
      "image/png": "[encoded data removed]",
      "text/plain": [
       "<Figure size 1000x600 with 1 Axes>"
      ]
     },
     "metadata": {},
     "output_type": "display_data"
    }
   ],
   "source": [
    "import matplotlib.pyplot as plt\n",
    "\n",
    "# Use a colorblind-friendly palette\n",
    "color_palette = ['#0072B2', '#E69F00', '#56B4E9', '#999999']  # blue, orange, light blue, gray\n",
    "\n",
    "results_df.plot(\n",
    "    kind='bar',\n",
    "    figsize=(10, 6),\n",
    "    color=color_palette[:len(results_df.columns)]\n",
    ")\n",
    "plt.xlabel('Model', fontsize=14)\n",
    "plt.ylabel('Score', fontsize=14)\n",
    "plt.title('Model Comparison: Accuracy, Precision, Recall, F1 Score', fontsize=16)\n",
    "plt.xticks(fontsize=12, rotation = 0)\n",
    "plt.yticks(fontsize=12)\n",
    "plt.ylim(0, 1)\n",
    "plt.legend(loc='upper right')\n",
    "plt.tight_layout()\n",
    "plt.show()"
   ]
  },
  {
   "cell_type": "code",
   "execution_count": 16,
   "id": "d0c17b4a",
   "metadata": {},
   "outputs": [
    {
     "name": "stdout",
     "output_type": "stream",
     "text": [
      "Samples where Deepseek and GPT agree but differ from Gemini:\n"
     ]
    },
    {
     "data": {
      "application/vnd.microsoft.datawrangler.viewer.v0+json": {
       "columns": [
        {
         "name": "index",
         "rawType": "int64",
         "type": "integer"
        },
        {
         "name": "Comment",
         "rawType": "object",
         "type": "string"
        },
        {
         "name": "Annotation",
         "rawType": "int64",
         "type": "integer"
        }
       ],
       "ref": "f81628af-006d-41b7-afe0-172a5b3e5740",
       "rows": [
        [
         "7",
         "​Tu Siriya se bhaga tha​😂",
         "0"
        ],
        [
         "8",
         "Can this RRR man can be priest for a day in any mandir?",
         "1"
        ],
        [
         "22",
         "Bhai in netaon ke chakkar mein padogay toh yeh saale apas mein hi ladvayeingay. Apne aap se mtalb rkho, khush rhogay",
         "1"
        ],
        [
         "45",
         "बोद्ध धर्म हि समानता दे सकता हे",
         "0"
        ],
        [
         "56",
         "he said his teacher insulted him by calling him chamar not that he's chamar.",
         "1"
        ],
        [
         "79",
         "Socho ager sbhi sfai kerna chod de socho ager koi in mre hur janwaron ko ese hi rehne de ? socho kya hoga isse",
         "1"
        ],
        [
         "98",
         "संघ केवल ऊंची जातियों के लिए है तभी तो संघ में का हेड कोई दलित नही बना",
         "1"
        ],
        [
         "101",
         "Hindu religion is based on discrimination and bhedbhaw.. It's necessary in Hindu religion",
         "1"
        ],
        [
         "104",
         "BBC ko bharat me ban kardena chahiye BBC biased he",
         "0"
        ],
        [
         "105",
         "Sahi kiya hai sc samoday ne",
         "1"
        ],
        [
         "106",
         "Why they temple? Highly brainwashed innocence people and accepting themselves as Dalits due to evil environment socially and political also. Hypocrite nonsense people should be banned, who believe in superstition, activities, discrimination, exploitation illogical mindset 👹🐸. \n\nIt's happening due to poor education system and corrupt politics 🐸, intellectual mindset people should take strict action against evil society.",
         "1"
        ],
        [
         "107",
         "British era made the new religion Hinduism 160 years ago. Hindus were a minority as a new copy cat religion. The Chandalas and athishudras were paper converted to make for majority in votes.",
         "1"
        ],
        [
         "110",
         "यहां से आगे यही होगा तुम मत रोको कोई नहीं रोकेगा",
         "1"
        ],
        [
         "111",
         "to sc st pe anayay karna band kardo ,unko respect do,\nAur jo dharma granth ye jatiwad failate hai unhe jala ke phekdo,\nJatiwad khatam ho gaya to koi act hi nahi rahega aur koi case hi nahi banega ,\nNa rahega baas na bajegi basuri",
         "1"
        ],
        [
         "114",
         "ठाकुर समाज  तो Jatvo को हिन्दू नहीं मानते",
         "1"
        ],
        [
         "127",
         "Bilkul sahi Kiya dalit bhajan unke sath Bhi Tum log Kitna galat vyavhar karte ho abhi to socho",
         "1"
        ],
        [
         "137",
         "कुछ भी हो जाता है वापस तो नहीं होता खुली दमकी, बात करते हैं बटोगे तो काटोगे",
         "1"
        ],
        [
         "138",
         "समानता कहां है हिन्दुओं में दलितों को हमेशा घृणित दृष्टि से देखा जाता है अत्याचार किए जाते हैं तो समानता कहां है।",
         "1"
        ],
        [
         "146",
         "Jab tak ye village me rahenge tab rak ye samnati manuwadi jatiwadi gunnde jatiwad karenge inme himmat nahi larne ki , pado likho bolo pistal lati Dante hockey stick rakho aur city ma aao",
         "1"
        ],
        [
         "154",
         "2016 और 2017 का विडियो दिखा कर आज के चुनाव को क्या करना चाह रहे ,और पालघर में जो साधुओं को मारा उस पर क्यू नही विडियो बनाते मुस्लिम ने कुछ नही किया हिन्दू लोगो के लिए क्या इसे कोई क्राइम नही हुआ 2016 के बाद",
         "1"
        ],
        [
         "155",
         "Sabse zyada ST/SC act OBC pe hi lagte hai . Dalit galat faida bhi uthaate hai iss act ka .",
         "1"
        ],
        [
         "183",
         "why you are not going Pakistani Hindu situation.cover so many temple convert into meat shop.😮😮😮😮😮😮",
         "1"
        ],
        [
         "185",
         "Jiski jativadi ki mansikta he wo dosti se dur rahe wo accha he . Mere to bahut se dost he jo general se he .. bhai .. unko koi dikkat hi nai.   Jiski mansikta ho wo.   Dur hi rahenge jab bolenge tab to lagega na",
         "1"
        ],
        [
         "200",
         "This is the reason why many extremely talented Indian youth are migrating to other foreign countries because those foreign countries does not believe in all this shit(caste system).I personally hate India.",
         "1"
        ],
        [
         "201",
         "Red & Blue need to combine to overthrow saffron once & for all....jai bhim laal salaam",
         "1"
        ],
        [
         "203",
         "No bhrahmins are also responsible in this",
         "1"
        ],
        [
         "207",
         "wow so the brahmins intentionally contaminated the water dalits drink???  Noone is talking about that?",
         "1"
        ],
        [
         "212",
         "Fir in saalo Ko hindutav me unity chahie aise Ni aati unity ek samaj me....unity or equality dono sath sath le jaane ki jarurat h",
         "1"
        ],
        [
         "228",
         "Convert to Buddhism the most peaceful religion \nLive live with dignity, get education work hard \nHelp other underprivileged \nAnd stay away from Hindu extremists they will never change.",
         "1"
        ],
        [
         "237",
         "Wah ye hei hamara Bharat jaha insaniyt Nam ki chiz nahi hai Jay bhim",
         "1"
        ],
        [
         "239",
         "Obc sc ki koi ijat nahi hai is desh me",
         "1"
        ],
        [
         "255",
         "इन्को दलीत सिर्फ व्होटिंग के टाइम पर याद आते है",
         "1"
        ],
        [
         "265",
         "आपको पता है मैडम भ्रमण और ठाकुरो और गुज्जर जाटों के बाद कोन दलितों के साथ सबसे जायदा भेदभाव करता है मुसलमान ये बात सच है। खैर गुज्जर जाट खुद भूल जाते है की वो भी एक दलित कम्युनिटी से आते है। खुद अपने ही लोगो के साथ जातिवाद करते है",
         "1"
        ],
        [
         "274",
         "सवर्ण की संख्या बहुत कम दूसरी अधिकतर की स्थिति खराब हैं l कुछ लोगों के जाति के अहंकार में जो कमा खा रहे हैं उनका जीवन नर्क न बनायें l भगवान के चक्कर में इन्सान का सत्यानाश मत करो l",
         "1"
        ],
        [
         "275",
         "इस टॉपिक पर बीबीसी वालों को मजा आता है दूसरे देश में हिंसा कनारे में ये लोग अपने देश में कुछ नहीं बोलते",
         "1"
        ],
        [
         "277",
         "Fake h Yeh sab brainwash kr rhe h",
         "1"
        ],
        [
         "294",
         "Many sunnis blasting bombs in shia masjids(recent example of afganistan)\nOr ahmedies ko jine ka hi hadikar nhi",
         "1"
        ],
        [
         "306",
         "सहारनपुर में अब तक 50 से ज्यादा वंचित समाज के चमार घायल हुए है जिनमे सबके ऊपर #तलवार, #बंदूक, और #आगजनी करके हमला किया गया । 2 कि #मौत हुई है वो भी वंचित समाज के , घर जले वो भी वंचित समाज के , लूट हुई वो भी #वंचित समाज के , 70 लोग जेल में हैं वो भी #वंचित समाज के , #ndtv , #zee न्यूज़ और भी #ब्राह्मणवादी मीडिया ये दिखा रहा है कि सब भीम आर्मी करवा रही है। #प्रशासन में बैठे #एसएसपी #सुभाषचंद्रदुबे बयान देते हैं कि ठाकुरों के ऊपर अत्त्याचार हो रहा है। और हैम #उपद्रवियो पर कार्यवाही कर रहे हैं #उपद्रवी यानी #वंचित समाज के बच्चे । अब आप ही बताओ जिसके पास #तलवार है, जिसके साथ #प्रशासन है, जिसके पास #बंदूक है और #पेट्रोलबम है वो #ठाकुर #शांतिप्रिय और जो #संविधानिक तरीके से अपने लिए #इंसाफ मांग रहे हैं वो #उपद्रवी। \nजातिवादी #बीजेपी और जातिवादी #DM, #SSP पर सबसे पहले एकतरफा कार्यवाही के लिए कड़ी सजा मिलनी चाहिए। साथ ही #ब्राह्मणवादी#मीडिया को बैन करने चाहिए।\n#UPमेंJANGALRAJ यही है असली #रामराज\nकहा गया #मानवाधिकारआयोग #महिलाआयोग #scstआयोग #बीजेपीकेदलितदलाल \nक्या #वंचितसमाज के लिए कोई आयोग है इस देश मे??????????",
         "1"
        ],
        [
         "311",
         "Jab kisi ko sataoge tabhi toh koi kuch action lega...tumne kudh bola dawe kuchle log..matlb manate ho na ki soshan aur atyachar karte ho tum log. \nAur bad me sadhu sant bankar bolte ho act galat hai.",
         "1"
        ],
        [
         "313",
         "mirchpur kand m y chupthe",
         "1"
        ],
        [
         "319",
         "धार्मिक कलश यात्रा का परमिशन जब नहीं था क्यों निकला ईट का जवाब पत्थर से",
         "1"
        ],
        [
         "325",
         "Ambedkar or Ravidas k paero ko dho ke paani peete the Saharanpur k log jo murdabad bol rhe hai",
         "1"
        ],
        [
         "336",
         "सेना मे कितनी संख्या है अम्बेडकर भक्तों की देश की रक्षा हम करे और और राज करेंगे अम्बेडकर वादी आतंकवादि यह नही चलेगा पूरे देश मे सैनिक शासन लागू होगा और मनुस्मृति भी लागू होगा भीड़तंत्र अब खत्म होने वाला है सैनिक तंत्र लागू होने वाला है",
         "1"
        ],
        [
         "342",
         "Aaj ke Samy par Hindu hona SC. ST. OBC. samaj ka ko dharm ki chatni chahta kar janvaron se batar jindagi   jina hai .\ntarkshil Bano andhbhakt nahi.\nJago bahujan Jago 🙏🙏🙏",
         "1"
        ],
        [
         "343",
         "ठाकुर समाज के लोग ऐसे बात कर रहे है जैसे इन लोगों जैसा कोई अच्छा इंसान है ही नहीं।\nक्या यदि अम्बेडकर जयंती की शोभा यात्रा नहीं निकला है तो कभी निकलेगा ही नहीं।\nशर्म करो ठाकुर समाज के कुछ उपद्रवियों लोग।\nयदि तुम लोगों के लिए भागवत गीता धार्मिक है तो हम लोगों के लिए भी बाबा साहेब का जन्मदिवस धार्मिक है।",
         "1"
        ],
        [
         "352",
         "main bhi general and maine jaatiwad dekha hai. Reservation ka excuse deke. Waise SC se jyada mujhe OBC reservation se gussa hai. Inko kyu mili? lekin jaatiwad ke karan OBC se koi kuch nahi bolta, SC ko bolte hai!",
         "1"
        ],
        [
         "354",
         "Sahi kiya dalit to ke sath",
         "1"
        ],
        [
         "357",
         "OBC bhaiyo aaplog beech mein mat aaiye ham SC ST enn savarno ko dekh lenge",
         "1"
        ],
        [
         "360",
         "Kya oochh aur nich ki baaat kar rahe hey yeh log kya dalit insan nahi hey kya dalit bahar ke desh se Aaaya kya dalit Indian nahi hey kyu dalit ko nich lahe kar uska Upman kiya jata hey",
         "1"
        ],
        [
         "362",
         "bro wo log rajput hai. Unke connection hote hai wo bail le lenge aur fir hum ko fir pareshan karenge",
         "1"
        ]
       ],
       "shape": {
        "columns": 2,
        "rows": 73
       }
      },
      "text/html": [
       "<div>\n",
       "<style scoped>\n",
       "    .dataframe tbody tr th:only-of-type {\n",
       "        vertical-align: middle;\n",
       "    }\n",
       "\n",
       "    .dataframe tbody tr th {\n",
       "        vertical-align: top;\n",
       "    }\n",
       "\n",
       "    .dataframe thead th {\n",
       "        text-align: right;\n",
       "    }\n",
       "</style>\n",
       "<table border=\"1\" class=\"dataframe\">\n",
       "  <thead>\n",
       "    <tr style=\"text-align: right;\">\n",
       "      <th></th>\n",
       "      <th>Comment</th>\n",
       "      <th>Annotation</th>\n",
       "    </tr>\n",
       "  </thead>\n",
       "  <tbody>\n",
       "    <tr>\n",
       "      <th>7</th>\n",
       "      <td>​Tu Siriya se bhaga tha​😂</td>\n",
       "      <td>0</td>\n",
       "    </tr>\n",
       "    <tr>\n",
       "      <th>8</th>\n",
       "      <td>Can this RRR man can be priest for a day in an...</td>\n",
       "      <td>1</td>\n",
       "    </tr>\n",
       "    <tr>\n",
       "      <th>22</th>\n",
       "      <td>Bhai in netaon ke chakkar mein padogay toh yeh...</td>\n",
       "      <td>1</td>\n",
       "    </tr>\n",
       "    <tr>\n",
       "      <th>45</th>\n",
       "      <td>बोद्ध धर्म हि समानता दे सकता हे</td>\n",
       "      <td>0</td>\n",
       "    </tr>\n",
       "    <tr>\n",
       "      <th>56</th>\n",
       "      <td>he said his teacher insulted him by calling hi...</td>\n",
       "      <td>1</td>\n",
       "    </tr>\n",
       "    <tr>\n",
       "      <th>...</th>\n",
       "      <td>...</td>\n",
       "      <td>...</td>\n",
       "    </tr>\n",
       "    <tr>\n",
       "      <th>483</th>\n",
       "      <td>Hota hai kahe pe apne yaha pe to thakur barat ...</td>\n",
       "      <td>1</td>\n",
       "    </tr>\n",
       "    <tr>\n",
       "      <th>486</th>\n",
       "      <td>दलित हजारों सालों से पिट रहे हैं मगर फिर भी हि...</td>\n",
       "      <td>1</td>\n",
       "    </tr>\n",
       "    <tr>\n",
       "      <th>487</th>\n",
       "      <td>Sc st OBC vs Thakur wadi sarkar</td>\n",
       "      <td>1</td>\n",
       "    </tr>\n",
       "    <tr>\n",
       "      <th>488</th>\n",
       "      <td>OBC SC ko prataadit karta hai, SC OBC milkar m...</td>\n",
       "      <td>1</td>\n",
       "    </tr>\n",
       "    <tr>\n",
       "      <th>492</th>\n",
       "      <td>Fight again again  my son  join another  religion</td>\n",
       "      <td>1</td>\n",
       "    </tr>\n",
       "  </tbody>\n",
       "</table>\n",
       "<p>73 rows × 2 columns</p>\n",
       "</div>"
      ],
      "text/plain": [
       "                                               Comment  Annotation\n",
       "7                            ​Tu Siriya se bhaga tha​😂           0\n",
       "8    Can this RRR man can be priest for a day in an...           1\n",
       "22   Bhai in netaon ke chakkar mein padogay toh yeh...           1\n",
       "45                     बोद्ध धर्म हि समानता दे सकता हे           0\n",
       "56   he said his teacher insulted him by calling hi...           1\n",
       "..                                                 ...         ...\n",
       "483  Hota hai kahe pe apne yaha pe to thakur barat ...           1\n",
       "486  दलित हजारों सालों से पिट रहे हैं मगर फिर भी हि...           1\n",
       "487                    Sc st OBC vs Thakur wadi sarkar           1\n",
       "488  OBC SC ko prataadit karta hai, SC OBC milkar m...           1\n",
       "492  Fight again again  my son  join another  religion           1\n",
       "\n",
       "[73 rows x 2 columns]"
      ]
     },
     "execution_count": 16,
     "metadata": {},
     "output_type": "execute_result"
    }
   ],
   "source": [
    "#Get the rows in which annotation are same for Deepseek and GPT but different for Gemini\n",
    "\n",
    "same_for_deepseek_gpt = (Deepseek_predictions == GPT_predictions) & (Deepseek_predictions != Gemini_predictions)\n",
    "# Filter the Sample_annotation DataFrame based on the condition\n",
    "filtered_samples = Gemini[same_for_deepseek_gpt]\n",
    "# Display the filtered samples\n",
    "print(\"Samples where Deepseek and GPT agree but differ from Gemini:\")\n",
    "filtered_samples"
   ]
  },
  {
   "cell_type": "code",
   "execution_count": 17,
   "id": "b03a2720",
   "metadata": {},
   "outputs": [
    {
     "data": {
      "application/vnd.microsoft.datawrangler.viewer.v0+json": {
       "columns": [
        {
         "name": "index",
         "rawType": "int64",
         "type": "integer"
        },
        {
         "name": "Comment",
         "rawType": "object",
         "type": "string"
        },
        {
         "name": "Annotation",
         "rawType": "int64",
         "type": "integer"
        }
       ],
       "ref": "afeb362d-2698-48fa-ab8d-278db6bb8ce2",
       "rows": [
        [
         "7",
         "​Tu Siriya se bhaga tha​😂",
         "0"
        ],
        [
         "8",
         "Can this RRR man can be priest for a day in any mandir?",
         "1"
        ],
        [
         "22",
         "Bhai in netaon ke chakkar mein padogay toh yeh saale apas mein hi ladvayeingay. Apne aap se mtalb rkho, khush rhogay",
         "1"
        ],
        [
         "45",
         "बोद्ध धर्म हि समानता दे सकता हे",
         "0"
        ],
        [
         "56",
         "he said his teacher insulted him by calling him chamar not that he's chamar.",
         "1"
        ],
        [
         "79",
         "Socho ager sbhi sfai kerna chod de socho ager koi in mre hur janwaron ko ese hi rehne de ? socho kya hoga isse",
         "1"
        ],
        [
         "98",
         "संघ केवल ऊंची जातियों के लिए है तभी तो संघ में का हेड कोई दलित नही बना",
         "1"
        ],
        [
         "101",
         "Hindu religion is based on discrimination and bhedbhaw.. It's necessary in Hindu religion",
         "1"
        ],
        [
         "104",
         "BBC ko bharat me ban kardena chahiye BBC biased he",
         "0"
        ],
        [
         "105",
         "Sahi kiya hai sc samoday ne",
         "1"
        ],
        [
         "106",
         "Why they temple? Highly brainwashed innocence people and accepting themselves as Dalits due to evil environment socially and political also. Hypocrite nonsense people should be banned, who believe in superstition, activities, discrimination, exploitation illogical mindset 👹🐸. \n\nIt's happening due to poor education system and corrupt politics 🐸, intellectual mindset people should take strict action against evil society.",
         "1"
        ],
        [
         "107",
         "British era made the new religion Hinduism 160 years ago. Hindus were a minority as a new copy cat religion. The Chandalas and athishudras were paper converted to make for majority in votes.",
         "1"
        ],
        [
         "110",
         "यहां से आगे यही होगा तुम मत रोको कोई नहीं रोकेगा",
         "1"
        ],
        [
         "111",
         "to sc st pe anayay karna band kardo ,unko respect do,\nAur jo dharma granth ye jatiwad failate hai unhe jala ke phekdo,\nJatiwad khatam ho gaya to koi act hi nahi rahega aur koi case hi nahi banega ,\nNa rahega baas na bajegi basuri",
         "1"
        ],
        [
         "114",
         "ठाकुर समाज  तो Jatvo को हिन्दू नहीं मानते",
         "1"
        ],
        [
         "127",
         "Bilkul sahi Kiya dalit bhajan unke sath Bhi Tum log Kitna galat vyavhar karte ho abhi to socho",
         "1"
        ],
        [
         "137",
         "कुछ भी हो जाता है वापस तो नहीं होता खुली दमकी, बात करते हैं बटोगे तो काटोगे",
         "1"
        ],
        [
         "138",
         "समानता कहां है हिन्दुओं में दलितों को हमेशा घृणित दृष्टि से देखा जाता है अत्याचार किए जाते हैं तो समानता कहां है।",
         "1"
        ],
        [
         "146",
         "Jab tak ye village me rahenge tab rak ye samnati manuwadi jatiwadi gunnde jatiwad karenge inme himmat nahi larne ki , pado likho bolo pistal lati Dante hockey stick rakho aur city ma aao",
         "1"
        ],
        [
         "154",
         "2016 और 2017 का विडियो दिखा कर आज के चुनाव को क्या करना चाह रहे ,और पालघर में जो साधुओं को मारा उस पर क्यू नही विडियो बनाते मुस्लिम ने कुछ नही किया हिन्दू लोगो के लिए क्या इसे कोई क्राइम नही हुआ 2016 के बाद",
         "1"
        ],
        [
         "155",
         "Sabse zyada ST/SC act OBC pe hi lagte hai . Dalit galat faida bhi uthaate hai iss act ka .",
         "1"
        ],
        [
         "183",
         "why you are not going Pakistani Hindu situation.cover so many temple convert into meat shop.😮😮😮😮😮😮",
         "1"
        ],
        [
         "185",
         "Jiski jativadi ki mansikta he wo dosti se dur rahe wo accha he . Mere to bahut se dost he jo general se he .. bhai .. unko koi dikkat hi nai.   Jiski mansikta ho wo.   Dur hi rahenge jab bolenge tab to lagega na",
         "1"
        ],
        [
         "200",
         "This is the reason why many extremely talented Indian youth are migrating to other foreign countries because those foreign countries does not believe in all this shit(caste system).I personally hate India.",
         "1"
        ],
        [
         "201",
         "Red & Blue need to combine to overthrow saffron once & for all....jai bhim laal salaam",
         "1"
        ],
        [
         "203",
         "No bhrahmins are also responsible in this",
         "1"
        ],
        [
         "207",
         "wow so the brahmins intentionally contaminated the water dalits drink???  Noone is talking about that?",
         "1"
        ],
        [
         "212",
         "Fir in saalo Ko hindutav me unity chahie aise Ni aati unity ek samaj me....unity or equality dono sath sath le jaane ki jarurat h",
         "1"
        ],
        [
         "228",
         "Convert to Buddhism the most peaceful religion \nLive live with dignity, get education work hard \nHelp other underprivileged \nAnd stay away from Hindu extremists they will never change.",
         "1"
        ],
        [
         "237",
         "Wah ye hei hamara Bharat jaha insaniyt Nam ki chiz nahi hai Jay bhim",
         "1"
        ],
        [
         "239",
         "Obc sc ki koi ijat nahi hai is desh me",
         "1"
        ],
        [
         "255",
         "इन्को दलीत सिर्फ व्होटिंग के टाइम पर याद आते है",
         "1"
        ],
        [
         "265",
         "आपको पता है मैडम भ्रमण और ठाकुरो और गुज्जर जाटों के बाद कोन दलितों के साथ सबसे जायदा भेदभाव करता है मुसलमान ये बात सच है। खैर गुज्जर जाट खुद भूल जाते है की वो भी एक दलित कम्युनिटी से आते है। खुद अपने ही लोगो के साथ जातिवाद करते है",
         "1"
        ],
        [
         "274",
         "सवर्ण की संख्या बहुत कम दूसरी अधिकतर की स्थिति खराब हैं l कुछ लोगों के जाति के अहंकार में जो कमा खा रहे हैं उनका जीवन नर्क न बनायें l भगवान के चक्कर में इन्सान का सत्यानाश मत करो l",
         "1"
        ],
        [
         "275",
         "इस टॉपिक पर बीबीसी वालों को मजा आता है दूसरे देश में हिंसा कनारे में ये लोग अपने देश में कुछ नहीं बोलते",
         "1"
        ],
        [
         "277",
         "Fake h Yeh sab brainwash kr rhe h",
         "1"
        ],
        [
         "294",
         "Many sunnis blasting bombs in shia masjids(recent example of afganistan)\nOr ahmedies ko jine ka hi hadikar nhi",
         "1"
        ],
        [
         "306",
         "सहारनपुर में अब तक 50 से ज्यादा वंचित समाज के चमार घायल हुए है जिनमे सबके ऊपर #तलवार, #बंदूक, और #आगजनी करके हमला किया गया । 2 कि #मौत हुई है वो भी वंचित समाज के , घर जले वो भी वंचित समाज के , लूट हुई वो भी #वंचित समाज के , 70 लोग जेल में हैं वो भी #वंचित समाज के , #ndtv , #zee न्यूज़ और भी #ब्राह्मणवादी मीडिया ये दिखा रहा है कि सब भीम आर्मी करवा रही है। #प्रशासन में बैठे #एसएसपी #सुभाषचंद्रदुबे बयान देते हैं कि ठाकुरों के ऊपर अत्त्याचार हो रहा है। और हैम #उपद्रवियो पर कार्यवाही कर रहे हैं #उपद्रवी यानी #वंचित समाज के बच्चे । अब आप ही बताओ जिसके पास #तलवार है, जिसके साथ #प्रशासन है, जिसके पास #बंदूक है और #पेट्रोलबम है वो #ठाकुर #शांतिप्रिय और जो #संविधानिक तरीके से अपने लिए #इंसाफ मांग रहे हैं वो #उपद्रवी। \nजातिवादी #बीजेपी और जातिवादी #DM, #SSP पर सबसे पहले एकतरफा कार्यवाही के लिए कड़ी सजा मिलनी चाहिए। साथ ही #ब्राह्मणवादी#मीडिया को बैन करने चाहिए।\n#UPमेंJANGALRAJ यही है असली #रामराज\nकहा गया #मानवाधिकारआयोग #महिलाआयोग #scstआयोग #बीजेपीकेदलितदलाल \nक्या #वंचितसमाज के लिए कोई आयोग है इस देश मे??????????",
         "1"
        ],
        [
         "311",
         "Jab kisi ko sataoge tabhi toh koi kuch action lega...tumne kudh bola dawe kuchle log..matlb manate ho na ki soshan aur atyachar karte ho tum log. \nAur bad me sadhu sant bankar bolte ho act galat hai.",
         "1"
        ],
        [
         "313",
         "mirchpur kand m y chupthe",
         "1"
        ],
        [
         "319",
         "धार्मिक कलश यात्रा का परमिशन जब नहीं था क्यों निकला ईट का जवाब पत्थर से",
         "1"
        ],
        [
         "325",
         "Ambedkar or Ravidas k paero ko dho ke paani peete the Saharanpur k log jo murdabad bol rhe hai",
         "1"
        ],
        [
         "336",
         "सेना मे कितनी संख्या है अम्बेडकर भक्तों की देश की रक्षा हम करे और और राज करेंगे अम्बेडकर वादी आतंकवादि यह नही चलेगा पूरे देश मे सैनिक शासन लागू होगा और मनुस्मृति भी लागू होगा भीड़तंत्र अब खत्म होने वाला है सैनिक तंत्र लागू होने वाला है",
         "1"
        ],
        [
         "342",
         "Aaj ke Samy par Hindu hona SC. ST. OBC. samaj ka ko dharm ki chatni chahta kar janvaron se batar jindagi   jina hai .\ntarkshil Bano andhbhakt nahi.\nJago bahujan Jago 🙏🙏🙏",
         "1"
        ],
        [
         "343",
         "ठाकुर समाज के लोग ऐसे बात कर रहे है जैसे इन लोगों जैसा कोई अच्छा इंसान है ही नहीं।\nक्या यदि अम्बेडकर जयंती की शोभा यात्रा नहीं निकला है तो कभी निकलेगा ही नहीं।\nशर्म करो ठाकुर समाज के कुछ उपद्रवियों लोग।\nयदि तुम लोगों के लिए भागवत गीता धार्मिक है तो हम लोगों के लिए भी बाबा साहेब का जन्मदिवस धार्मिक है।",
         "1"
        ],
        [
         "352",
         "main bhi general and maine jaatiwad dekha hai. Reservation ka excuse deke. Waise SC se jyada mujhe OBC reservation se gussa hai. Inko kyu mili? lekin jaatiwad ke karan OBC se koi kuch nahi bolta, SC ko bolte hai!",
         "1"
        ],
        [
         "354",
         "Sahi kiya dalit to ke sath",
         "1"
        ],
        [
         "357",
         "OBC bhaiyo aaplog beech mein mat aaiye ham SC ST enn savarno ko dekh lenge",
         "1"
        ],
        [
         "360",
         "Kya oochh aur nich ki baaat kar rahe hey yeh log kya dalit insan nahi hey kya dalit bahar ke desh se Aaaya kya dalit Indian nahi hey kyu dalit ko nich lahe kar uska Upman kiya jata hey",
         "1"
        ],
        [
         "362",
         "bro wo log rajput hai. Unke connection hote hai wo bail le lenge aur fir hum ko fir pareshan karenge",
         "1"
        ]
       ],
       "shape": {
        "columns": 2,
        "rows": 73
       }
      },
      "text/html": [
       "<div>\n",
       "<style scoped>\n",
       "    .dataframe tbody tr th:only-of-type {\n",
       "        vertical-align: middle;\n",
       "    }\n",
       "\n",
       "    .dataframe tbody tr th {\n",
       "        vertical-align: top;\n",
       "    }\n",
       "\n",
       "    .dataframe thead th {\n",
       "        text-align: right;\n",
       "    }\n",
       "</style>\n",
       "<table border=\"1\" class=\"dataframe\">\n",
       "  <thead>\n",
       "    <tr style=\"text-align: right;\">\n",
       "      <th></th>\n",
       "      <th>Comment</th>\n",
       "      <th>Annotation</th>\n",
       "    </tr>\n",
       "  </thead>\n",
       "  <tbody>\n",
       "    <tr>\n",
       "      <th>7</th>\n",
       "      <td>​Tu Siriya se bhaga tha​😂</td>\n",
       "      <td>0</td>\n",
       "    </tr>\n",
       "    <tr>\n",
       "      <th>8</th>\n",
       "      <td>Can this RRR man can be priest for a day in an...</td>\n",
       "      <td>1</td>\n",
       "    </tr>\n",
       "    <tr>\n",
       "      <th>22</th>\n",
       "      <td>Bhai in netaon ke chakkar mein padogay toh yeh...</td>\n",
       "      <td>1</td>\n",
       "    </tr>\n",
       "    <tr>\n",
       "      <th>45</th>\n",
       "      <td>बोद्ध धर्म हि समानता दे सकता हे</td>\n",
       "      <td>0</td>\n",
       "    </tr>\n",
       "    <tr>\n",
       "      <th>56</th>\n",
       "      <td>he said his teacher insulted him by calling hi...</td>\n",
       "      <td>1</td>\n",
       "    </tr>\n",
       "    <tr>\n",
       "      <th>...</th>\n",
       "      <td>...</td>\n",
       "      <td>...</td>\n",
       "    </tr>\n",
       "    <tr>\n",
       "      <th>483</th>\n",
       "      <td>Hota hai kahe pe apne yaha pe to thakur barat ...</td>\n",
       "      <td>1</td>\n",
       "    </tr>\n",
       "    <tr>\n",
       "      <th>486</th>\n",
       "      <td>दलित हजारों सालों से पिट रहे हैं मगर फिर भी हि...</td>\n",
       "      <td>1</td>\n",
       "    </tr>\n",
       "    <tr>\n",
       "      <th>487</th>\n",
       "      <td>Sc st OBC vs Thakur wadi sarkar</td>\n",
       "      <td>1</td>\n",
       "    </tr>\n",
       "    <tr>\n",
       "      <th>488</th>\n",
       "      <td>OBC SC ko prataadit karta hai, SC OBC milkar m...</td>\n",
       "      <td>1</td>\n",
       "    </tr>\n",
       "    <tr>\n",
       "      <th>492</th>\n",
       "      <td>Fight again again  my son  join another  religion</td>\n",
       "      <td>1</td>\n",
       "    </tr>\n",
       "  </tbody>\n",
       "</table>\n",
       "<p>73 rows × 2 columns</p>\n",
       "</div>"
      ],
      "text/plain": [
       "                                               Comment  Annotation\n",
       "7                            ​Tu Siriya se bhaga tha​😂           0\n",
       "8    Can this RRR man can be priest for a day in an...           1\n",
       "22   Bhai in netaon ke chakkar mein padogay toh yeh...           1\n",
       "45                     बोद्ध धर्म हि समानता दे सकता हे           0\n",
       "56   he said his teacher insulted him by calling hi...           1\n",
       "..                                                 ...         ...\n",
       "483  Hota hai kahe pe apne yaha pe to thakur barat ...           1\n",
       "486  दलित हजारों सालों से पिट रहे हैं मगर फिर भी हि...           1\n",
       "487                    Sc st OBC vs Thakur wadi sarkar           1\n",
       "488  OBC SC ko prataadit karta hai, SC OBC milkar m...           1\n",
       "492  Fight again again  my son  join another  religion           1\n",
       "\n",
       "[73 rows x 2 columns]"
      ]
     },
     "execution_count": 17,
     "metadata": {},
     "output_type": "execute_result"
    }
   ],
   "source": [
    "filtered_samples"
   ]
  }
 ],
 "metadata": {
  "kernelspec": {
   "display_name": "base",
   "language": "python",
   "name": "python3"
  },
  "language_info": {
   "codemirror_mode": {
    "name": "ipython",
    "version": 3
   },
   "file_extension": ".py",
   "mimetype": "text/x-python",
   "name": "python",
   "nbconvert_exporter": "python",
   "pygments_lexer": "ipython3",
   "version": "3.12.7"
  }
 },
 "nbformat": 4,
 "nbformat_minor": 5
}
