{
 "cells": [
  {
   "cell_type": "markdown",
   "metadata": {},
   "source": [
    "## Exploratory Data Analysis (EDA)"
   ]
  },
  {
   "cell_type": "code",
   "execution_count": 1,
   "metadata": {},
   "outputs": [],
   "source": [
    "import pandas as pd\n",
    "import matplotlib.pyplot as plt\n",
    "import seaborn as sns\n"
   ]
  },
  {
   "cell_type": "markdown",
   "metadata": {},
   "source": [
    "#### Import CSV File"
   ]
  },
  {
   "cell_type": "code",
   "execution_count": 2,
   "metadata": {},
   "outputs": [],
   "source": [
    "#get project directory\n",
    "import os\n",
    "project_root = os.path.abspath(os.path.join(os.getcwd(),\"..\"))\n",
    "\n",
    "file_path = os.path.join(project_root, 'Data Exploration/final_annotated_data.csv')\n",
    "seed_file = os.path.join(project_root, 'Data Annotation/Human Annotation/Sample_annotation.csv')\n",
    "df = pd.read_csv(file_path)\n",
    "seed_file_df = pd.read_csv(seed_file)"
   ]
  },
  {
   "cell_type": "markdown",
   "metadata": {},
   "source": [
    "#### Total number of rows"
   ]
  },
  {
   "cell_type": "code",
   "execution_count": 3,
   "metadata": {},
   "outputs": [],
   "source": [
    "df = pd.concat([df, seed_file_df], ignore_index=True)"
   ]
  },
  {
   "cell_type": "code",
   "execution_count": 4,
   "metadata": {},
   "outputs": [
    {
     "data": {
      "application/vnd.microsoft.datawrangler.viewer.v0+json": {
       "columns": [
        {
         "name": "index",
         "rawType": "object",
         "type": "string"
        },
        {
         "name": "0",
         "rawType": "int64",
         "type": "integer"
        }
       ],
       "ref": "4ce8cfac-9acd-4d61-898d-5de70ae4a674",
       "rows": [
        [
         "Comment",
         "5485"
        ],
        [
         "Annotation",
         "5460"
        ]
       ],
       "shape": {
        "columns": 1,
        "rows": 2
       }
      },
      "text/plain": [
       "Comment       5485\n",
       "Annotation    5460\n",
       "dtype: int64"
      ]
     },
     "execution_count": 4,
     "metadata": {},
     "output_type": "execute_result"
    }
   ],
   "source": [
    "df.count()"
   ]
  },
  {
   "cell_type": "markdown",
   "metadata": {},
   "source": [
    "#### Dropping the unlabelled comments"
   ]
  },
  {
   "cell_type": "code",
   "execution_count": 5,
   "metadata": {},
   "outputs": [
    {
     "data": {
      "application/vnd.microsoft.datawrangler.viewer.v0+json": {
       "columns": [
        {
         "name": "index",
         "rawType": "int64",
         "type": "integer"
        },
        {
         "name": "Comment",
         "rawType": "object",
         "type": "string"
        },
        {
         "name": "Annotation",
         "rawType": "object",
         "type": "string"
        }
       ],
       "ref": "49affd2a-aa9f-42e9-b516-1e66712a23bd",
       "rows": [
        [
         "0",
         "90% joote case hai .....sab peso ke liye lagate hai",
         "Not Hatespeech"
        ],
        [
         "1",
         "Suicide kar diya isne?",
         "Not Hatespeech"
        ],
        [
         "2",
         "To kar lo na sucide",
         "Not Hatespeech"
        ],
        [
         "3",
         "Tu bhai abhi billi bana h act ki wajah se kya pata pareshan karte time to maja aaya hoga koi SC St ese hi ni fasayega",
         "Hatespeech"
        ],
        [
         "4",
         "मरने से कुछ नहीं होता भाई जेल जाने से पहले उनको मार के जाना जिन्होंने आप पर झूठा केस लगाया है",
         "Hatespeech"
        ],
        [
         "5",
         "Yaar kya power full Act hai be ab dekhenge general wale ko ab 😂 bahut uchalata rehta hai",
         "Hatespeech"
        ],
        [
         "6",
         "Or jab general walo ne aapko dekhna start kr diya to😡😡",
         "Not Hatespeech"
        ],
        [
         "7",
         "kya dikhaye ga SC/ST act hai tumpe bhi lag sakta hai jyada uchalo mat",
         "Not Hatespeech"
        ],
        [
         "8",
         "Be vajah kese lag va dega",
         "Not Hatespeech"
        ],
        [
         "9",
         "Kuch harkat kri hogi",
         "Not Hatespeech"
        ],
        [
         "10",
         "jaatiwad ko badawa dena he aur kuch nahi",
         "Not Hatespeech"
        ],
        [
         "11",
         "Sc St act hatao 100 se 95 fake case krte hai ... Sc St wale sab se ladai krte hai phir jab innko maro to sc st act lagaa dette hai ..😒😒😒😒😡",
         "Hatespeech"
        ],
        [
         "12",
         "Sarkar ko chahiye ki iss act ko khatam krna chahiye iska durupyog bhut ho rha h",
         "Not Hatespeech"
        ],
        [
         "13",
         "Sir phale a log sc st ke haq kha gaye ab ro rahe hai inko bolo haq dao unke jo hadappa kar baith gaye a hai ghatya log phal in logo ne kari c",
         "Hatespeech"
        ],
        [
         "14",
         "Ro lo tum log hajaaro varshoo se jo atyachar krte rahe ho or ab randi rona kr rahe ho",
         "Hatespeech"
        ],
        [
         "15",
         "Meri sc st koi feelings nehi thi mein pehle unke upar sympathy rakhti thi jab mere pati ho false case mein ek aurat fasaya kuch paiso k liye isi liye tabse mujhe inse dosti aur sympathy sab khatam ho gaya",
         "Not Hatespeech"
        ],
        [
         "16",
         "Ohh.. madam sympathy....... Compassion... Kyu nahi dikhate...",
         "Not Hatespeech"
        ],
        [
         "17",
         "Kutti teri chahiye b nahi sympathy",
         "Hatespeech"
        ],
        [
         "18",
         "Mai bhi false case me fas chuka hu mam ...... ye kala kaanon hai",
         "Not Hatespeech"
        ],
        [
         "19",
         "Kisne kaha hai unse dosti kr apne jaat me jakar Mr na😂😂😂😂",
         "Hatespeech"
        ],
        [
         "20",
         "general caste walo k Mann mein koi caste feelings nehi rakhte kuch log gaon k honge par hum jaise log koi caste feelings nehi rakhte par sc st wale general caste walo k upar galat feelings rakhte hai",
         "Not Hatespeech"
        ],
        [
         "21",
         "ji nehi sab nehi hote kuch log jo samvidhan se jo special powder unhein Mila hai uska galat faida galat irada se utha rahe hai aur yeh bohot galat hai iss mein innocent people suffered ho rahe hai",
         "Not Hatespeech"
        ],
        [
         "22",
         "We were also convicted in false sc st act.",
         "Not Hatespeech"
        ],
        [
         "23",
         "Kuch log iss act ka galat fayda utha rahe hai agar defaming case ko strong banaya Jaye toh aise false case karne k liye 10 bar sochenge kebal sc st gareeb nehi hote kuch anya caste k log bhi gareeb hote hai kisi ek caste ko itna supreme power dena yeh galat hai nyaya both side honi chahiye aur evidence ko priority dena chahiye",
         "Not Hatespeech"
        ],
        [
         "24",
         "Aise hi Nahin Lagta SC ST act Jab Tum jaati Sojat Atyachar Karoge tab lagta hai SC ST act",
         "Not Hatespeech"
        ],
        [
         "25",
         "Sc st act should be removed from the constitution!",
         "Not Hatespeech"
        ],
        [
         "26",
         "सुसाइड 😂घनचक्कर sala जिसने लगाया use बर्बाद कर दे 😡उसके बाद मरना",
         "Hatespeech"
        ],
        [
         "27",
         "En n kha di va sach sa to court ku khol rkha h band kr do fr un m",
         "Hatespeech"
        ],
        [
         "28",
         "This act is good kyuki koi jatibad log kisi ko dabane ki koshish nahi kr payega Jo iss act to galat bolta hai wo chahte hai ki sc st k sath sosan hota rahe jabtak koi kuch krta nhi tab Tak koi sc st kuch bolta nahi hai ye act sahi hai",
         "Not Hatespeech"
        ],
        [
         "29",
         "Sc/st act is apartheid. Complete discrimination againt general caste.",
         "Hatespeech"
        ],
        [
         "30",
         "भाई तुम्हारे ऊपर एससी एक्ट इसलिए लगाया है क्योंकि तुमने पैसे नहीं दिए हो गए। अगर पैसे से तो ऐसे ही काम निपटा जाता। protection money deni hoti hai general obc walo ko",
         "Not Hatespeech"
        ],
        [
         "31",
         "Bhai pura to video dalna tha ye uncle ne ky kiye the pehele vo bhi pata kro bs sc st act ko blem krne se koi faida nai.... Pehele sc st walo k sathi ye uncle ne ky kiya vo bhi to dikho...",
         "Not Hatespeech"
        ],
        [
         "32",
         "कांड किये थे वह तो बताओ, चैरिटी काम किये थे क्या",
         "Not Hatespeech"
        ],
        [
         "33",
         "Sc st atrocity act permanent reservation ke karan meinay sc st ki  ladki se shaddi nahi kiya hu...jab ki mujhey wo bhohat pasand thi...",
         "Not Hatespeech"
        ],
        [
         "34",
         "Jay bhim jai bharat",
         "Not Hatespeech"
        ],
        [
         "35",
         "Ye baat toh pehle sochte toh sc st act maa lagta brahman gaaye😂😂😂",
         "Hatespeech"
        ],
        [
         "36",
         "Ye log jati suchak word bolke gali dete honge\nIssiliye case khaya h",
         "Not Hatespeech"
        ],
        [
         "37",
         "Om 🙏🏻🕉\nObc pe lagaate ho farzi नवबौद्ध",
         "Hatespeech"
        ],
        [
         "38",
         "Bhai koi ilaj batao is act ka please help me",
         "Not Hatespeech"
        ],
        [
         "39",
         "kisi muslim ,sikh ko sc/st se pareshani nahi\nKaro in manushmitri ke PHD balo ko parishani hai \nWah bhai👋👏",
         "Hatespeech"
        ],
        [
         "40",
         "Sc/st act obc pe hi lagta h",
         "Not Hatespeech"
        ],
        [
         "41",
         "Main sc hoon chalo bramhan salo😠 teri bahen se sadi karba de kisi sc/st ka",
         "Hatespeech"
        ],
        [
         "42",
         "Brahman nh wo poori video dekhlo",
         "Not Hatespeech"
        ],
        [
         "43",
         "भाइयों iska ek solution batana chahunga. Jab bhi aap pe sc ya st ka case lage aur apko lage ki apka law aur sambhidhaan bhi apka raksha nahi kar paa raha hai to kripya karke hathiyaar utha le. Sabse pahle fake act ko lagane waale aur uske khandaan ko goli maare. Jail to waise bhi jana hai. Bhimto ki gaand me goli maare. Aise karenge to aane waale future me ye randi ke bacche khud hi darenge fake case karne se",
         "Hatespeech"
        ],
        [
         "44",
         "Sucide हल नहीं है अगर जिंदगी ख़राब हो गयी है तो उसे ख़राब करके ही घर बार छोड़ना चाहिए बात समझ me आयी 😂",
         "Not Hatespeech"
        ],
        [
         "45",
         "सही बात है!",
         "Not Hatespeech"
        ],
        [
         "46",
         "काम ही ऐसा क्यों करते हो",
         "Not Hatespeech"
        ],
        [
         "47",
         "Tum farzi पंजाबी हो",
         "Not Hatespeech"
        ],
        [
         "48",
         "Ye bharat hai aur sawidhan bhi hai agar ye Sacha hai to darne ki jaroorat nhi agar galat hai to bachena nhi chahie. Uske sath koi galat karega to saza usko bhi milni chahiye. Garibo par atyachar hazaro versho se hote aaye hai tabhi to ACT bana verna kya jaroorat thi iski.",
         "Not Hatespeech"
        ],
        [
         "49",
         "Atyachar to muglo ne bhi bhut kiye angrejo ne bhi ki iska matlab ye nahi h ki Bhai abhi bhi hmlog usi bat me atke rhe",
         "Not Hatespeech"
        ]
       ],
       "shape": {
        "columns": 2,
        "rows": 5460
       }
      },
      "text/html": [
       "<div>\n",
       "<style scoped>\n",
       "    .dataframe tbody tr th:only-of-type {\n",
       "        vertical-align: middle;\n",
       "    }\n",
       "\n",
       "    .dataframe tbody tr th {\n",
       "        vertical-align: top;\n",
       "    }\n",
       "\n",
       "    .dataframe thead th {\n",
       "        text-align: right;\n",
       "    }\n",
       "</style>\n",
       "<table border=\"1\" class=\"dataframe\">\n",
       "  <thead>\n",
       "    <tr style=\"text-align: right;\">\n",
       "      <th></th>\n",
       "      <th>Comment</th>\n",
       "      <th>Annotation</th>\n",
       "    </tr>\n",
       "  </thead>\n",
       "  <tbody>\n",
       "    <tr>\n",
       "      <th>0</th>\n",
       "      <td>90% joote case hai .....sab peso ke liye lagat...</td>\n",
       "      <td>Not Hatespeech</td>\n",
       "    </tr>\n",
       "    <tr>\n",
       "      <th>1</th>\n",
       "      <td>Suicide kar diya isne?</td>\n",
       "      <td>Not Hatespeech</td>\n",
       "    </tr>\n",
       "    <tr>\n",
       "      <th>2</th>\n",
       "      <td>To kar lo na sucide</td>\n",
       "      <td>Not Hatespeech</td>\n",
       "    </tr>\n",
       "    <tr>\n",
       "      <th>3</th>\n",
       "      <td>Tu bhai abhi billi bana h act ki wajah se kya ...</td>\n",
       "      <td>Hatespeech</td>\n",
       "    </tr>\n",
       "    <tr>\n",
       "      <th>4</th>\n",
       "      <td>मरने से कुछ नहीं होता भाई जेल जाने से पहले उनक...</td>\n",
       "      <td>Hatespeech</td>\n",
       "    </tr>\n",
       "    <tr>\n",
       "      <th>...</th>\n",
       "      <td>...</td>\n",
       "      <td>...</td>\n",
       "    </tr>\n",
       "    <tr>\n",
       "      <th>5480</th>\n",
       "      <td>in agama shiva temple and Vishnu temples pries...</td>\n",
       "      <td>Not Hatespeech</td>\n",
       "    </tr>\n",
       "    <tr>\n",
       "      <th>5481</th>\n",
       "      <td>किसी न किसी संगठन से अवश्य जुड़े,वहां इन समस्या...</td>\n",
       "      <td>Not Hatespeech</td>\n",
       "    </tr>\n",
       "    <tr>\n",
       "      <th>5482</th>\n",
       "      <td>Rss ko bjp ke liye vote chahiye bas aur kuch b...</td>\n",
       "      <td>Not Hatespeech</td>\n",
       "    </tr>\n",
       "    <tr>\n",
       "      <th>5483</th>\n",
       "      <td>Bahut dukhad hai ye</td>\n",
       "      <td>Not Hatespeech</td>\n",
       "    </tr>\n",
       "    <tr>\n",
       "      <th>5484</th>\n",
       "      <td>Hamare yaha  jati hi vyastha hai</td>\n",
       "      <td>Not Hatespeech</td>\n",
       "    </tr>\n",
       "  </tbody>\n",
       "</table>\n",
       "<p>5460 rows × 2 columns</p>\n",
       "</div>"
      ],
      "text/plain": [
       "                                                Comment      Annotation\n",
       "0     90% joote case hai .....sab peso ke liye lagat...  Not Hatespeech\n",
       "1                                Suicide kar diya isne?  Not Hatespeech\n",
       "2                                   To kar lo na sucide  Not Hatespeech\n",
       "3     Tu bhai abhi billi bana h act ki wajah se kya ...      Hatespeech\n",
       "4     मरने से कुछ नहीं होता भाई जेल जाने से पहले उनक...      Hatespeech\n",
       "...                                                 ...             ...\n",
       "5480  in agama shiva temple and Vishnu temples pries...  Not Hatespeech\n",
       "5481  किसी न किसी संगठन से अवश्य जुड़े,वहां इन समस्या...  Not Hatespeech\n",
       "5482  Rss ko bjp ke liye vote chahiye bas aur kuch b...  Not Hatespeech\n",
       "5483                                Bahut dukhad hai ye  Not Hatespeech\n",
       "5484                   Hamare yaha  jati hi vyastha hai  Not Hatespeech\n",
       "\n",
       "[5460 rows x 2 columns]"
      ]
     },
     "execution_count": 5,
     "metadata": {},
     "output_type": "execute_result"
    }
   ],
   "source": [
    "#filter out rows where 'label' is N/A\n",
    "df = df[df['Annotation'].notna()]\n",
    "df"
   ]
  },
  {
   "cell_type": "markdown",
   "metadata": {},
   "source": [
    "####  Dropping duplicate data"
   ]
  },
  {
   "cell_type": "code",
   "execution_count": 6,
   "metadata": {},
   "outputs": [
    {
     "data": {
      "text/plain": [
       "137"
      ]
     },
     "execution_count": 6,
     "metadata": {},
     "output_type": "execute_result"
    }
   ],
   "source": [
    "#check for duplicate rows\n",
    "df.duplicated().sum()"
   ]
  },
  {
   "cell_type": "code",
   "execution_count": 7,
   "metadata": {},
   "outputs": [
    {
     "data": {
      "text/plain": [
       "0"
      ]
     },
     "execution_count": 7,
     "metadata": {},
     "output_type": "execute_result"
    }
   ],
   "source": [
    "#remove duplicate rows\n",
    "df = df.drop_duplicates()\n",
    "df.duplicated().sum()"
   ]
  },
  {
   "cell_type": "markdown",
   "metadata": {},
   "source": [
    "#### Checking for missing values"
   ]
  },
  {
   "cell_type": "code",
   "execution_count": 8,
   "metadata": {},
   "outputs": [
    {
     "data": {
      "application/vnd.microsoft.datawrangler.viewer.v0+json": {
       "columns": [
        {
         "name": "index",
         "rawType": "object",
         "type": "string"
        },
        {
         "name": "0",
         "rawType": "int64",
         "type": "integer"
        }
       ],
       "ref": "cad780c6-2487-409e-84d1-16d71bfe70f0",
       "rows": [
        [
         "Comment",
         "5323"
        ],
        [
         "Annotation",
         "5323"
        ]
       ],
       "shape": {
        "columns": 1,
        "rows": 2
       }
      },
      "text/plain": [
       "Comment       5323\n",
       "Annotation    5323\n",
       "dtype: int64"
      ]
     },
     "execution_count": 8,
     "metadata": {},
     "output_type": "execute_result"
    }
   ],
   "source": [
    "df.count()"
   ]
  },
  {
   "cell_type": "code",
   "execution_count": 9,
   "metadata": {},
   "outputs": [
    {
     "data": {
      "application/vnd.microsoft.datawrangler.viewer.v0+json": {
       "columns": [
        {
         "name": "index",
         "rawType": "object",
         "type": "string"
        },
        {
         "name": "0",
         "rawType": "int64",
         "type": "integer"
        }
       ],
       "ref": "fc3c4bf4-de3b-476b-ae0a-178c94f029dc",
       "rows": [
        [
         "Comment",
         "0"
        ],
        [
         "Annotation",
         "0"
        ]
       ],
       "shape": {
        "columns": 1,
        "rows": 2
       }
      },
      "text/plain": [
       "Comment       0\n",
       "Annotation    0\n",
       "dtype: int64"
      ]
     },
     "execution_count": 9,
     "metadata": {},
     "output_type": "execute_result"
    }
   ],
   "source": [
    "#check for missing values\n",
    "df.isnull().sum()"
   ]
  },
  {
   "cell_type": "markdown",
   "metadata": {},
   "source": [
    "####  Check for Class Imbalance"
   ]
  },
  {
   "cell_type": "code",
   "execution_count": 10,
   "metadata": {},
   "outputs": [
    {
     "name": "stdout",
     "output_type": "stream",
     "text": [
      "Number of rows in each label category:\n",
      "Annotation\n",
      "Not Hatespeech    3805\n",
      "Hatespeech        1518\n",
      "Name: count, dtype: int64\n"
     ]
    },
    {
     "data": {
      "image/png": "[encoded data removed]",
      "text/plain": [
       "<Figure size 640x480 with 1 Axes>"
      ]
     },
     "metadata": {},
     "output_type": "display_data"
    }
   ],
   "source": [
    "df.count()\n",
    "#Check data is balanced or not\n",
    "print(\"Number of rows in each label category:\") \n",
    "print(df['Annotation'].value_counts())\n",
    "df['Annotation'].value_counts().plot(kind='bar')\n",
    "plt.title('Distribution of data')\n",
    "plt.xlabel('Annotation')\n",
    "plt.ylabel('Count')\n",
    "plt.xticks(rotation=0)\n",
    "plt.tight_layout()\n"
   ]
  },
  {
   "cell_type": "markdown",
   "metadata": {},
   "source": [
    "### Merging the augmented data with main dataset"
   ]
  },
  {
   "cell_type": "code",
   "execution_count": 98,
   "metadata": {},
   "outputs": [],
   "source": [
    "augmented_file_path = os.path.join(project_root, \"Data Augmentation/Gemini_augmented_data.csv\")\n",
    "augmented_data = pd.read_csv(augmented_file_path)"
   ]
  },
  {
   "cell_type": "code",
   "execution_count": 99,
   "metadata": {},
   "outputs": [],
   "source": [
    "df = pd.concat([df,augmented_data], ignore_index=True)"
   ]
  },
  {
   "cell_type": "code",
   "execution_count": 100,
   "metadata": {},
   "outputs": [
    {
     "data": {
      "text/plain": [
       "0"
      ]
     },
     "execution_count": 100,
     "metadata": {},
     "output_type": "execute_result"
    }
   ],
   "source": [
    "df.duplicated().sum()"
   ]
  },
  {
   "cell_type": "code",
   "execution_count": 101,
   "metadata": {},
   "outputs": [
    {
     "name": "stdout",
     "output_type": "stream",
     "text": [
      "Number of rows in each label category:\n",
      "Annotation\n",
      "Not Hatespeech    3805\n",
      "Hatespeech        3559\n",
      "Name: count, dtype: int64\n"
     ]
    },
    {
     "data": {
      "image/png": "[encoded data removed]",
      "text/plain": [
       "<Figure size 640x480 with 1 Axes>"
      ]
     },
     "metadata": {},
     "output_type": "display_data"
    }
   ],
   "source": [
    "df.count()\n",
    "#Check data is balanced or not\n",
    "print(\"Number of rows in each label category:\") \n",
    "print(df['Annotation'].value_counts())\n",
    "df['Annotation'].value_counts().plot(kind='bar')\n",
    "plt.title('Distribution of data')\n",
    "plt.xlabel('Annotation')\n",
    "plt.ylabel('Count')\n",
    "plt.xticks(rotation=0)\n",
    "plt.tight_layout()"
   ]
  },
  {
   "cell_type": "code",
   "execution_count": 102,
   "metadata": {},
   "outputs": [
    {
     "data": {
      "application/vnd.microsoft.datawrangler.viewer.v0+json": {
       "columns": [
        {
         "name": "index",
         "rawType": "int64",
         "type": "integer"
        },
        {
         "name": "Comment",
         "rawType": "object",
         "type": "string"
        },
        {
         "name": "Annotation",
         "rawType": "object",
         "type": "string"
        }
       ],
       "ref": "70d7b5af-cfac-4e4a-b97a-bdc2aa1cf1a7",
       "rows": [
        [
         "0",
         "Dekho dalit log, reservation ke naam pe kitna fayda uthate hain, kabhi mehnat toh karte nahi 😒🤬",
         "Hatespeech"
        ],
        [
         "1",
         "Hal hi me Gujrat me Dalit dolha ko mara gaya\" Omg sadi ke din khusi ke din unki khusi chin liya katar panti logo ne\" Or up me to aam bt hai \"",
         "Not Hatespeech"
        ],
        [
         "2",
         "Yeh baat ne peesha mera canada mein bhi nhi shoda sala maut manzoor hein essey tum log maronge salo mein jo torture seh rha hun tum log v bhugto ge",
         "Hatespeech"
        ],
        [
         "3",
         "Ye to galat hua aapke sath ...😤😤😤😤",
         "Not Hatespeech"
        ],
        [
         "4",
         "O pagal uncle aunty jin  baba saheb ke bare me aap galat bol rahe ho unke hi vajah se aap insan bankar ji rahe ho",
         "Not Hatespeech"
        ],
        [
         "5",
         "Upper caste waale toh bas dalit ko neecha dikhane mein lage rehte hain, koi sharam nahi hai inko 😡",
         "Hatespeech"
        ],
        [
         "6",
         "Yeh bhangi log, safai karwaney aate hain aur hum par hi ungli uthate hain. Hypocrites! 😠",
         "Hatespeech"
        ],
        [
         "7",
         "then leave your reservation india is going behind bcz of reservation",
         "Not Hatespeech"
        ],
        [
         "8",
         "Inko toh bas reservation chahiye, warna in chamar ki kya aukaat hai? 🙄",
         "Hatespeech"
        ],
        [
         "9",
         "क्या परंपरा स्थाई थोडी होती |",
         "Not Hatespeech"
        ],
        [
         "10",
         "Jutti se kyu nahi Mari un pagal  janwaro ko",
         "Hatespeech"
        ],
        [
         "11",
         "Sahi hua hai.\nAmbedkar julus nikalne ke liye permision lekin sanatan julus nikalne ke liye no permision.\nYe to sanatan dharm ki gundaie hai.",
         "Hatespeech"
        ],
        [
         "12",
         "jodha akbar, jahangir man bai 🤣🤣🤣🤣🤣 🤭🤭🤭🤭 moguls le sath tumarhi maa behane ko gapa gapa karwaya",
         "Hatespeech"
        ],
        [
         "13",
         "Look who is covering the news BBC which Terminate his female employee because she is from SC caste. Hipocrisy ke b koi seema hote h.….",
         "Not Hatespeech"
        ],
        [
         "14",
         "I can feel ur pain . Becoz I face same behavior here .",
         "Not Hatespeech"
        ],
        [
         "15",
         "Pura dait hi raha gaya Jo tu secularism  ka matalab v nai jantaa Jo hame babaa sahebe ne samvidhan mai diyaa hai",
         "Not Hatespeech"
        ],
        [
         "16",
         "जागरूक नहीं होंगे यह नीले कबूतर वाले क्या करेंगे जो अंग्रेजों के शासन में जातिवाद का जहर फैलाया था वही जहरिया फैला रहे हैं नई नई परंपराएं अब निकल रही हैं",
         "Hatespeech"
        ],
        [
         "17",
         "Gandhi said go to villages (so there is ample supply of slaves for upper castes).villages still practice casteism systematically as if it is no crime. Dr.Ambedkar said go to cities coz it will broaden your mind and open new opportunities for education and jobs.i am not saying cities don't have casteism. I'm a city dalit boy who faced casteism at school  college, IT job selection. But that didn't stop me coz mauka sabko milta hai. Got my chance went abroad now married to a brahmin girl.only coz of education. Doston casteism hoti hai agreed. But agar tum dusron ko blame karte rahoge toh nirashavaadi bann jaoge. Believe in yourself and your abilities. Learn English. Stop wasting money on Bollywood movies, alcohol, cigarettes and showoff stuff.Dr.Ambedkar lived in a era which was  thousand times bad than current era for Dalits and still he managed to study so much and reach the heights of success. What's stopping you then? What's your excuse? Let not these few handful casteist be your excuse for not achieving success in your life. No one can stop you in life except you.",
         "Not Hatespeech"
        ],
        [
         "18",
         "if they can u so why they can't them from muslim they are converted into muslim in pakistan",
         "Hatespeech"
        ],
        [
         "19",
         "Upper caste walon ne bhangi ko hamesha neecha dikhaya hai, ab badla lene ka time aa gaya hai!😤",
         "Hatespeech"
        ],
        [
         "20",
         "Abe chamar log, tumhari toh aukat hi nahi hai humare saath khade hone ki. 😠",
         "Hatespeech"
        ],
        [
         "21",
         "Dr amedkar sahab ke vision ke aage badhnana bhoot zaruri hai....dalits samaj par nhi toh political power hai aur naa hi financial support hai only ek hi rasta bachta hai..... education.......padhai likhai......",
         "Not Hatespeech"
        ],
        [
         "22",
         "हिंदू धर्म में दलितों को कभी भी वो सम्मान नही मिल पाया जो मिलना चाहिए।।।।हिंदू धर्म जातियों में बटा हुआ है।।और जातियों के आधार पर भेद भाव।।।शोषण।।।अत्याचार हो रहे है।।। ऊंची जाति कोई छोटी जाति।।। सर्वश्रेष्ठ धर्म वो है।।।जहा मानवता हो।।। समानता हो।।जहा कर्म सर्व श्रेष्ठ हो।।।जहा इंशान को इंशानियत से पहचाना जाता हो।।।।आज भी देश में लोगो।की जातिवादी मानसिकता जिंदा है।।।देश इतना आगे बढ़ने के बाद भी।।।समाज का बहुत बड़ा तबका जातिवादी मानसिकता से बीमार है।।।।",
         "Not Hatespeech"
        ],
        [
         "23",
         "There is no unity in India and we don't want any unity so don't force unity on us",
         "Not Hatespeech"
        ],
        [
         "24",
         "Abe, ye chamar log toh bas reservation ke naam pe desh ko barbaad kar rahe hain! 😡",
         "Hatespeech"
        ],
        [
         "25",
         "Only for jhhot bol rahi ho \n\nJay owaisi",
         "Not Hatespeech"
        ],
        [
         "26",
         "*हम दिमागी गुलाम लोग हैं*",
         "Not Hatespeech"
        ],
        [
         "27",
         "जैसे को तैसा❤❤❤❤❤❤❤❤",
         "Not Hatespeech"
        ],
        [
         "28",
         "बहुत अच्छा बाबा साहब जयंती का रॉली निकालो डरने की बात नह",
         "Not Hatespeech"
        ],
        [
         "29",
         "BBC wale ke pass sahi news nahi hai",
         "Not Hatespeech"
        ],
        [
         "30",
         "Ab smjh aa gya hindu kyu khatre m hai.hinduo ko hinduo se hi khtra h.",
         "Not Hatespeech"
        ],
        [
         "31",
         "मैं खुद रैगर हु मगर मैने कभी ऐसा कुछ नही देखा क्युकी आपका तरीका भी बोहोत मायने रखता है की आप केसे रहते हो😢😢😢",
         "Not Hatespeech"
        ],
        [
         "32",
         "Cast system should not be there in India.\r\nEquality should be there.\r\nPlz don't judge my cast.\r\nBBC you should stop destabilizing my country.",
         "Not Hatespeech"
        ],
        [
         "33",
         "Good pda 🎉🎉🎉😢",
         "Not Hatespeech"
        ],
        [
         "34",
         "Welcome to ramraaj 🇮🇳🙏",
         "Not Hatespeech"
        ],
        [
         "35",
         "Parshuram Bhaiyaa AAP Abhi Buddhist ho 🙏🙏 apko Apke parivar ko Sadhuwad ❤",
         "Not Hatespeech"
        ],
        [
         "36",
         "Yeh bhangi log hamesha gandi harkatein karte hain, inki toh aukaat hi nahi hai kuch karne ki. 😠",
         "Hatespeech"
        ],
        [
         "37",
         "Dalit slap by making temple by own",
         "Hatespeech"
        ],
        [
         "38",
         "In bhangi logon ko toh main dekhta hoon, saare gaon mein gandagi failaate hain. 🤮 Gandi naali ke keede.",
         "Hatespeech"
        ],
        [
         "39",
         "In bhangi logon ko toh koi izzat hi nahi deta. Inhe toh bas gaali dene ka mann karta hai. 🤬",
         "Hatespeech"
        ],
        [
         "40",
         "In chamar logo ko toh bas reservation chahiye, kuch kaam dhanda toh aata nahi. 😠",
         "Hatespeech"
        ],
        [
         "41",
         "Yeh brahmin toh hamesha se dikhawa karte hain, inki asliyat toh ghatiya hai, bc! 😠",
         "Hatespeech"
        ],
        [
         "42",
         "suni shia  ye cast ni dil ko jo acha lgy choose kro apni marzi ha",
         "Not Hatespeech"
        ],
        [
         "43",
         "बीबीसी बाँट रही है, हम लोगों को... भाई हक़ के लिए लड़ना पड़ता है... अपने लोग ऊपर भी तो नहीं आना चाहते, शिक्षा ही तुम्हें वो इज्जत दिला सकती है, मायावती मुख्यमंत्री थी... उत्तरप्रदेश की घोटाले के अलावा उसने कुछ नहीं किया... भगवान को दोष मत दो, किसी के लिए अपना भगवान छोड़ देंगे... ताकत बढ़ाओ... पढ़ लिख के अच्छे पद पे पहुंचो... जो दलित का वोट चाहते हैं, काम तो कुछ करेंगे नहीं...",
         "Not Hatespeech"
        ],
        [
         "44",
         "Ye bhangi toh saaf safai ka kaam karte hain, inki aukaat hi kya hai 😎",
         "Hatespeech"
        ],
        [
         "45",
         "100000 तोपों की सलामी जाटव समाज को\nजय भीम जय भीम आर्मी",
         "Not Hatespeech"
        ],
        [
         "46",
         "Yeh bhangi log toh bas safai ka kaam karte hain, aur koi aukat nahi hai inki. 😡",
         "Hatespeech"
        ],
        [
         "47",
         "Up me Nich Bra man vaadi Matlb nich samaaaj ke log rehte hai bihar me vi Inko inki aukaat dikhana hi hoga😎... Aukaat hai to nikal kr dikhao...😎 Rajput hona??",
         "Hatespeech"
        ],
        [
         "48",
         "Ye typing kab sikhi \nYe bata tu katwa bhi ho sakta hai",
         "Hatespeech"
        ],
        [
         "49",
         "Yeh dom toh sirf gaali dene ke layak hain. Kuch nahi kar sakte, bas bakwaas karte hain. 😤",
         "Hatespeech"
        ]
       ],
       "shape": {
        "columns": 2,
        "rows": 7364
       }
      },
      "text/html": [
       "<div>\n",
       "<style scoped>\n",
       "    .dataframe tbody tr th:only-of-type {\n",
       "        vertical-align: middle;\n",
       "    }\n",
       "\n",
       "    .dataframe tbody tr th {\n",
       "        vertical-align: top;\n",
       "    }\n",
       "\n",
       "    .dataframe thead th {\n",
       "        text-align: right;\n",
       "    }\n",
       "</style>\n",
       "<table border=\"1\" class=\"dataframe\">\n",
       "  <thead>\n",
       "    <tr style=\"text-align: right;\">\n",
       "      <th></th>\n",
       "      <th>Comment</th>\n",
       "      <th>Annotation</th>\n",
       "    </tr>\n",
       "  </thead>\n",
       "  <tbody>\n",
       "    <tr>\n",
       "      <th>0</th>\n",
       "      <td>Dekho dalit log, reservation ke naam pe kitna ...</td>\n",
       "      <td>Hatespeech</td>\n",
       "    </tr>\n",
       "    <tr>\n",
       "      <th>1</th>\n",
       "      <td>Hal hi me Gujrat me Dalit dolha ko mara gaya\" ...</td>\n",
       "      <td>Not Hatespeech</td>\n",
       "    </tr>\n",
       "    <tr>\n",
       "      <th>2</th>\n",
       "      <td>Yeh baat ne peesha mera canada mein bhi nhi sh...</td>\n",
       "      <td>Hatespeech</td>\n",
       "    </tr>\n",
       "    <tr>\n",
       "      <th>3</th>\n",
       "      <td>Ye to galat hua aapke sath ...😤😤😤😤</td>\n",
       "      <td>Not Hatespeech</td>\n",
       "    </tr>\n",
       "    <tr>\n",
       "      <th>4</th>\n",
       "      <td>O pagal uncle aunty jin  baba saheb ke bare me...</td>\n",
       "      <td>Not Hatespeech</td>\n",
       "    </tr>\n",
       "    <tr>\n",
       "      <th>...</th>\n",
       "      <td>...</td>\n",
       "      <td>...</td>\n",
       "    </tr>\n",
       "    <tr>\n",
       "      <th>7359</th>\n",
       "      <td>kya din aagaya today bhim army, next thakur ar...</td>\n",
       "      <td>Not Hatespeech</td>\n",
       "    </tr>\n",
       "    <tr>\n",
       "      <th>7360</th>\n",
       "      <td>All Indian will become salve again soon in 2025</td>\n",
       "      <td>Not Hatespeech</td>\n",
       "    </tr>\n",
       "    <tr>\n",
       "      <th>7361</th>\n",
       "      <td>Upper caste waale toh bas dalit logon ko neech...</td>\n",
       "      <td>Hatespeech</td>\n",
       "    </tr>\n",
       "    <tr>\n",
       "      <th>7362</th>\n",
       "      <td>Dalit bahut hindu banta hai 😂😂 obc bhi hindu b...</td>\n",
       "      <td>Not Hatespeech</td>\n",
       "    </tr>\n",
       "    <tr>\n",
       "      <th>7363</th>\n",
       "      <td>Dekho, dalit aurton ko toh sirf apne pati ka d...</td>\n",
       "      <td>Hatespeech</td>\n",
       "    </tr>\n",
       "  </tbody>\n",
       "</table>\n",
       "<p>7364 rows × 2 columns</p>\n",
       "</div>"
      ],
      "text/plain": [
       "                                                Comment      Annotation\n",
       "0     Dekho dalit log, reservation ke naam pe kitna ...      Hatespeech\n",
       "1     Hal hi me Gujrat me Dalit dolha ko mara gaya\" ...  Not Hatespeech\n",
       "2     Yeh baat ne peesha mera canada mein bhi nhi sh...      Hatespeech\n",
       "3                    Ye to galat hua aapke sath ...😤😤😤😤  Not Hatespeech\n",
       "4     O pagal uncle aunty jin  baba saheb ke bare me...  Not Hatespeech\n",
       "...                                                 ...             ...\n",
       "7359  kya din aagaya today bhim army, next thakur ar...  Not Hatespeech\n",
       "7360    All Indian will become salve again soon in 2025  Not Hatespeech\n",
       "7361  Upper caste waale toh bas dalit logon ko neech...      Hatespeech\n",
       "7362  Dalit bahut hindu banta hai 😂😂 obc bhi hindu b...  Not Hatespeech\n",
       "7363  Dekho, dalit aurton ko toh sirf apne pati ka d...      Hatespeech\n",
       "\n",
       "[7364 rows x 2 columns]"
      ]
     },
     "execution_count": 102,
     "metadata": {},
     "output_type": "execute_result"
    }
   ],
   "source": [
    "df = df.sample(frac=1, random_state=42).reset_index(drop=True)\n",
    "df"
   ]
  },
  {
   "cell_type": "code",
   "execution_count": 104,
   "metadata": {},
   "outputs": [],
   "source": [
    "df.to_csv(\"Final_Dataset\",index=False)"
   ]
  },
  {
   "cell_type": "code",
   "execution_count": 105,
   "metadata": {},
   "outputs": [
    {
     "name": "stdout",
     "output_type": "stream",
     "text": [
      "Maximum length among the comments: 1166\n"
     ]
    },
    {
     "data": {
      "image/png": "[encoded data removed]",
      "text/plain": [
       "<Figure size 640x480 with 1 Axes>"
      ]
     },
     "metadata": {},
     "output_type": "display_data"
    }
   ],
   "source": [
    "df_word_count = df.copy()\n",
    "df_word_count['char_count'] = df_word_count['Comment'].str.len()\n",
    "df_word_count['word_count'] = df_word_count['Comment'].str.split().apply(len)\n",
    "\n",
    "#maximum length\n",
    "max_length = df_word_count['word_count'].max()\n",
    "print(\"Maximum length among the comments:\", max_length)\n",
    "\n",
    "# Word count boxplot\n",
    "sns.boxplot(data=df_word_count, x='Annotation', y='word_count')\n",
    "plt.title('Word Count by Annotation')\n",
    "plt.show()\n"
   ]
  }
 ],
 "metadata": {
  "kernelspec": {
   "display_name": "base",
   "language": "python",
   "name": "python3"
  },
  "language_info": {
   "codemirror_mode": {
    "name": "ipython",
    "version": 3
   },
   "file_extension": ".py",
   "mimetype": "text/x-python",
   "name": "python",
   "nbconvert_exporter": "python",
   "pygments_lexer": "ipython3",
   "version": "3.12.7"
  }
 },
 "nbformat": 4,
 "nbformat_minor": 2
}
