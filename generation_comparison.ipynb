{
 "cells": [
  {
   "cell_type": "code",
   "execution_count": 2,
   "id": "0a26c011",
   "metadata": {},
   "outputs": [],
   "source": [
    "import os\n",
    "import pandas as pd\n",
    "\n",
    "project_root = os.path.abspath(os.path.join(os.getcwd(),\"..\"))\n",
    "\n",
    "# Build absolute paths to the CSV files\n",
    "deepseek = os.path.join(project_root, 'Data Augmentation/deepseek_generation.csv')\n",
    "gemini = os.path.join(project_root, 'Data Augmentation/Gemini_generation.csv')\n",
    "gpt = os.path.join(project_root,'Data Augmentation/GPT_generation.csv')\n",
    "grok = os.path.join(project_root,'Data Augmentation/Grok_generation.csv')\n",
    "\n",
    "deepseek_df = pd.read_csv(deepseek)\n",
    "gemini_df = pd.read_csv(gemini)\n",
    "gpt_df = pd.read_csv(gpt)\n",
    "grok_df = pd.read_csv(grok)\n"
   ]
  },
  {
   "cell_type": "code",
   "execution_count": 3,
   "id": "9f9bd4e8",
   "metadata": {},
   "outputs": [
    {
     "name": "stdout",
     "output_type": "stream",
     "text": [
      "Gemini duplicates:  1\n",
      "Deepseek duplicates:  2\n",
      "GPT duplicates:  1\n",
      "Grok duplicates:  34\n"
     ]
    }
   ],
   "source": [
    "print(\"Gemini duplicates: \",gemini_df.duplicated().sum())\n",
    "print(\"Deepseek duplicates: \",deepseek_df.duplicated().sum())\n",
    "print(\"GPT duplicates: \",gpt_df.duplicated().sum())\n",
    "print(\"Grok duplicates: \",grok_df.duplicated().sum())"
   ]
  },
  {
   "cell_type": "markdown",
   "id": "b2d16706",
   "metadata": {},
   "source": [
    "## Self Bleu Score and Repetition Rate"
   ]
  },
  {
   "cell_type": "code",
   "execution_count": 4,
   "id": "f01b7f0a",
   "metadata": {},
   "outputs": [
    {
     "data": {
      "application/vnd.microsoft.datawrangler.viewer.v0+json": {
       "columns": [
        {
         "name": "index",
         "rawType": "int64",
         "type": "integer"
        },
        {
         "name": "Model",
         "rawType": "object",
         "type": "string"
        },
        {
         "name": "Self-BLEU",
         "rawType": "float64",
         "type": "float"
        },
        {
         "name": "Repeat Score",
         "rawType": "float64",
         "type": "float"
        }
       ],
       "ref": "ef61a815-7903-4de0-b963-35c99e578ed3",
       "rows": [
        [
         "0",
         "Gemini",
         "0.4611005736870218",
         "0.5640738668158926"
        ],
        [
         "1",
         "Deepseek",
         "0.6598443575918053",
         "0.7292490118577075"
        ],
        [
         "2",
         "GPT",
         "0.8752453560300336",
         "0.907055630936228"
        ],
        [
         "3",
         "Grok",
         "0.8086774199307218",
         "0.850040749796251"
        ]
       ],
       "shape": {
        "columns": 3,
        "rows": 4
       }
      },
      "text/html": [
       "<div>\n",
       "<style scoped>\n",
       "    .dataframe tbody tr th:only-of-type {\n",
       "        vertical-align: middle;\n",
       "    }\n",
       "\n",
       "    .dataframe tbody tr th {\n",
       "        vertical-align: top;\n",
       "    }\n",
       "\n",
       "    .dataframe thead th {\n",
       "        text-align: right;\n",
       "    }\n",
       "</style>\n",
       "<table border=\"1\" class=\"dataframe\">\n",
       "  <thead>\n",
       "    <tr style=\"text-align: right;\">\n",
       "      <th></th>\n",
       "      <th>Model</th>\n",
       "      <th>Self-BLEU</th>\n",
       "      <th>Repeat Score</th>\n",
       "    </tr>\n",
       "  </thead>\n",
       "  <tbody>\n",
       "    <tr>\n",
       "      <th>0</th>\n",
       "      <td>Gemini</td>\n",
       "      <td>0.461101</td>\n",
       "      <td>0.564074</td>\n",
       "    </tr>\n",
       "    <tr>\n",
       "      <th>1</th>\n",
       "      <td>Deepseek</td>\n",
       "      <td>0.659844</td>\n",
       "      <td>0.729249</td>\n",
       "    </tr>\n",
       "    <tr>\n",
       "      <th>2</th>\n",
       "      <td>GPT</td>\n",
       "      <td>0.875245</td>\n",
       "      <td>0.907056</td>\n",
       "    </tr>\n",
       "    <tr>\n",
       "      <th>3</th>\n",
       "      <td>Grok</td>\n",
       "      <td>0.808677</td>\n",
       "      <td>0.850041</td>\n",
       "    </tr>\n",
       "  </tbody>\n",
       "</table>\n",
       "</div>"
      ],
      "text/plain": [
       "      Model  Self-BLEU  Repeat Score\n",
       "0    Gemini   0.461101      0.564074\n",
       "1  Deepseek   0.659844      0.729249\n",
       "2       GPT   0.875245      0.907056\n",
       "3      Grok   0.808677      0.850041"
      ]
     },
     "execution_count": 4,
     "metadata": {},
     "output_type": "execute_result"
    }
   ],
   "source": [
    "import numpy as np\n",
    "from nltk.translate.bleu_score import sentence_bleu, SmoothingFunction\n",
    "from collections import Counter\n",
    "import itertools\n",
    "\n",
    "def ngram_repeat_score(texts, n=2):\n",
    "    all_ngrams = []\n",
    "    for text in texts:\n",
    "        tokens = str(text).split()\n",
    "        ngrams = list(zip(*[tokens[i:] for i in range(n)]))\n",
    "        all_ngrams.extend(ngrams)\n",
    "    if not all_ngrams:\n",
    "        return 0.0\n",
    "    ngram_counts = Counter(all_ngrams)\n",
    "    repeated = sum([count for count in ngram_counts.values() if count > 1])\n",
    "    return repeated / len(all_ngrams)\n",
    "\n",
    "def calculate_self_bleu(texts):\n",
    "    scores = []\n",
    "    smoothing = SmoothingFunction().method1\n",
    "    for i, candidate in enumerate(texts):\n",
    "        references = [str(t).split() for j, t in enumerate(texts) if j != i]\n",
    "        if not references:\n",
    "            continue\n",
    "        score = sentence_bleu(references, str(candidate).split(), smoothing_function=smoothing)\n",
    "        scores.append(score)\n",
    "    return np.mean(scores) if scores else 0.0\n",
    "\n",
    "# Collect metrics for each model\n",
    "results = []\n",
    "for df, name in [\n",
    "    (gemini_df, \"Gemini\"),\n",
    "    (deepseek_df, \"Deepseek\"),\n",
    "    (gpt_df, \"GPT\"),\n",
    "    (grok_df, \"Grok\")\n",
    "]:\n",
    "    comments = df[df.columns[0]].dropna().astype(str).tolist()\n",
    "    bleu = calculate_self_bleu(comments)\n",
    "    ngram_score = ngram_repeat_score(comments, n=2)\n",
    "    results.append({\"Model\": name, \"Self-BLEU\": bleu, \"Repeat Score\": ngram_score})\n",
    "\n",
    "metrics_df = pd.DataFrame(results)\n",
    "metrics_df"
   ]
  },
  {
   "cell_type": "code",
   "execution_count": 13,
   "id": "ca92f3e6",
   "metadata": {},
   "outputs": [
    {
     "data": {
      "image/png": "[encoded data removed]",
      "text/plain": [
       "<Figure size 700x300 with 1 Axes>"
      ]
     },
     "metadata": {},
     "output_type": "display_data"
    },
    {
     "data": {
      "image/png": "[encoded data removed]",
      "text/plain": [
       "<Figure size 700x300 with 1 Axes>"
      ]
     },
     "metadata": {},
     "output_type": "display_data"
    }
   ],
   "source": [
    "import matplotlib.pyplot as plt\n",
    "\n",
    "# Plot Self-BLEU Score (horizontal bar, lower is better)\n",
    "plt.figure(figsize=(7, 3))\n",
    "plt.barh(metrics_df['Model'], metrics_df['Self-BLEU'], color='skyblue')\n",
    "plt.xlabel('Self-BLEU Score (Lower is Better)')\n",
    "plt.title('Self-BLEU Score by Model')\n",
    "plt.gca().invert_xaxis()  # Lower is better, so invert axis\n",
    "for i, v in enumerate(metrics_df['Self-BLEU']):\n",
    "    plt.text(v, i, f\"{v:.3f}\", va='center')\n",
    "plt.tight_layout()\n",
    "plt.show()\n",
    "\n",
    "# Plot Repeat Score (horizontal bar, lower is better)\n",
    "plt.figure(figsize=(7, 3))\n",
    "plt.barh(metrics_df['Model'], metrics_df['Repeat Score'], color='salmon')\n",
    "plt.xlabel('Repeat Score (Bigram, Lower is Better)')\n",
    "plt.title('Repeat Score by Model')\n",
    "plt.gca().invert_xaxis()  # Lower is better, so invert axis\n",
    "for i, v in enumerate(metrics_df['Repeat Score']):\n",
    "    plt.text(v, i, f\"{v:.3f}\", va='center')\n",
    "plt.tight_layout()\n",
    "plt.show()"
   ]
  },
  {
   "cell_type": "code",
   "execution_count": 3,
   "id": "6ea9dd40",
   "metadata": {},
   "outputs": [],
   "source": [
    "gemini_full_path = os.path.join(project_root,'Data Augmentation/Gemini_augmented_data.csv')\n",
    "\n",
    "gemini_full = pd.read_csv(gemini_full_path)"
   ]
  },
  {
   "cell_type": "code",
   "execution_count": 7,
   "id": "13aa1937",
   "metadata": {},
   "outputs": [],
   "source": [
    "results = []\n",
    "for df, name in [\n",
    "    (gemini_full, \"Gemini full\"),\n",
    "]:\n",
    "    comments = df[df.columns[0]].dropna().astype(str).tolist()\n",
    "    bleu = calculate_self_bleu(comments)\n",
    "    ngram_score = ngram_repeat_score(comments, n=3)\n",
    "    results.append({\"Model\": name, \"Self-BLEU\": bleu, \"Repeat Score\": ngram_score})\n"
   ]
  }
 ],
 "metadata": {
  "kernelspec": {
   "display_name": "base",
   "language": "python",
   "name": "python3"
  },
  "language_info": {
   "codemirror_mode": {
    "name": "ipython",
    "version": 3
   },
   "file_extension": ".py",
   "mimetype": "text/x-python",
   "name": "python",
   "nbconvert_exporter": "python",
   "pygments_lexer": "ipython3",
   "version": "3.12.7"
  }
 },
 "nbformat": 4,
 "nbformat_minor": 5
}
