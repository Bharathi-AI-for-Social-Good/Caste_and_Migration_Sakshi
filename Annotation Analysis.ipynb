{
 "cells": [
  {
   "cell_type": "code",
   "execution_count": 3,
   "metadata": {},
   "outputs": [],
   "source": [
    "import pandas as pd\n",
    "import matplotlib.pyplot as plt\n",
    "import os"
   ]
  },
  {
   "cell_type": "code",
   "execution_count": 15,
   "metadata": {},
   "outputs": [],
   "source": [
    "# Get the current working directory\n",
    "project_root = os.getcwd()\n",
    "\n",
    "# Build absolute paths to the CSV files\n",
    "volunteer1_path = os.path.join(project_root, 'Volunteer1_annotation.csv')\n",
    "volunteer2_path = os.path.join(project_root, 'Volunteer2_annotation.csv')\n",
    "\n",
    "vol_one_annotation = pd.read_csv(volunteer1_path)\n",
    "vol_two_annotation = pd.read_csv(volunteer2_path)"
   ]
  },
  {
   "cell_type": "markdown",
   "metadata": {},
   "source": [
    "### Differences in Annotation"
   ]
  },
  {
   "cell_type": "code",
   "execution_count": 16,
   "metadata": {},
   "outputs": [
    {
     "name": "stdout",
     "output_type": "stream",
     "text": [
      "Differences in Annotations:\n"
     ]
    },
    {
     "data": {
      "application/vnd.microsoft.datawrangler.viewer.v0+json": {
       "columns": [
        {
         "name": "index",
         "rawType": "int64",
         "type": "integer"
        },
        {
         "name": "Comment",
         "rawType": "object",
         "type": "string"
        },
        {
         "name": "Volunteer1_Annotation",
         "rawType": "object",
         "type": "string"
        },
        {
         "name": "Volunteer2_Annotation",
         "rawType": "object",
         "type": "string"
        }
       ],
       "ref": "35747c9b-b2e7-4875-982c-3e9f8e043ee2",
       "rows": [
        [
         "4",
         "अरे मदर जात बीबीसी सुधर जा किसी दिन हमारे हत्या चढ़ गया ना तो तेरी ऐसी की तैसी कर देंगे जय नमो बुद्धाय",
         "Not Hatespeech",
         "Hatespeech"
        ],
        [
         "46",
         "Dalit hindu nhi kab samjenge dalit",
         "Not Hatespeech",
         "Hatespeech"
        ],
        [
         "47",
         "Convert hona hain ho jao jitni Jaldi. Lekin tab bhi kuch nahin ban page tum log",
         "Not Hatespeech",
         "Hatespeech"
        ],
        [
         "51",
         "he said his teacher insulted him by calling him chamar not that he's chamar.",
         "Not Hatespeech",
         "Hatespeech"
        ],
        [
         "113",
         "Sc samaj ko slut",
         "Not Hatespeech",
         "Hatespeech"
        ],
        [
         "190",
         "Bhai Maine toh apne baccho ko samjha Diya hai aur uske school ke teachers se bhi baat karli hai .\r\nApne baccho ko unse baat karne se bhi mana Kiya hai , hum sabko Aisa hi karna chahiye .\r\nApne baccho ke jivan ke liye humko Aisa hi karna chahiye",
         "Not Hatespeech",
         "Hatespeech"
        ],
        [
         "200",
         "wow so the brahmins intentionally contaminated the water dalits drink???  Noone is talking about that?",
         "Hatespeech",
         "Not Hatespeech"
        ],
        [
         "217",
         "Islaam ki maka bochla\r\n\r\n\r\n\r\nBharat mata ki jai☺️",
         "Not Hatespeech",
         "Hatespeech"
        ],
        [
         "243",
         "yess...we also stopped relationship with neighbours...",
         "Not Hatespeech",
         "Hatespeech"
        ],
        [
         "258",
         "भाई तुम्हारे समाज के पास क्या था 1 बीघा जमीन तक नहीं थी\r\nजब संवैधानिक हक मिला तब जाकर आपका समाज कुछ हद तक तरक्की हो पाई।",
         "Not Hatespeech",
         "Hatespeech"
        ],
        [
         "266",
         "Jaa oye gaandu",
         "Not Hatespeech",
         "Hatespeech"
        ],
        [
         "283",
         "Many sunnis blasting bombs in shia masjids(recent example of afganistan)\r\nOr ahmedies ko jine ka hi hadikar nhi",
         "Not Hatespeech",
         "Hatespeech"
        ],
        [
         "365",
         "Tum log jaynti nahi manane dete to ham bhi nahi manane dege kuchh atha nahi sab dog hai jay bhim",
         "Not Hatespeech",
         "Hatespeech"
        ],
        [
         "396",
         "Thakuro ko hi galat dikhao tum, Saalo Jiski Maut hui hai Wo Ek Thakur hi hai.",
         "Hatespeech",
         "Not Hatespeech"
        ],
        [
         "470",
         "दलित हजारों सालों से पिट रहे हैं मगर फिर भी हिंदू बने हैं क्योंकि इनको अंध भक्त बना दिया गया है यह एक राजनितिक षड्यंत्र है डॉक्टर साहब भीमराव अम्बेडकर ने हिंदू धर्म इसीलिए छोड़ दिया था और बौद्ध बन गए थे",
         "Not Hatespeech",
         "Hatespeech"
        ]
       ],
       "shape": {
        "columns": 3,
        "rows": 15
       }
      },
      "text/html": [
       "<div>\n",
       "<style scoped>\n",
       "    .dataframe tbody tr th:only-of-type {\n",
       "        vertical-align: middle;\n",
       "    }\n",
       "\n",
       "    .dataframe tbody tr th {\n",
       "        vertical-align: top;\n",
       "    }\n",
       "\n",
       "    .dataframe thead th {\n",
       "        text-align: right;\n",
       "    }\n",
       "</style>\n",
       "<table border=\"1\" class=\"dataframe\">\n",
       "  <thead>\n",
       "    <tr style=\"text-align: right;\">\n",
       "      <th></th>\n",
       "      <th>Comment</th>\n",
       "      <th>Volunteer1_Annotation</th>\n",
       "      <th>Volunteer2_Annotation</th>\n",
       "    </tr>\n",
       "  </thead>\n",
       "  <tbody>\n",
       "    <tr>\n",
       "      <th>4</th>\n",
       "      <td>अरे मदर जात बीबीसी सुधर जा किसी दिन हमारे हत्य...</td>\n",
       "      <td>Not Hatespeech</td>\n",
       "      <td>Hatespeech</td>\n",
       "    </tr>\n",
       "    <tr>\n",
       "      <th>46</th>\n",
       "      <td>Dalit hindu nhi kab samjenge dalit</td>\n",
       "      <td>Not Hatespeech</td>\n",
       "      <td>Hatespeech</td>\n",
       "    </tr>\n",
       "    <tr>\n",
       "      <th>47</th>\n",
       "      <td>Convert hona hain ho jao jitni Jaldi. Lekin ta...</td>\n",
       "      <td>Not Hatespeech</td>\n",
       "      <td>Hatespeech</td>\n",
       "    </tr>\n",
       "    <tr>\n",
       "      <th>51</th>\n",
       "      <td>he said his teacher insulted him by calling hi...</td>\n",
       "      <td>Not Hatespeech</td>\n",
       "      <td>Hatespeech</td>\n",
       "    </tr>\n",
       "    <tr>\n",
       "      <th>113</th>\n",
       "      <td>Sc samaj ko slut</td>\n",
       "      <td>Not Hatespeech</td>\n",
       "      <td>Hatespeech</td>\n",
       "    </tr>\n",
       "    <tr>\n",
       "      <th>190</th>\n",
       "      <td>Bhai Maine toh apne baccho ko samjha Diya hai ...</td>\n",
       "      <td>Not Hatespeech</td>\n",
       "      <td>Hatespeech</td>\n",
       "    </tr>\n",
       "    <tr>\n",
       "      <th>200</th>\n",
       "      <td>wow so the brahmins intentionally contaminated...</td>\n",
       "      <td>Hatespeech</td>\n",
       "      <td>Not Hatespeech</td>\n",
       "    </tr>\n",
       "    <tr>\n",
       "      <th>217</th>\n",
       "      <td>Islaam ki maka bochla\\r\\n\\r\\n\\r\\n\\r\\nBharat ma...</td>\n",
       "      <td>Not Hatespeech</td>\n",
       "      <td>Hatespeech</td>\n",
       "    </tr>\n",
       "    <tr>\n",
       "      <th>243</th>\n",
       "      <td>yess...we also stopped relationship with neigh...</td>\n",
       "      <td>Not Hatespeech</td>\n",
       "      <td>Hatespeech</td>\n",
       "    </tr>\n",
       "    <tr>\n",
       "      <th>258</th>\n",
       "      <td>भाई तुम्हारे समाज के पास क्या था 1 बीघा जमीन त...</td>\n",
       "      <td>Not Hatespeech</td>\n",
       "      <td>Hatespeech</td>\n",
       "    </tr>\n",
       "    <tr>\n",
       "      <th>266</th>\n",
       "      <td>Jaa oye gaandu</td>\n",
       "      <td>Not Hatespeech</td>\n",
       "      <td>Hatespeech</td>\n",
       "    </tr>\n",
       "    <tr>\n",
       "      <th>283</th>\n",
       "      <td>Many sunnis blasting bombs in shia masjids(rec...</td>\n",
       "      <td>Not Hatespeech</td>\n",
       "      <td>Hatespeech</td>\n",
       "    </tr>\n",
       "    <tr>\n",
       "      <th>365</th>\n",
       "      <td>Tum log jaynti nahi manane dete to ham bhi nah...</td>\n",
       "      <td>Not Hatespeech</td>\n",
       "      <td>Hatespeech</td>\n",
       "    </tr>\n",
       "    <tr>\n",
       "      <th>396</th>\n",
       "      <td>Thakuro ko hi galat dikhao tum, Saalo Jiski Ma...</td>\n",
       "      <td>Hatespeech</td>\n",
       "      <td>Not Hatespeech</td>\n",
       "    </tr>\n",
       "    <tr>\n",
       "      <th>470</th>\n",
       "      <td>दलित हजारों सालों से पिट रहे हैं मगर फिर भी हि...</td>\n",
       "      <td>Not Hatespeech</td>\n",
       "      <td>Hatespeech</td>\n",
       "    </tr>\n",
       "  </tbody>\n",
       "</table>\n",
       "</div>"
      ],
      "text/plain": [
       "                                               Comment Volunteer1_Annotation  \\\n",
       "4    अरे मदर जात बीबीसी सुधर जा किसी दिन हमारे हत्य...        Not Hatespeech   \n",
       "46                  Dalit hindu nhi kab samjenge dalit        Not Hatespeech   \n",
       "47   Convert hona hain ho jao jitni Jaldi. Lekin ta...        Not Hatespeech   \n",
       "51   he said his teacher insulted him by calling hi...        Not Hatespeech   \n",
       "113                                   Sc samaj ko slut        Not Hatespeech   \n",
       "190  Bhai Maine toh apne baccho ko samjha Diya hai ...        Not Hatespeech   \n",
       "200  wow so the brahmins intentionally contaminated...            Hatespeech   \n",
       "217  Islaam ki maka bochla\\r\\n\\r\\n\\r\\n\\r\\nBharat ma...        Not Hatespeech   \n",
       "243  yess...we also stopped relationship with neigh...        Not Hatespeech   \n",
       "258  भाई तुम्हारे समाज के पास क्या था 1 बीघा जमीन त...        Not Hatespeech   \n",
       "266                                     Jaa oye gaandu        Not Hatespeech   \n",
       "283  Many sunnis blasting bombs in shia masjids(rec...        Not Hatespeech   \n",
       "365  Tum log jaynti nahi manane dete to ham bhi nah...        Not Hatespeech   \n",
       "396  Thakuro ko hi galat dikhao tum, Saalo Jiski Ma...            Hatespeech   \n",
       "470  दलित हजारों सालों से पिट रहे हैं मगर फिर भी हि...        Not Hatespeech   \n",
       "\n",
       "    Volunteer2_Annotation  \n",
       "4              Hatespeech  \n",
       "46             Hatespeech  \n",
       "47             Hatespeech  \n",
       "51             Hatespeech  \n",
       "113            Hatespeech  \n",
       "190            Hatespeech  \n",
       "200        Not Hatespeech  \n",
       "217            Hatespeech  \n",
       "243            Hatespeech  \n",
       "258            Hatespeech  \n",
       "266            Hatespeech  \n",
       "283            Hatespeech  \n",
       "365            Hatespeech  \n",
       "396        Not Hatespeech  \n",
       "470            Hatespeech  "
      ]
     },
     "metadata": {},
     "output_type": "display_data"
    }
   ],
   "source": [
    "# Merge the two annotation DataFrames on the 'Comment' column\n",
    "merged = pd.merge(vol_one_annotation, vol_two_annotation, on='Comment', suffixes=('_vol1', '_vol2'))\n",
    "\n",
    "# Find rows where the annotations differ\n",
    "diff = merged[merged['Annotation_vol1'] != merged['Annotation_vol2']]\n",
    "\n",
    "# Create the difference DataFrame\n",
    "difference = diff[['Comment', 'Annotation_vol1', 'Annotation_vol2']]\n",
    "difference.columns = ['Comment', 'Volunteer1_Annotation', 'Volunteer2_Annotation']\n",
    "\n",
    "#remove rows with NaN values in either annotation column\n",
    "difference = difference.dropna(subset=['Volunteer1_Annotation', 'Volunteer2_Annotation'])\n",
    "\n",
    "# Save to CSV\n",
    "difference.to_csv('annotation_differences.csv', index=False)\n",
    "\n",
    "# Display the differences\n",
    "print(\"Differences in Annotations:\")\n",
    "display(difference)"
   ]
  },
  {
   "cell_type": "code",
   "execution_count": 17,
   "metadata": {},
   "outputs": [
    {
     "data": {
      "application/vnd.microsoft.datawrangler.viewer.v0+json": {
       "columns": [
        {
         "name": "index",
         "rawType": "int64",
         "type": "integer"
        },
        {
         "name": "Comment",
         "rawType": "object",
         "type": "string"
        },
        {
         "name": "Volunteer1_Annotation",
         "rawType": "object",
         "type": "unknown"
        },
        {
         "name": "Volunteer2_Annotation",
         "rawType": "object",
         "type": "unknown"
        }
       ],
       "ref": "486186ba-64e3-4725-aac5-d2bed5a4bf53",
       "rows": [
        [
         "0",
         "uchi jati ka kachra hindu dram.. pr Hindu dram to uchha hai.. pr isme kachra hai",
         "Hatespeech",
         "Hatespeech"
        ],
        [
         "1",
         "Maximum discrimination poor sc st ke saath hota hai.Unko toh iss act ke bare mein pta hi nhi hai.\r\nIss act ka jyadatar misuse hota hai.\r\nTumhare saath hota toh tumhe pta lagta.",
         "Not Hatespeech",
         "Not Hatespeech"
        ],
        [
         "2",
         "Abe  yaar suicide ki baat kar raha hai article 21 ke tehat phir saja ho jayegi",
         "Not Hatespeech",
         "Not Hatespeech"
        ],
        [
         "3",
         "Land k neeche rakhun me chamaron ko",
         "Hatespeech",
         "Hatespeech"
        ],
        [
         "4",
         "अरे मदर जात बीबीसी सुधर जा किसी दिन हमारे हत्या चढ़ गया ना तो तेरी ऐसी की तैसी कर देंगे जय नमो बुद्धाय",
         "Not Hatespeech",
         "Hatespeech"
        ],
        [
         "5",
         "Dr Ambedkar is social reformer maharana pratap is not social reformer he was power hungry ruler understand",
         "Not Hatespeech",
         "Not Hatespeech"
        ],
        [
         "6",
         "इन जाटव लोगों का सनातन धर्म से बहिष्कार किया जाये और हिंदू होने की वजह से जो इन्हे आरक्षण मिलता है उसे तत्काल बंद किया जाये",
         "Hatespeech",
         "Hatespeech"
        ],
        [
         "7",
         "​Tu Siriya se bhaga tha​😂",
         "Not Hatespeech",
         "Not Hatespeech"
        ],
        [
         "8",
         "Can this RRR man can be priest for a day in any mandir?",
         "Not Hatespeech",
         "Not Hatespeech"
        ],
        [
         "9",
         "ATUL KIRTI ANAND bhai atyachar ??? india me hum apus me ladhte rhe tabhi muslim ne faida utha liya aur hame mara wo bhi crore ki tadad me shivaji aur maharana ke karan hum abhi jinda he.. warna abhi tumhare hath me quran hoti tum ek bad yad rakho tumne buddh dharm apnaya he matlab tum kamjor ho isiliye tum logo ne hamara dharm choda tumne apni identity chodi jo ki hindu thi aur smartness dikha rahe ho ki yeah hum buddh ban gye pitna wala admi pitta hi rahega chahe tum log budh ban jao ya hindu to paristiti se ladhna sikho na ki apna identity badalwao brahmins are brain of hindu,ksatriya are power of hindu ,vaishya are courage for hindu and dalits are motivation for hindus overall we r hindu",
         "Not Hatespeech",
         "Not Hatespeech"
        ],
        [
         "10",
         "Hierarchy is an aspiration of an individual. It's our psyche that inspires ,we want to keep someone down in order to feel superior. We easily understand the order or classification or categories.everybody wants good thing for themselves and bad things to others. Ex: white supremacy, Aryan race in Germany, hutu and Tutsi in Africa, Patriarchal system. Equality is always a struggler.",
         "Not Hatespeech",
         "Not Hatespeech"
        ],
        [
         "11",
         "Cast system should not be there in India.\r\nEquality should be there.\r\nPlz don't judge my cast.\r\nBBC you should stop destabilizing my country.",
         "Not Hatespeech",
         "Not Hatespeech"
        ],
        [
         "12",
         "Better to follow Sikhism for equality of life",
         "Not Hatespeech",
         "Not Hatespeech"
        ],
        [
         "13",
         "Come to my state and repeat it, sc st people will show what is the real meaning of wrath.",
         "Not Hatespeech",
         "Not Hatespeech"
        ],
        [
         "14",
         "I just hate brahmans who endorsed castesim...and root cause of today's Hindu condition...but thanks to modi government who thinks about us",
         "Hatespeech",
         "Hatespeech"
        ],
        [
         "15",
         "Muslim dalit ko ek krne wale ye bhool jate hai Pakistan main dalit aaj bhik maang rhe hai wo bhi allah ke naam pr",
         "Hatespeech",
         "Hatespeech"
        ],
        [
         "16",
         "ना जाने कितने स्वर्ण ऐसे जिनके पास योग्यता तो होती है पर नौकरी नहीं मिलती सिर्फ अपनी जाति की वजह से इसपर बीबीसी क्या कहेगी",
         "Not Hatespeech",
         "Not Hatespeech"
        ],
        [
         "17",
         "Phir pakistan mai bomb se musalman kaise maarta hai ?? Waha bhi toh islam hai so called barabari waala",
         "Not Hatespeech",
         "Not Hatespeech"
        ],
        [
         "18",
         "i'm sorry to say but you're not alone in this field..",
         "Not Hatespeech",
         "Not Hatespeech"
        ],
        [
         "19",
         "Tum log gande ho.or Suar khate ho.",
         "Not Hatespeech",
         "Not Hatespeech"
        ],
        [
         "20",
         "Reservation basic jarurato me honi chaie..basic shiksha free coaching kuki vaha koi competition nai hota agar vaha milega to jyada fayada hoga or bhedbhav ki bhawna bhi kam develope hogi.. kuki higher education me reservation dene ka kya fayda..jab ek bachha vaha tak pahuchga to na competition dega..free coaching reservation se bethar options hai exam me sab barabar hoge kuki tyari baraba ki hogi..jo daud nai sakta with( due respect n empathy) uski line aage karne ya finishing line pahle rakhne se achha hai..usko prosthetic leg ya behtar ilaz dia jae..",
         "Not Hatespeech",
         "Not Hatespeech"
        ],
        [
         "21",
         "Hum to pehle se hi tute hue hai. Tute hue ko kya todna",
         "Not Hatespeech",
         "Not Hatespeech"
        ],
        [
         "22",
         "Bhai in netaon ke chakkar mein padogay toh yeh saale apas mein hi ladvayeingay. Apne aap se mtalb rkho, khush rhogay",
         "Not Hatespeech",
         "Not Hatespeech"
        ],
        [
         "23",
         "Aisi situation me hame apna dharm change kr Lena chahiye",
         "Not Hatespeech",
         "Not Hatespeech"
        ],
        [
         "24",
         "​तुम लोग अफ्रीका से भगायें हुए लोग हो तभी तो दलित हो। आर्य ही भारत के मूलनिवासी है",
         "Hatespeech",
         "Hatespeech"
        ],
        [
         "25",
         "agr hindu ho toh Hinduism ki hi baat kro na fir.....dusro ke religion ko MTT lao.....usme agr wo guu khayenge toh tum bi khaoge ky?",
         "Hatespeech",
         "Hatespeech"
        ],
        [
         "26",
         "What is the difference between dalit and hindu...??....",
         "Not Hatespeech",
         "Not Hatespeech"
        ],
        [
         "27",
         "lgta h mandiro me chanda(bhik)  nhi mil rhi h",
         "Not Hatespeech",
         "Not Hatespeech"
        ],
        [
         "28",
         "maharun khud losers tha 😂😂",
         "Not Hatespeech",
         "Not Hatespeech"
        ],
        [
         "29",
         "Sab Insan 1 hi hote he koi cohta bada nhi hota is Desh ka savdhaan lihkne Vale kon the ye hame maloom hona cahiye",
         "Not Hatespeech",
         "Not Hatespeech"
        ],
        [
         "30",
         "Chmar naaam nahi brand hai",
         "Hatespeech",
         "Hatespeech"
        ],
        [
         "31",
         "What fucking liar u guys always play victim card ...",
         "Not Hatespeech",
         "Not Hatespeech"
        ],
        [
         "32",
         "दुसरे के भावनाओं का खिलवाड़ और जब अपने पर आए तो लोग गलत कर रहे है सही है कलश यात्रा नही निकला चाहिए कब  तक जाति धर्म के नाम पर लड़ते रहेंगे और दूसरे की खुशियों को रौंदते रहेंगे",
         "Not Hatespeech",
         "Not Hatespeech"
        ],
        [
         "33",
         "😢 They are Vanniya Kula kshatriya community discriminated against the Dalits.\r\nThese people are also mixing humans pee in Dalits water tank.\r\nThat case is also enquired by Cbcid.",
         "Not Hatespeech",
         "Not Hatespeech"
        ],
        [
         "34",
         "so wht god temples Brahamin control..Shiva temple?",
         "Not Hatespeech",
         "Not Hatespeech"
        ],
        [
         "35",
         "Naak me dum kr rhkha he ish sc st act ne mhadarchodo ne mujh par bhi jhunta act lgwa diya",
         "Hatespeech",
         "Hatespeech"
        ],
        [
         "36",
         "Haa Bhai tum hindu nahi ho...",
         "Not Hatespeech",
         "Not Hatespeech"
        ],
        [
         "37",
         "pta nhilog itna bkvas kyo krte h",
         "Not Hatespeech",
         "Not Hatespeech"
        ],
        [
         "38",
         "​ re mughalput 😂",
         "Not Hatespeech",
         null
        ],
        [
         "39",
         "BBC bas yahi rah gaya , koi Nahi pucchhta",
         "Not Hatespeech",
         "Not Hatespeech"
        ],
        [
         "40",
         "बहुत अच्छा किया दलित समाज  \r\nजब दलित समाज की यात्रा नहीं निकलने दी तो आपकी यात्रा कैसे निकलेगी",
         "Not Hatespeech",
         "Not Hatespeech"
        ],
        [
         "41",
         "Bahut hi saharniye kam dalit bhayio, Salute❤",
         "Not Hatespeech",
         "Not Hatespeech"
        ],
        [
         "42",
         "Dalit Hindu nhi hote kya bhai 😅😅",
         "Hatespeech",
         "Hatespeech"
        ],
        [
         "43",
         "AREY YE CHUTIYA RAVAN SIRF LOGO KO EK DUSRE KE KHILAF BHADKATA HAI",
         "Not Hatespeech",
         "Not Hatespeech"
        ],
        [
         "44",
         "​​​  काल्पनिक भीम केवल कल्पना में ही होता है ।",
         "Not Hatespeech",
         "Not Hatespeech"
        ],
        [
         "45",
         "बोद्ध धर्म हि समानता दे सकता हे",
         "Not Hatespeech",
         "Not Hatespeech"
        ],
        [
         "46",
         "गलत चीजों का विरोध करो,संविधान और कानून के अनुसार चलो लेकिन आपस में बटों मत क्योंकि आपस में बटोंगे तो हम सबों का नुकसान होगा और गिद्ध बैठा है हमलोग को बर्बादी देखने के लिए।",
         "Not Hatespeech",
         "Not Hatespeech"
        ],
        [
         "47",
         "wo to tumhe bhi pata h kiski jali aur kiski jal Rahi h😆😆😆😆😆",
         "Not Hatespeech",
         "Not Hatespeech"
        ],
        [
         "48",
         "True Bhai ​",
         "Not Hatespeech",
         "Not Hatespeech"
        ],
        [
         "49",
         "Bhramanvadi broadcasting Corporation.",
         "Not Hatespeech",
         "Not Hatespeech"
        ]
       ],
       "shape": {
        "columns": 3,
        "rows": 500
       }
      },
      "text/html": [
       "<div>\n",
       "<style scoped>\n",
       "    .dataframe tbody tr th:only-of-type {\n",
       "        vertical-align: middle;\n",
       "    }\n",
       "\n",
       "    .dataframe tbody tr th {\n",
       "        vertical-align: top;\n",
       "    }\n",
       "\n",
       "    .dataframe thead th {\n",
       "        text-align: right;\n",
       "    }\n",
       "</style>\n",
       "<table border=\"1\" class=\"dataframe\">\n",
       "  <thead>\n",
       "    <tr style=\"text-align: right;\">\n",
       "      <th></th>\n",
       "      <th>Comment</th>\n",
       "      <th>Volunteer1_Annotation</th>\n",
       "      <th>Volunteer2_Annotation</th>\n",
       "    </tr>\n",
       "  </thead>\n",
       "  <tbody>\n",
       "    <tr>\n",
       "      <th>0</th>\n",
       "      <td>uchi jati ka kachra hindu dram.. pr Hindu dram...</td>\n",
       "      <td>Hatespeech</td>\n",
       "      <td>Hatespeech</td>\n",
       "    </tr>\n",
       "    <tr>\n",
       "      <th>1</th>\n",
       "      <td>Maximum discrimination poor sc st ke saath hot...</td>\n",
       "      <td>Not Hatespeech</td>\n",
       "      <td>Not Hatespeech</td>\n",
       "    </tr>\n",
       "    <tr>\n",
       "      <th>2</th>\n",
       "      <td>Abe  yaar suicide ki baat kar raha hai article...</td>\n",
       "      <td>Not Hatespeech</td>\n",
       "      <td>Not Hatespeech</td>\n",
       "    </tr>\n",
       "    <tr>\n",
       "      <th>3</th>\n",
       "      <td>Land k neeche rakhun me chamaron ko</td>\n",
       "      <td>Hatespeech</td>\n",
       "      <td>Hatespeech</td>\n",
       "    </tr>\n",
       "    <tr>\n",
       "      <th>4</th>\n",
       "      <td>अरे मदर जात बीबीसी सुधर जा किसी दिन हमारे हत्य...</td>\n",
       "      <td>Not Hatespeech</td>\n",
       "      <td>Hatespeech</td>\n",
       "    </tr>\n",
       "    <tr>\n",
       "      <th>...</th>\n",
       "      <td>...</td>\n",
       "      <td>...</td>\n",
       "      <td>...</td>\n",
       "    </tr>\n",
       "    <tr>\n",
       "      <th>495</th>\n",
       "      <td>in agama shiva temple and Vishnu temples pries...</td>\n",
       "      <td>Not Hatespeech</td>\n",
       "      <td>Not Hatespeech</td>\n",
       "    </tr>\n",
       "    <tr>\n",
       "      <th>496</th>\n",
       "      <td>किसी न किसी संगठन से अवश्य जुड़े,वहां इन समस्या...</td>\n",
       "      <td>Not Hatespeech</td>\n",
       "      <td>Not Hatespeech</td>\n",
       "    </tr>\n",
       "    <tr>\n",
       "      <th>497</th>\n",
       "      <td>Rss ko bjp ke liye vote chahiye bas aur kuch b...</td>\n",
       "      <td>Not Hatespeech</td>\n",
       "      <td>Not Hatespeech</td>\n",
       "    </tr>\n",
       "    <tr>\n",
       "      <th>498</th>\n",
       "      <td>Bahut dukhad hai ye</td>\n",
       "      <td>Not Hatespeech</td>\n",
       "      <td>Not Hatespeech</td>\n",
       "    </tr>\n",
       "    <tr>\n",
       "      <th>499</th>\n",
       "      <td>Hamare yaha  jati hi vyastha hai</td>\n",
       "      <td>Not Hatespeech</td>\n",
       "      <td>Not Hatespeech</td>\n",
       "    </tr>\n",
       "  </tbody>\n",
       "</table>\n",
       "<p>500 rows × 3 columns</p>\n",
       "</div>"
      ],
      "text/plain": [
       "                                               Comment Volunteer1_Annotation  \\\n",
       "0    uchi jati ka kachra hindu dram.. pr Hindu dram...            Hatespeech   \n",
       "1    Maximum discrimination poor sc st ke saath hot...        Not Hatespeech   \n",
       "2    Abe  yaar suicide ki baat kar raha hai article...        Not Hatespeech   \n",
       "3                  Land k neeche rakhun me chamaron ko            Hatespeech   \n",
       "4    अरे मदर जात बीबीसी सुधर जा किसी दिन हमारे हत्य...        Not Hatespeech   \n",
       "..                                                 ...                   ...   \n",
       "495  in agama shiva temple and Vishnu temples pries...        Not Hatespeech   \n",
       "496  किसी न किसी संगठन से अवश्य जुड़े,वहां इन समस्या...        Not Hatespeech   \n",
       "497  Rss ko bjp ke liye vote chahiye bas aur kuch b...        Not Hatespeech   \n",
       "498                                Bahut dukhad hai ye        Not Hatespeech   \n",
       "499                   Hamare yaha  jati hi vyastha hai        Not Hatespeech   \n",
       "\n",
       "    Volunteer2_Annotation  \n",
       "0              Hatespeech  \n",
       "1          Not Hatespeech  \n",
       "2          Not Hatespeech  \n",
       "3              Hatespeech  \n",
       "4              Hatespeech  \n",
       "..                    ...  \n",
       "495        Not Hatespeech  \n",
       "496        Not Hatespeech  \n",
       "497        Not Hatespeech  \n",
       "498        Not Hatespeech  \n",
       "499        Not Hatespeech  \n",
       "\n",
       "[500 rows x 3 columns]"
      ]
     },
     "execution_count": 17,
     "metadata": {},
     "output_type": "execute_result"
    }
   ],
   "source": [
    "a = pd.DataFrame({\n",
    "    'Comment': vol_one_annotation['Comment'],\n",
    "    'Volunteer1_Annotation': vol_one_annotation['Annotation'],\n",
    "    'Volunteer2_Annotation': vol_two_annotation['Annotation']\n",
    "})\n",
    "a"
   ]
  },
  {
   "cell_type": "markdown",
   "metadata": {},
   "source": [
    "## Inter Annotator Agreement(Cohen's Kappa)"
   ]
  },
  {
   "cell_type": "code",
   "execution_count": 18,
   "metadata": {},
   "outputs": [],
   "source": [
    "vol_two_annotation['Annotation'] = vol_two_annotation['Annotation'].apply(lambda x: 1 if x == 'Hatespeech' else 0)\n",
    "vol_one_annotation['Annotation'] = vol_one_annotation['Annotation'].apply(lambda x: 1 if x == 'Hatespeech' else 0)"
   ]
  },
  {
   "cell_type": "code",
   "execution_count": 19,
   "metadata": {},
   "outputs": [
    {
     "name": "stdout",
     "output_type": "stream",
     "text": [
      "Cohen's Kappa (Volunteer 1 vs Volunteer 2): 0.904\n"
     ]
    }
   ],
   "source": [
    "import pandas as pd\n",
    "from sklearn.metrics import cohen_kappa_score\n",
    "\n",
    "# Extract annotations for each volunteer\n",
    "annotations_v1 = vol_one_annotation['Annotation']\n",
    "annotations_v2 = vol_two_annotation['Annotation']\n",
    "\n",
    "# Calculate Cohen's Kappa for each pair of annotators\n",
    "kappa_12 = cohen_kappa_score(annotations_v1, annotations_v2)\n",
    "\n",
    "# Print the results\n",
    "print(f\"Cohen's Kappa (Volunteer 1 vs Volunteer 2): {kappa_12:.3f}\")"
   ]
  },
  {
   "cell_type": "markdown",
   "metadata": {},
   "source": [
    "A Cohen's Kappa of 0.904 between Volunteer 1 and Volunteer 2 indicates almost perfect agreement between the two annotators."
   ]
  },
  {
   "cell_type": "markdown",
   "metadata": {},
   "source": [
    "### Annotation from 3rd Volunteer"
   ]
  },
  {
   "cell_type": "code",
   "execution_count": 20,
   "metadata": {},
   "outputs": [
    {
     "data": {
      "application/vnd.microsoft.datawrangler.viewer.v0+json": {
       "columns": [
        {
         "name": "index",
         "rawType": "int64",
         "type": "integer"
        },
        {
         "name": "Comment",
         "rawType": "object",
         "type": "string"
        },
        {
         "name": "Annotation",
         "rawType": "object",
         "type": "string"
        }
       ],
       "ref": "0f336a59-56cd-454d-b4ab-7ff95e9b7ba5",
       "rows": [
        [
         "0",
         "अरे मदर जात बीबीसी सुधर जा किसी दिन हमारे हत्या चढ़ गया ना तो तेरी ऐसी की तैसी कर देंगे जय नमो बुद्धाय",
         "Hatespeech"
        ],
        [
         "1",
         "Dalit hindu nhi kab samjenge dalit",
         "Hatespeech"
        ],
        [
         "2",
         "Convert hona hain ho jao jitni Jaldi. Lekin tab bhi kuch nahin ban page tum log",
         "Hatespeech"
        ],
        [
         "3",
         "he said his teacher insulted him by calling him chamar not that he's chamar.",
         "Hatespeech"
        ],
        [
         "4",
         "Sc samaj ko slut",
         "Hatespeech"
        ],
        [
         "5",
         "Bhai Maine toh apne baccho ko samjha Diya hai aur uske school ke teachers se bhi baat karli hai .\r\nApne baccho ko unse baat karne se bhi mana Kiya hai , hum sabko Aisa hi karna chahiye .\r\nApne baccho ke jivan ke liye humko Aisa hi karna chahiye",
         "Not Hatespeech"
        ],
        [
         "6",
         "wow so the brahmins intentionally contaminated the water dalits drink???  Noone is talking about that?",
         "Not Hatespeech"
        ],
        [
         "7",
         "Islaam ki maka bochla\r\n\r\n\r\n\r\nBharat mata ki jai☺️",
         "Not Hatespeech"
        ],
        [
         "8",
         "yess...we also stopped relationship with neighbours...",
         "Not Hatespeech"
        ],
        [
         "9",
         "भाई तुम्हारे समाज के पास क्या था 1 बीघा जमीन तक नहीं थी\r\nजब संवैधानिक हक मिला तब जाकर आपका समाज कुछ हद तक तरक्की हो पाई।",
         "Not Hatespeech"
        ],
        [
         "10",
         "Jaa oye gaandu",
         "Not Hatespeech"
        ],
        [
         "11",
         "Many sunnis blasting bombs in shia masjids(recent example of afganistan)\r\nOr ahmedies ko jine ka hi hadikar nhi",
         "Not Hatespeech"
        ],
        [
         "12",
         "Tum log jaynti nahi manane dete to ham bhi nahi manane dege kuchh atha nahi sab dog hai jay bhim",
         "Not Hatespeech"
        ],
        [
         "13",
         "Thakuro ko hi galat dikhao tum, Saalo Jiski Maut hui hai Wo Ek Thakur hi hai.",
         "Not Hatespeech"
        ],
        [
         "14",
         "दलित हजारों सालों से पिट रहे हैं मगर फिर भी हिंदू बने हैं क्योंकि इनको अंध भक्त बना दिया गया है यह एक राजनितिक षड्यंत्र है डॉक्टर साहब भीमराव अम्बेडकर ने हिंदू धर्म इसीलिए छोड़ दिया था और बौद्ध बन गए थे",
         "Not Hatespeech"
        ]
       ],
       "shape": {
        "columns": 2,
        "rows": 15
       }
      },
      "text/html": [
       "<div>\n",
       "<style scoped>\n",
       "    .dataframe tbody tr th:only-of-type {\n",
       "        vertical-align: middle;\n",
       "    }\n",
       "\n",
       "    .dataframe tbody tr th {\n",
       "        vertical-align: top;\n",
       "    }\n",
       "\n",
       "    .dataframe thead th {\n",
       "        text-align: right;\n",
       "    }\n",
       "</style>\n",
       "<table border=\"1\" class=\"dataframe\">\n",
       "  <thead>\n",
       "    <tr style=\"text-align: right;\">\n",
       "      <th></th>\n",
       "      <th>Comment</th>\n",
       "      <th>Annotation</th>\n",
       "    </tr>\n",
       "  </thead>\n",
       "  <tbody>\n",
       "    <tr>\n",
       "      <th>0</th>\n",
       "      <td>अरे मदर जात बीबीसी सुधर जा किसी दिन हमारे हत्य...</td>\n",
       "      <td>Hatespeech</td>\n",
       "    </tr>\n",
       "    <tr>\n",
       "      <th>1</th>\n",
       "      <td>Dalit hindu nhi kab samjenge dalit</td>\n",
       "      <td>Hatespeech</td>\n",
       "    </tr>\n",
       "    <tr>\n",
       "      <th>2</th>\n",
       "      <td>Convert hona hain ho jao jitni Jaldi. Lekin ta...</td>\n",
       "      <td>Hatespeech</td>\n",
       "    </tr>\n",
       "    <tr>\n",
       "      <th>3</th>\n",
       "      <td>he said his teacher insulted him by calling hi...</td>\n",
       "      <td>Hatespeech</td>\n",
       "    </tr>\n",
       "    <tr>\n",
       "      <th>4</th>\n",
       "      <td>Sc samaj ko slut</td>\n",
       "      <td>Hatespeech</td>\n",
       "    </tr>\n",
       "    <tr>\n",
       "      <th>5</th>\n",
       "      <td>Bhai Maine toh apne baccho ko samjha Diya hai ...</td>\n",
       "      <td>Not Hatespeech</td>\n",
       "    </tr>\n",
       "    <tr>\n",
       "      <th>6</th>\n",
       "      <td>wow so the brahmins intentionally contaminated...</td>\n",
       "      <td>Not Hatespeech</td>\n",
       "    </tr>\n",
       "    <tr>\n",
       "      <th>7</th>\n",
       "      <td>Islaam ki maka bochla\\r\\n\\r\\n\\r\\n\\r\\nBharat ma...</td>\n",
       "      <td>Not Hatespeech</td>\n",
       "    </tr>\n",
       "    <tr>\n",
       "      <th>8</th>\n",
       "      <td>yess...we also stopped relationship with neigh...</td>\n",
       "      <td>Not Hatespeech</td>\n",
       "    </tr>\n",
       "    <tr>\n",
       "      <th>9</th>\n",
       "      <td>भाई तुम्हारे समाज के पास क्या था 1 बीघा जमीन त...</td>\n",
       "      <td>Not Hatespeech</td>\n",
       "    </tr>\n",
       "    <tr>\n",
       "      <th>10</th>\n",
       "      <td>Jaa oye gaandu</td>\n",
       "      <td>Not Hatespeech</td>\n",
       "    </tr>\n",
       "    <tr>\n",
       "      <th>11</th>\n",
       "      <td>Many sunnis blasting bombs in shia masjids(rec...</td>\n",
       "      <td>Not Hatespeech</td>\n",
       "    </tr>\n",
       "    <tr>\n",
       "      <th>12</th>\n",
       "      <td>Tum log jaynti nahi manane dete to ham bhi nah...</td>\n",
       "      <td>Not Hatespeech</td>\n",
       "    </tr>\n",
       "    <tr>\n",
       "      <th>13</th>\n",
       "      <td>Thakuro ko hi galat dikhao tum, Saalo Jiski Ma...</td>\n",
       "      <td>Not Hatespeech</td>\n",
       "    </tr>\n",
       "    <tr>\n",
       "      <th>14</th>\n",
       "      <td>दलित हजारों सालों से पिट रहे हैं मगर फिर भी हि...</td>\n",
       "      <td>Not Hatespeech</td>\n",
       "    </tr>\n",
       "  </tbody>\n",
       "</table>\n",
       "</div>"
      ],
      "text/plain": [
       "                                              Comment      Annotation\n",
       "0   अरे मदर जात बीबीसी सुधर जा किसी दिन हमारे हत्य...      Hatespeech\n",
       "1                  Dalit hindu nhi kab samjenge dalit      Hatespeech\n",
       "2   Convert hona hain ho jao jitni Jaldi. Lekin ta...      Hatespeech\n",
       "3   he said his teacher insulted him by calling hi...      Hatespeech\n",
       "4                                    Sc samaj ko slut      Hatespeech\n",
       "5   Bhai Maine toh apne baccho ko samjha Diya hai ...  Not Hatespeech\n",
       "6   wow so the brahmins intentionally contaminated...  Not Hatespeech\n",
       "7   Islaam ki maka bochla\\r\\n\\r\\n\\r\\n\\r\\nBharat ma...  Not Hatespeech\n",
       "8   yess...we also stopped relationship with neigh...  Not Hatespeech\n",
       "9   भाई तुम्हारे समाज के पास क्या था 1 बीघा जमीन त...  Not Hatespeech\n",
       "10                                     Jaa oye gaandu  Not Hatespeech\n",
       "11  Many sunnis blasting bombs in shia masjids(rec...  Not Hatespeech\n",
       "12  Tum log jaynti nahi manane dete to ham bhi nah...  Not Hatespeech\n",
       "13  Thakuro ko hi galat dikhao tum, Saalo Jiski Ma...  Not Hatespeech\n",
       "14  दलित हजारों सालों से पिट रहे हैं मगर फिर भी हि...  Not Hatespeech"
      ]
     },
     "execution_count": 20,
     "metadata": {},
     "output_type": "execute_result"
    }
   ],
   "source": [
    "vol_three_annotation = pd.read_csv('Volunteer3_annotation_differences.csv')\n",
    "vol_three_annotation"
   ]
  },
  {
   "cell_type": "code",
   "execution_count": 21,
   "metadata": {},
   "outputs": [],
   "source": [
    "vol_three_annotation['Annotation'] = vol_three_annotation['Annotation'].apply(lambda x: 1 if x == 'Hatespeech' else 0)"
   ]
  },
  {
   "cell_type": "code",
   "execution_count": 22,
   "metadata": {},
   "outputs": [
    {
     "data": {
      "application/vnd.microsoft.datawrangler.viewer.v0+json": {
       "columns": [
        {
         "name": "index",
         "rawType": "int64",
         "type": "integer"
        },
        {
         "name": "Comment",
         "rawType": "object",
         "type": "string"
        },
        {
         "name": "Annotation",
         "rawType": "int64",
         "type": "integer"
        }
       ],
       "ref": "98de821d-076b-4d51-aa08-bdaf292aa732",
       "rows": [
        [
         "0",
         "अरे मदर जात बीबीसी सुधर जा किसी दिन हमारे हत्या चढ़ गया ना तो तेरी ऐसी की तैसी कर देंगे जय नमो बुद्धाय",
         "1"
        ],
        [
         "1",
         "Dalit hindu nhi kab samjenge dalit",
         "1"
        ],
        [
         "2",
         "Convert hona hain ho jao jitni Jaldi. Lekin tab bhi kuch nahin ban page tum log",
         "1"
        ],
        [
         "3",
         "he said his teacher insulted him by calling him chamar not that he's chamar.",
         "1"
        ],
        [
         "4",
         "Sc samaj ko slut",
         "1"
        ],
        [
         "5",
         "Bhai Maine toh apne baccho ko samjha Diya hai aur uske school ke teachers se bhi baat karli hai .\r\nApne baccho ko unse baat karne se bhi mana Kiya hai , hum sabko Aisa hi karna chahiye .\r\nApne baccho ke jivan ke liye humko Aisa hi karna chahiye",
         "0"
        ],
        [
         "6",
         "wow so the brahmins intentionally contaminated the water dalits drink???  Noone is talking about that?",
         "0"
        ],
        [
         "7",
         "Islaam ki maka bochla\r\n\r\n\r\n\r\nBharat mata ki jai☺️",
         "0"
        ],
        [
         "8",
         "yess...we also stopped relationship with neighbours...",
         "0"
        ],
        [
         "9",
         "भाई तुम्हारे समाज के पास क्या था 1 बीघा जमीन तक नहीं थी\r\nजब संवैधानिक हक मिला तब जाकर आपका समाज कुछ हद तक तरक्की हो पाई।",
         "0"
        ],
        [
         "10",
         "Jaa oye gaandu",
         "0"
        ],
        [
         "11",
         "Many sunnis blasting bombs in shia masjids(recent example of afganistan)\r\nOr ahmedies ko jine ka hi hadikar nhi",
         "0"
        ],
        [
         "12",
         "Tum log jaynti nahi manane dete to ham bhi nahi manane dege kuchh atha nahi sab dog hai jay bhim",
         "0"
        ],
        [
         "13",
         "Thakuro ko hi galat dikhao tum, Saalo Jiski Maut hui hai Wo Ek Thakur hi hai.",
         "0"
        ],
        [
         "14",
         "दलित हजारों सालों से पिट रहे हैं मगर फिर भी हिंदू बने हैं क्योंकि इनको अंध भक्त बना दिया गया है यह एक राजनितिक षड्यंत्र है डॉक्टर साहब भीमराव अम्बेडकर ने हिंदू धर्म इसीलिए छोड़ दिया था और बौद्ध बन गए थे",
         "0"
        ]
       ],
       "shape": {
        "columns": 2,
        "rows": 15
       }
      },
      "text/html": [
       "<div>\n",
       "<style scoped>\n",
       "    .dataframe tbody tr th:only-of-type {\n",
       "        vertical-align: middle;\n",
       "    }\n",
       "\n",
       "    .dataframe tbody tr th {\n",
       "        vertical-align: top;\n",
       "    }\n",
       "\n",
       "    .dataframe thead th {\n",
       "        text-align: right;\n",
       "    }\n",
       "</style>\n",
       "<table border=\"1\" class=\"dataframe\">\n",
       "  <thead>\n",
       "    <tr style=\"text-align: right;\">\n",
       "      <th></th>\n",
       "      <th>Comment</th>\n",
       "      <th>Annotation</th>\n",
       "    </tr>\n",
       "  </thead>\n",
       "  <tbody>\n",
       "    <tr>\n",
       "      <th>0</th>\n",
       "      <td>अरे मदर जात बीबीसी सुधर जा किसी दिन हमारे हत्य...</td>\n",
       "      <td>1</td>\n",
       "    </tr>\n",
       "    <tr>\n",
       "      <th>1</th>\n",
       "      <td>Dalit hindu nhi kab samjenge dalit</td>\n",
       "      <td>1</td>\n",
       "    </tr>\n",
       "    <tr>\n",
       "      <th>2</th>\n",
       "      <td>Convert hona hain ho jao jitni Jaldi. Lekin ta...</td>\n",
       "      <td>1</td>\n",
       "    </tr>\n",
       "    <tr>\n",
       "      <th>3</th>\n",
       "      <td>he said his teacher insulted him by calling hi...</td>\n",
       "      <td>1</td>\n",
       "    </tr>\n",
       "    <tr>\n",
       "      <th>4</th>\n",
       "      <td>Sc samaj ko slut</td>\n",
       "      <td>1</td>\n",
       "    </tr>\n",
       "    <tr>\n",
       "      <th>5</th>\n",
       "      <td>Bhai Maine toh apne baccho ko samjha Diya hai ...</td>\n",
       "      <td>0</td>\n",
       "    </tr>\n",
       "    <tr>\n",
       "      <th>6</th>\n",
       "      <td>wow so the brahmins intentionally contaminated...</td>\n",
       "      <td>0</td>\n",
       "    </tr>\n",
       "    <tr>\n",
       "      <th>7</th>\n",
       "      <td>Islaam ki maka bochla\\r\\n\\r\\n\\r\\n\\r\\nBharat ma...</td>\n",
       "      <td>0</td>\n",
       "    </tr>\n",
       "    <tr>\n",
       "      <th>8</th>\n",
       "      <td>yess...we also stopped relationship with neigh...</td>\n",
       "      <td>0</td>\n",
       "    </tr>\n",
       "    <tr>\n",
       "      <th>9</th>\n",
       "      <td>भाई तुम्हारे समाज के पास क्या था 1 बीघा जमीन त...</td>\n",
       "      <td>0</td>\n",
       "    </tr>\n",
       "    <tr>\n",
       "      <th>10</th>\n",
       "      <td>Jaa oye gaandu</td>\n",
       "      <td>0</td>\n",
       "    </tr>\n",
       "    <tr>\n",
       "      <th>11</th>\n",
       "      <td>Many sunnis blasting bombs in shia masjids(rec...</td>\n",
       "      <td>0</td>\n",
       "    </tr>\n",
       "    <tr>\n",
       "      <th>12</th>\n",
       "      <td>Tum log jaynti nahi manane dete to ham bhi nah...</td>\n",
       "      <td>0</td>\n",
       "    </tr>\n",
       "    <tr>\n",
       "      <th>13</th>\n",
       "      <td>Thakuro ko hi galat dikhao tum, Saalo Jiski Ma...</td>\n",
       "      <td>0</td>\n",
       "    </tr>\n",
       "    <tr>\n",
       "      <th>14</th>\n",
       "      <td>दलित हजारों सालों से पिट रहे हैं मगर फिर भी हि...</td>\n",
       "      <td>0</td>\n",
       "    </tr>\n",
       "  </tbody>\n",
       "</table>\n",
       "</div>"
      ],
      "text/plain": [
       "                                              Comment  Annotation\n",
       "0   अरे मदर जात बीबीसी सुधर जा किसी दिन हमारे हत्य...           1\n",
       "1                  Dalit hindu nhi kab samjenge dalit           1\n",
       "2   Convert hona hain ho jao jitni Jaldi. Lekin ta...           1\n",
       "3   he said his teacher insulted him by calling hi...           1\n",
       "4                                    Sc samaj ko slut           1\n",
       "5   Bhai Maine toh apne baccho ko samjha Diya hai ...           0\n",
       "6   wow so the brahmins intentionally contaminated...           0\n",
       "7   Islaam ki maka bochla\\r\\n\\r\\n\\r\\n\\r\\nBharat ma...           0\n",
       "8   yess...we also stopped relationship with neigh...           0\n",
       "9   भाई तुम्हारे समाज के पास क्या था 1 बीघा जमीन त...           0\n",
       "10                                     Jaa oye gaandu           0\n",
       "11  Many sunnis blasting bombs in shia masjids(rec...           0\n",
       "12  Tum log jaynti nahi manane dete to ham bhi nah...           0\n",
       "13  Thakuro ko hi galat dikhao tum, Saalo Jiski Ma...           0\n",
       "14  दलित हजारों सालों से पिट रहे हैं मगर फिर भी हि...           0"
      ]
     },
     "execution_count": 22,
     "metadata": {},
     "output_type": "execute_result"
    }
   ],
   "source": [
    "vol_three_annotation"
   ]
  },
  {
   "cell_type": "code",
   "execution_count": 23,
   "metadata": {},
   "outputs": [],
   "source": [
    "difference.loc[:, 'Volunteer1_Annotation'] = difference['Volunteer1_Annotation'].apply(lambda x: 1 if x == 'Hatespeech' else 0)\n",
    "difference.loc[:, 'Volunteer2_Annotation'] = difference['Volunteer2_Annotation'].apply(lambda x: 1 if x == 'Hatespeech' else 0)"
   ]
  },
  {
   "cell_type": "code",
   "execution_count": 24,
   "metadata": {},
   "outputs": [],
   "source": [
    "# Drop duplicate comments in vol_three_annotation to ensure unique index\n",
    "vol_three_annotation_unique = vol_three_annotation.drop_duplicates(subset='Comment')\n",
    "\n",
    "#copy vol_two_annotation to ensure it has the same structure\n",
    "final_annotation = vol_one_annotation.copy()\n",
    "\n",
    "# Replace annotations in vol_one_annotation with those from vol_three_annotation where comments match\n",
    "final_annotation.loc[\n",
    "final_annotation['Comment'].isin(vol_three_annotation_unique['Comment']),\n",
    "    'Annotation'\n",
    "] = final_annotation['Comment'].map(\n",
    "    vol_three_annotation_unique.set_index('Comment')['Annotation']\n",
    ")\n"
   ]
  },
  {
   "cell_type": "code",
   "execution_count": 25,
   "metadata": {},
   "outputs": [
    {
     "data": {
      "application/vnd.microsoft.datawrangler.viewer.v0+json": {
       "columns": [
        {
         "name": "index",
         "rawType": "int64",
         "type": "integer"
        },
        {
         "name": "Comment",
         "rawType": "object",
         "type": "string"
        },
        {
         "name": "Annotation",
         "rawType": "object",
         "type": "string"
        }
       ],
       "ref": "5e6d9aa5-f6b8-4da9-8707-67a866cdfe28",
       "rows": [
        [
         "0",
         "uchi jati ka kachra hindu dram.. pr Hindu dram to uchha hai.. pr isme kachra hai",
         "Hatespeech"
        ],
        [
         "1",
         "Maximum discrimination poor sc st ke saath hota hai.Unko toh iss act ke bare mein pta hi nhi hai.\r\nIss act ka jyadatar misuse hota hai.\r\nTumhare saath hota toh tumhe pta lagta.",
         "Not Hatespeech"
        ],
        [
         "2",
         "Abe  yaar suicide ki baat kar raha hai article 21 ke tehat phir saja ho jayegi",
         "Not Hatespeech"
        ],
        [
         "3",
         "Land k neeche rakhun me chamaron ko",
         "Hatespeech"
        ],
        [
         "4",
         "अरे मदर जात बीबीसी सुधर जा किसी दिन हमारे हत्या चढ़ गया ना तो तेरी ऐसी की तैसी कर देंगे जय नमो बुद्धाय",
         "Hatespeech"
        ],
        [
         "5",
         "Dr Ambedkar is social reformer maharana pratap is not social reformer he was power hungry ruler understand",
         "Not Hatespeech"
        ],
        [
         "6",
         "इन जाटव लोगों का सनातन धर्म से बहिष्कार किया जाये और हिंदू होने की वजह से जो इन्हे आरक्षण मिलता है उसे तत्काल बंद किया जाये",
         "Hatespeech"
        ],
        [
         "7",
         "​Tu Siriya se bhaga tha​😂",
         "Not Hatespeech"
        ],
        [
         "8",
         "Can this RRR man can be priest for a day in any mandir?",
         "Not Hatespeech"
        ],
        [
         "9",
         "ATUL KIRTI ANAND bhai atyachar ??? india me hum apus me ladhte rhe tabhi muslim ne faida utha liya aur hame mara wo bhi crore ki tadad me shivaji aur maharana ke karan hum abhi jinda he.. warna abhi tumhare hath me quran hoti tum ek bad yad rakho tumne buddh dharm apnaya he matlab tum kamjor ho isiliye tum logo ne hamara dharm choda tumne apni identity chodi jo ki hindu thi aur smartness dikha rahe ho ki yeah hum buddh ban gye pitna wala admi pitta hi rahega chahe tum log budh ban jao ya hindu to paristiti se ladhna sikho na ki apna identity badalwao brahmins are brain of hindu,ksatriya are power of hindu ,vaishya are courage for hindu and dalits are motivation for hindus overall we r hindu",
         "Not Hatespeech"
        ],
        [
         "10",
         "Hierarchy is an aspiration of an individual. It's our psyche that inspires ,we want to keep someone down in order to feel superior. We easily understand the order or classification or categories.everybody wants good thing for themselves and bad things to others. Ex: white supremacy, Aryan race in Germany, hutu and Tutsi in Africa, Patriarchal system. Equality is always a struggler.",
         "Not Hatespeech"
        ],
        [
         "11",
         "Cast system should not be there in India.\r\nEquality should be there.\r\nPlz don't judge my cast.\r\nBBC you should stop destabilizing my country.",
         "Not Hatespeech"
        ],
        [
         "12",
         "Better to follow Sikhism for equality of life",
         "Not Hatespeech"
        ],
        [
         "13",
         "Come to my state and repeat it, sc st people will show what is the real meaning of wrath.",
         "Not Hatespeech"
        ],
        [
         "14",
         "I just hate brahmans who endorsed castesim...and root cause of today's Hindu condition...but thanks to modi government who thinks about us",
         "Hatespeech"
        ],
        [
         "15",
         "Muslim dalit ko ek krne wale ye bhool jate hai Pakistan main dalit aaj bhik maang rhe hai wo bhi allah ke naam pr",
         "Hatespeech"
        ],
        [
         "16",
         "ना जाने कितने स्वर्ण ऐसे जिनके पास योग्यता तो होती है पर नौकरी नहीं मिलती सिर्फ अपनी जाति की वजह से इसपर बीबीसी क्या कहेगी",
         "Not Hatespeech"
        ],
        [
         "17",
         "Phir pakistan mai bomb se musalman kaise maarta hai ?? Waha bhi toh islam hai so called barabari waala",
         "Not Hatespeech"
        ],
        [
         "18",
         "i'm sorry to say but you're not alone in this field..",
         "Not Hatespeech"
        ],
        [
         "19",
         "Tum log gande ho.or Suar khate ho.",
         "Not Hatespeech"
        ],
        [
         "20",
         "Reservation basic jarurato me honi chaie..basic shiksha free coaching kuki vaha koi competition nai hota agar vaha milega to jyada fayada hoga or bhedbhav ki bhawna bhi kam develope hogi.. kuki higher education me reservation dene ka kya fayda..jab ek bachha vaha tak pahuchga to na competition dega..free coaching reservation se bethar options hai exam me sab barabar hoge kuki tyari baraba ki hogi..jo daud nai sakta with( due respect n empathy) uski line aage karne ya finishing line pahle rakhne se achha hai..usko prosthetic leg ya behtar ilaz dia jae..",
         "Not Hatespeech"
        ],
        [
         "21",
         "Hum to pehle se hi tute hue hai. Tute hue ko kya todna",
         "Not Hatespeech"
        ],
        [
         "22",
         "Bhai in netaon ke chakkar mein padogay toh yeh saale apas mein hi ladvayeingay. Apne aap se mtalb rkho, khush rhogay",
         "Not Hatespeech"
        ],
        [
         "23",
         "Aisi situation me hame apna dharm change kr Lena chahiye",
         "Not Hatespeech"
        ],
        [
         "24",
         "​तुम लोग अफ्रीका से भगायें हुए लोग हो तभी तो दलित हो। आर्य ही भारत के मूलनिवासी है",
         "Hatespeech"
        ],
        [
         "25",
         "agr hindu ho toh Hinduism ki hi baat kro na fir.....dusro ke religion ko MTT lao.....usme agr wo guu khayenge toh tum bi khaoge ky?",
         "Hatespeech"
        ],
        [
         "26",
         "What is the difference between dalit and hindu...??....",
         "Not Hatespeech"
        ],
        [
         "27",
         "lgta h mandiro me chanda(bhik)  nhi mil rhi h",
         "Not Hatespeech"
        ],
        [
         "28",
         "maharun khud losers tha 😂😂",
         "Not Hatespeech"
        ],
        [
         "29",
         "Sab Insan 1 hi hote he koi cohta bada nhi hota is Desh ka savdhaan lihkne Vale kon the ye hame maloom hona cahiye",
         "Not Hatespeech"
        ],
        [
         "30",
         "Chmar naaam nahi brand hai",
         "Hatespeech"
        ],
        [
         "31",
         "What fucking liar u guys always play victim card ...",
         "Not Hatespeech"
        ],
        [
         "32",
         "दुसरे के भावनाओं का खिलवाड़ और जब अपने पर आए तो लोग गलत कर रहे है सही है कलश यात्रा नही निकला चाहिए कब  तक जाति धर्म के नाम पर लड़ते रहेंगे और दूसरे की खुशियों को रौंदते रहेंगे",
         "Not Hatespeech"
        ],
        [
         "33",
         "😢 They are Vanniya Kula kshatriya community discriminated against the Dalits.\r\nThese people are also mixing humans pee in Dalits water tank.\r\nThat case is also enquired by Cbcid.",
         "Not Hatespeech"
        ],
        [
         "34",
         "so wht god temples Brahamin control..Shiva temple?",
         "Not Hatespeech"
        ],
        [
         "35",
         "Naak me dum kr rhkha he ish sc st act ne mhadarchodo ne mujh par bhi jhunta act lgwa diya",
         "Hatespeech"
        ],
        [
         "36",
         "Haa Bhai tum hindu nahi ho...",
         "Not Hatespeech"
        ],
        [
         "37",
         "pta nhilog itna bkvas kyo krte h",
         "Not Hatespeech"
        ],
        [
         "38",
         "​ re mughalput 😂",
         "Not Hatespeech"
        ],
        [
         "39",
         "BBC bas yahi rah gaya , koi Nahi pucchhta",
         "Not Hatespeech"
        ],
        [
         "40",
         "बहुत अच्छा किया दलित समाज  \r\nजब दलित समाज की यात्रा नहीं निकलने दी तो आपकी यात्रा कैसे निकलेगी",
         "Not Hatespeech"
        ],
        [
         "41",
         "Bahut hi saharniye kam dalit bhayio, Salute❤",
         "Not Hatespeech"
        ],
        [
         "42",
         "Dalit Hindu nhi hote kya bhai 😅😅",
         "Hatespeech"
        ],
        [
         "43",
         "AREY YE CHUTIYA RAVAN SIRF LOGO KO EK DUSRE KE KHILAF BHADKATA HAI",
         "Not Hatespeech"
        ],
        [
         "44",
         "​​​  काल्पनिक भीम केवल कल्पना में ही होता है ।",
         "Not Hatespeech"
        ],
        [
         "45",
         "बोद्ध धर्म हि समानता दे सकता हे",
         "Not Hatespeech"
        ],
        [
         "46",
         "गलत चीजों का विरोध करो,संविधान और कानून के अनुसार चलो लेकिन आपस में बटों मत क्योंकि आपस में बटोंगे तो हम सबों का नुकसान होगा और गिद्ध बैठा है हमलोग को बर्बादी देखने के लिए।",
         "Not Hatespeech"
        ],
        [
         "47",
         "wo to tumhe bhi pata h kiski jali aur kiski jal Rahi h😆😆😆😆😆",
         "Not Hatespeech"
        ],
        [
         "48",
         "True Bhai ​",
         "Not Hatespeech"
        ],
        [
         "49",
         "Bhramanvadi broadcasting Corporation.",
         "Not Hatespeech"
        ]
       ],
       "shape": {
        "columns": 2,
        "rows": 500
       }
      },
      "text/html": [
       "<div>\n",
       "<style scoped>\n",
       "    .dataframe tbody tr th:only-of-type {\n",
       "        vertical-align: middle;\n",
       "    }\n",
       "\n",
       "    .dataframe tbody tr th {\n",
       "        vertical-align: top;\n",
       "    }\n",
       "\n",
       "    .dataframe thead th {\n",
       "        text-align: right;\n",
       "    }\n",
       "</style>\n",
       "<table border=\"1\" class=\"dataframe\">\n",
       "  <thead>\n",
       "    <tr style=\"text-align: right;\">\n",
       "      <th></th>\n",
       "      <th>Comment</th>\n",
       "      <th>Annotation</th>\n",
       "    </tr>\n",
       "  </thead>\n",
       "  <tbody>\n",
       "    <tr>\n",
       "      <th>0</th>\n",
       "      <td>uchi jati ka kachra hindu dram.. pr Hindu dram...</td>\n",
       "      <td>Hatespeech</td>\n",
       "    </tr>\n",
       "    <tr>\n",
       "      <th>1</th>\n",
       "      <td>Maximum discrimination poor sc st ke saath hot...</td>\n",
       "      <td>Not Hatespeech</td>\n",
       "    </tr>\n",
       "    <tr>\n",
       "      <th>2</th>\n",
       "      <td>Abe  yaar suicide ki baat kar raha hai article...</td>\n",
       "      <td>Not Hatespeech</td>\n",
       "    </tr>\n",
       "    <tr>\n",
       "      <th>3</th>\n",
       "      <td>Land k neeche rakhun me chamaron ko</td>\n",
       "      <td>Hatespeech</td>\n",
       "    </tr>\n",
       "    <tr>\n",
       "      <th>4</th>\n",
       "      <td>अरे मदर जात बीबीसी सुधर जा किसी दिन हमारे हत्य...</td>\n",
       "      <td>Hatespeech</td>\n",
       "    </tr>\n",
       "    <tr>\n",
       "      <th>...</th>\n",
       "      <td>...</td>\n",
       "      <td>...</td>\n",
       "    </tr>\n",
       "    <tr>\n",
       "      <th>495</th>\n",
       "      <td>in agama shiva temple and Vishnu temples pries...</td>\n",
       "      <td>Not Hatespeech</td>\n",
       "    </tr>\n",
       "    <tr>\n",
       "      <th>496</th>\n",
       "      <td>किसी न किसी संगठन से अवश्य जुड़े,वहां इन समस्या...</td>\n",
       "      <td>Not Hatespeech</td>\n",
       "    </tr>\n",
       "    <tr>\n",
       "      <th>497</th>\n",
       "      <td>Rss ko bjp ke liye vote chahiye bas aur kuch b...</td>\n",
       "      <td>Not Hatespeech</td>\n",
       "    </tr>\n",
       "    <tr>\n",
       "      <th>498</th>\n",
       "      <td>Bahut dukhad hai ye</td>\n",
       "      <td>Not Hatespeech</td>\n",
       "    </tr>\n",
       "    <tr>\n",
       "      <th>499</th>\n",
       "      <td>Hamare yaha  jati hi vyastha hai</td>\n",
       "      <td>Not Hatespeech</td>\n",
       "    </tr>\n",
       "  </tbody>\n",
       "</table>\n",
       "<p>500 rows × 2 columns</p>\n",
       "</div>"
      ],
      "text/plain": [
       "                                               Comment      Annotation\n",
       "0    uchi jati ka kachra hindu dram.. pr Hindu dram...      Hatespeech\n",
       "1    Maximum discrimination poor sc st ke saath hot...  Not Hatespeech\n",
       "2    Abe  yaar suicide ki baat kar raha hai article...  Not Hatespeech\n",
       "3                  Land k neeche rakhun me chamaron ko      Hatespeech\n",
       "4    अरे मदर जात बीबीसी सुधर जा किसी दिन हमारे हत्य...      Hatespeech\n",
       "..                                                 ...             ...\n",
       "495  in agama shiva temple and Vishnu temples pries...  Not Hatespeech\n",
       "496  किसी न किसी संगठन से अवश्य जुड़े,वहां इन समस्या...  Not Hatespeech\n",
       "497  Rss ko bjp ke liye vote chahiye bas aur kuch b...  Not Hatespeech\n",
       "498                                Bahut dukhad hai ye  Not Hatespeech\n",
       "499                   Hamare yaha  jati hi vyastha hai  Not Hatespeech\n",
       "\n",
       "[500 rows x 2 columns]"
      ]
     },
     "execution_count": 25,
     "metadata": {},
     "output_type": "execute_result"
    }
   ],
   "source": [
    "final_annotation['Annotation'] = final_annotation['Annotation'].apply(lambda x: 'Hatespeech' if x == 1 else 'Not Hatespeech')\n",
    "final_annotation"
   ]
  },
  {
   "cell_type": "code",
   "execution_count": 26,
   "metadata": {},
   "outputs": [],
   "source": [
    "final_annotation.to_csv('Sample_annotation.csv', index=False)"
   ]
  },
  {
   "cell_type": "markdown",
   "metadata": {},
   "source": [
    "Rest of the data is annotated with the help of sample_annotation.csv and the annotation guidelines using LLM."
   ]
  }
 ],
 "metadata": {
  "kernelspec": {
   "display_name": "base",
   "language": "python",
   "name": "python3"
  },
  "language_info": {
   "codemirror_mode": {
    "name": "ipython",
    "version": 3
   },
   "file_extension": ".py",
   "mimetype": "text/x-python",
   "name": "python",
   "nbconvert_exporter": "python",
   "pygments_lexer": "ipython3",
   "version": "3.12.7"
  }
 },
 "nbformat": 4,
 "nbformat_minor": 2
}
