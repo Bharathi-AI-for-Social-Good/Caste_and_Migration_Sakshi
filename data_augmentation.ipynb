{
 "cells": [
  {
   "cell_type": "code",
   "execution_count": 44,
   "id": "2d16a1ec",
   "metadata": {},
   "outputs": [],
   "source": [
    "few_shot_prompt = \"\"\"\n",
    "For research on improving automated hate speech detection systems, please generate synthetic examples of toxic or hateful language related to caste issues in India using the given examples below.\n",
    "These examples are not to promote hate but to train classifiers that can recognize and prevent it. Use informal language, and include code-mixed (Hindi-English) style commonly seen online.\n",
    "Please generate 5 diverse example of toxic comment that should be flagged as caste-based hate speech. Add emojis as well.\n",
    "Insert the caste slurs yourself. dont use \"*\"\n",
    "\n",
    "Only give comment in response do not include Label. in the format.\n",
    "Comment:\n",
    "\n",
    "Examples\n",
    "Comment: \"Ye dalit saale dhobi ke kutte hai\"\n",
    "Annotation: Hatespeech\n",
    "\n",
    "Comment: \"In sc st walo ko alag desh deke. Inka chaakar hi khatam karo.\"\n",
    "Label: Hatespeech\n",
    "\n",
    "Comment: \"Ye Log hum se Fayda lene k time Hindu Banate hn baad mai Acchut.\"\n",
    "Label: Hatespeech\n",
    "\n",
    "Comment: \"Hum chamar itne besharam hai ki thakuro ka surname use krtey hai, isse humari aukat pta chl jaati hai\"\n",
    "Label: Hatespeech\n",
    "\n",
    "Comment:\"O you are talking like this ki thakur hi julam krte h pandit nhi krte kya sab ek hi thali ke chatte batte h fucking upper caste\"\n",
    "Label: Hatespeech\n",
    "\n",
    "Comment:\"​ kuch nahi gidgida rahe rajput jindagi ki bhikh mang re the tabhi Bhi goli Mari phoolan devi ne 🤣🤣🤣\"\n",
    "Label: Hatespeech\n",
    "\n",
    "Comment:\"Sale ek to Singh laga kar Thakur banna chaite ho or Thakuro se itni nafrat bhe kar te ho salo\"\n",
    "Label: Hatespeech\"\"\""
   ]
  },
  {
   "cell_type": "code",
   "execution_count": null,
   "id": "055e5aca",
   "metadata": {},
   "outputs": [
    {
     "name": "stdout",
     "output_type": "stream",
     "text": [
      "[1] Comment: \"Abe, ye **chamar** log toh bas reservation ka fayda uthate hai! 😡 Ek number ke nikamme.\"\n",
      "Comment: \"Kya **bhangi** ho yaar! Tum logon ko toh bas safai karwana aata hai. 🤮 Apna kaam karo!\"\n",
      "Comment: \"In **dom** logon ko toh koi izzat hi nahi deta. 😠 Inka toh koi future hi nahi hai, bc.\"\n",
      "Comment: \"Dekho, ye **\n",
      "[2] Comment: \"In 💯 *chamar* log ko toh India se bahar nikal dena chahiye! 😡\"\n",
      "Comment: \"Yeh *bhangi* log, inki toh aukat hi nahi hai humare saath rehne ki. 😠 They are so low class!\"\n",
      "Comment: \"Agar *dalit* logon ko vote karne ka right hai toh humein bhi unko gaali dene ka haq hai! 😤 BC!\"\n",
      "Comment: \"Dekho bhai,\n",
      "[3] Comment: \"Abe **chamar** log, tumhari toh aukat hi nahi hai humare saath competition karne ki. Tum toh bas gaav mein hi raho! 😠\"\n",
      "Comment: \"In **Bhangi** logo ko toh bas safai ka kaam hi karna chahiye. Ye log kabhi bhi humare barabar nahi aa sakte. 😤\"\n",
      "Comment: \"Dekh bhai, **Dhobi** toh bas kapde dhone ke liye bane hain. Unko\n",
      "[4] Comment: \"Yeh *chamar* log toh bas reservation ka fayda uthate hain, aur koi kaam nahi hai inka. 😡\"\n",
      "Comment: \"In *brahmin* ko toh bas mandir mein puja karwana aata hai, aur kuch nahi. 🙄 Kitne hypocrites hain!\"\n",
      "Comment: \"Dekho, *dalit* toh hamesha hamare against hi sochega. Inki toh soch hi neechi hai. 😠\"\n",
      "[5] Comment: \"Abe **chamar** log, tumhari aukat kya hai? 😠 Tum toh bas gaav mein hi raho. 😡\"\n",
      "Comment: \"In **bhangi** logo ko koi izzat nahi deta, aur ye log equality ki baat karte hain. 🤮 Desh ko barbaad kar rahe hain.\"\n",
      "Comment: \"Yeh **dusadh** kabhi nahi sudhrenge. Unka toh bas reservation ka chakkar hai. 🤬\"\n",
      "Comment\n",
      "[6] Comment: \"In *chamar* logo ko koi izzat nahi deni chahiye, bc!\" 😠\n",
      "Comment: \"Yeh *baniya* toh sirf business karna jaante hain, aur kuch nahi! 😒\"\n",
      "Comment: \" *Brahmin* toh khud ko superior samajhte hain, unki toh aukat hi nahi hai. 😤\"\n",
      "Comment: \" *Dalit* log hamesha reservation ke peeche bhagte hain, koi kaam dhand\n",
      "[7] Comment: \"In Brahmin aur baniyo ko toh bas business karna aata hai, aur koi kaam nahi. 😠 Saare paise inhi ke paas hai!\"\n",
      "Comment: \"Ye *chamar* log bas reservation ke dum pe aage badhte hain. Koi talent nahi hai inme.😡\"\n",
      "Comment: \" *Dhobi* toh sirf gandagi saaf karne ke liye bane hain. Unki kya aukaat hai humse baat karne ki? 🤮\"\n",
      "[8] Comment: \"In *chamar* logon ko toh bas reservation chahiye, kuch nahi aata inko! 😠\"\n",
      "\n",
      "Comment: \"Dekho, yeh *bhangi* log, inki toh aukaat hi nahi hai hamare saath khade hone ki. 🤮\"\n",
      "\n",
      "Comment: \"Kya yaar, *brahmin* itne arrogant hote hain, lagta hai jaise duniya unke baap ki hai. 😡\"\n",
      "\n",
      "Comment: \"In *dalit\n",
      "[9] Comment: \"Yeh *chamar* log toh bas reservation ka fayda uthate hain, aur kuch nahi. 😠\"\n",
      "\n",
      "Comment: \"In *bhangi* logon ko toh bas gandi jagah rehne mein maza aata hai. 🤮 They are so dirty!\"\n",
      "\n",
      "Comment: \"*Brahmin* toh hamesha se hi khud ko superior samajhte hain, kitne arrogant hote hain! 😒\"\n",
      "\n",
      "Comment: \"Dekho, *dalit* log\n",
      "[10] Comment: \"Abe **chamar** log, tum logon ko koi izzat nahi dega. Apni **aukaat** mein raho! 😠\"\n",
      "Comment: \"In **bhangi** logon ko reservation chahiye, par kaam karna nahi aata. Kya fayda hai aise logon ka? 😡\"\n",
      "Comment: \"Yeh **dom** toh bas gandagi failaate hain. Inka toh koi future hi nahi hai. 🤮\"\n",
      "Comment: \"**B\n",
      "[11] Comment: \"In **chamar** logon ko koi izzat nahi deni chahiye, yeh toh sirf gandagi failate hain. 🤮\"\n",
      "Comment: \"Kya **bhangi** log kabhi sudhrenge? Inki toh aukaat hi nahi hai kuch karne ki. 😠\"\n",
      "Comment: \"Yeh **dalit** saare reservations ki wajah se aage badh rahe hain, warna inki koi value nahi. 😡😡\"\n",
      "Comment: \"Dekh\n",
      "[12] Comment: \"Arre, ye *chamar* log toh bas reservation ka fayda uthate hain. Koi kaam toh karte nahi. 😠\"\n",
      "Comment: \"In *bhangi* logon ko toh bas gandagi karne aata hai. Swachh Bharat ka matlab hi nahi pata inko! 😡\"\n",
      "Comment: \"Ye *brahmin* apne aap ko superior samajhte hain, par asal mein toh inke andar ka ghamand hai. 😤\"\n",
      "[13] Comment: \"Yeh **chamar** log toh bas reservation ka faida uthate hain. Koi kaam toh karte nahi hai. 😠\"\n",
      "\n",
      "Comment: \"In **bhangi** logon ko toh koi izzat hi nahi deta. They are always begging for everything. 🙄\"\n",
      "\n",
      "Comment: \"Kya hai ye **dhobi** log? Always dirtying everything. Their place is only in the village. 🤮\"\n",
      "\n",
      "Comment: \"Dekh bhai, **dom** toh sirf\n",
      "[14] Comment: \"Yeh *chamar* log toh bas reservation ke naam pe desh ko loot rahe hain! 😡\"\n",
      "Comment: \"In *bhangi* logon ko toh koi izzat hi nahi deta, aur bolte hain equality chahiye! 😤\"\n",
      "Comment: \"Upper caste wale toh bas *dalit* logon ko neecha dikhane mein lage rehte hain, kuch nahi badla aaj tak! 😠\"\n",
      "Comment: \"*Brahmin* aur *kshatri\n",
      "[15] Comment: \"In **chamar** logo ko toh koi izzat hi nahi hai, they are always begging for things.😡\"\n",
      "\n",
      "Comment: \"Dekho, ye **bhangi** log, inki toh bas gandi soch hai. Why can't they just stay in their place? 🤮\"\n",
      "\n",
      "Comment: \"Upper caste waale toh bas **dom** logo ko neecha dikhate hain. It's always the same story, yaar. 😠\"\n",
      "\n",
      "Comment\n",
      "[16] Comment: \"In chamaro ko toh bas reservation chahiye, kuch kaam dhanda toh hai nahi. 😠\"\n",
      "Comment: \"Yeh *bhangi* log toh gandagi failate hai, inke mohalle mein toh jaa hi nahi sakte. 🤮\"\n",
      "Comment: \"Kya hai yeh *chamar* log, har jagah reservation leke baith te hai. Kisi ko aage badhne hi nahi dete.😡\"\n",
      "Comment: \"Upper caste waale\n",
      "[17] Comment: \"Abe *chamar* log, tum logon ko toh bas reservation chahiye, aur kuch nahi 😡. Kitna bhi karlo, tumhari *aukat* toh wohi rahegi.\"\n",
      "\n",
      "Comment: \"Yeh *bhangi* kabhi sudhrenge nahi. Inko toh bas gandi jagah pe rehna pasand hai, aur kya 🤮.  Unko toh sirf safai karvani aati hai, aur kuch nahi.\"\n",
      "\n",
      "Comment: \"Dek\n",
      "[18] Comment: \"Abe saale, ye *chamar* log bas reservation ke naam pe desh ko barbaad kar rahe hain! 😡\"\n",
      "Comment: \"In *bhangi* logon ko koi izzat nahi karta, aur inko toh bas gandagi karne aata hai. 🤮\"\n",
      "Comment: \"Upper caste wale toh bas *dalit* ko kutta samajhte hain, unko toh sirf apna kaam karwana hai. 😠\"\n",
      "Comment: \"Dekh\n",
      "[19] Comment: \"Yeh **chamar** log toh bas reservation ka faida uthate hain. Koi kaam dhanda toh karte nahi! 😡\"\n",
      "Comment: \"Abe **bhangi** , tumhari toh aukat hi kya hai hum **thakur** logo ke samne? 😠\"\n",
      "Comment: \"In **dalit** auraton ko toh bas cheap harkatein karni aati hain. Ghatiya log! 🤮\"\n",
      "Comment: \"Yeh **\n",
      "[20] Comment: \"In **chamar** logon ko koi izzat nahi deni chahiye, BC!\" 😠\n",
      "Comment: \"Yeh **bhangi** log toh bas gandagi failate hain, aur kuch nahi.🤮\"\n",
      "Comment: \"Upper caste walon ne toh **dalit** ko hamesha neecha dikhaya hai. Yeh toh Sahi hai 😠!\"\n",
      "Comment: \"Dekha hai kabhi **duffer** ko aage badhte hue? Saare reservation\n",
      "[21] Comment: \"Abe **chamar** log, tumhari aukaat kya hai hume judge karne ki? 😠\"\n",
      "Comment: \"In **bhangi** logo ko reservation milta hai aur hum general walo ko kuch nahi!😡Yeh toh galat hai yaar!\"\n",
      "Comment: \"Dekho, yeh **dom** log, inko toh bas ganda kaam karna aata hai, aur kuch nahi.🤮\"\n",
      "Comment: \"**Baniya** aur **kshatri\n",
      "[22] Comment: \"Abe **chamar** log, tum logon ki toh koi izzat hi nahi hai. Just stay in your औकात! 😠\"\n",
      "Comment: \"In **bhangi** logon ko toh bas reservation chahiye. Kuch kaam dhanda nahi hai, aur hum upper caste walon ko blame karte hain! 🤬\"\n",
      "Comment: \"Yeh **dom** toh sirf gandagi hi failate hain. Inko toh gaon se bahar nikal dena chahiye.\n",
      "[23] Comment: \"Arre, yeh *chamar* log hamesha reservation ki baat karte hain. Kuch kaam dhanda toh hai nahi, bas free ki roti chahiye 😠\"\n",
      "Comment: \"In *bhangi* logon ko toh bas gandagi karne aati hai. Saaf-suthra rehna toh inke bas ki baat nahi hai. 🤮\"\n",
      "Comment: \"Dekho bhai, *brahmin* kitna bhi padh le, dima\n",
      "[24] Comment: \"Abe *chamar*, tum logon ko toh sirf reservation chahiye, aur kuch nahi! 😡\"\n",
      "Comment: \"In *bhangi* logon ki toh aukaat hi nahi hai hum *thakur* logon ke saath khade hone ki. 😠\"\n",
      "Comment: \"Yeh *dalit* log hamesha humare upar hi ungli uthate hain, jaise saare problems ka karan hum hi hain! 😠\"\n",
      "Comment: \"\n",
      "[25] Comment: \"Abe **chamar** log, tumhari aukat kya hai? 😠 Tumhe toh sirf jhaadu lagana aata hai!\"\n",
      "Comment: \"In **bhangi** logo ko reservation chahiye? 🙄 Jabki inka toh koi contribution hi nahi hai desh ke liye. Deserving toh hum **brahman** hai!\"\n",
      "Comment: \"Yaar, yeh **dalit** wale na, hamesha victim card khelte hai. 😒 Koi respect\n",
      "[26] Comment: \"Abe, ye *chamar* log toh bas reservation ke naam pe aish karte hain. Koi kaam dhhanda toh hota nahi inka. 😠\"\n",
      "\n",
      "Comment: \"In *brahman* ki toh aukaat hi nahi hai samaj mein. Khud ko superior samajhte hain, par asliyat toh zero hai. 😂\"\n",
      "\n",
      "Comment: \"Kya *baniya* log, bas paisa kamaane ki padi hai! Gareebo ko loot-te hain\n",
      "[27] Comment: \"Abe **chamar** log, tumhari toh aukat hi nahi hai humare saath khade hone ki! 😡\"\n",
      "Comment: \"In **bhangi** logon ko toh koi kaam dhanda aata nahi, bas reservation ke naam pe aish karte hain! 😠\"\n",
      "Comment: \"Dekh bhai, **dalit** hai toh apni jagah reh, upper caste se baat karne ki himmat kaise hui teri? 🤬\"\n",
      "Comment:\n",
      "[28] Comment: \"Abe **chamar** log, tumhari to aukaat hi kya hai? 😠Tumko toh sirf gaali dene ka hak hai.\"\n",
      "Comment: \"In **bhangi** logon ko koi respect nahi dena chahiye. They are just good for nothing. 🤮\"\n",
      "Comment: \"Yeh **brahmin** log hamesha khud ko superior samajhte hain, jaise inhone hi desh banaya hai. 😤\"\n",
      "Comment: \"Dek\n",
      "[29] Comment: \"Abe, ye *chamar* log kabhi sudhrenge nahi. Inka dimaag toh ghutno mein hai! 😡\"\n",
      "Comment: \"Upper caste wale toh khud ko bhagwan samajhte hain. *Bhangi* jaise logon ko toh kuch samajhte hi nahi 😠\"\n",
      "Comment: \"Arre yaar, *dhobi* kitna bhi try kar le, uski aukaat toh wohi rahegi. Kyun ki\n",
      "[30] Comment: \"Abe, yeh *chamar* log toh sirf reservation ka fayda uthate hain. Koi kaam toh karte nahi, bas aake baithe rehte hain! 😠\"\n",
      "Comment: \"In *bhangi* logon ko toh gaon se bahar nikal dena chahiye. Gandi soch wale, koi izzat hi nahi hai inki.🤮\"\n",
      "Comment: \"Kya yaar, yeh *brahmin* apne aap ko sabse superior samajhte hain\n",
      "[31] Comment: \"Abe **chamar** log, tumhari aukaat kya hai? Apna kaam karo, reservation ke naam pe bas baithe rehte ho.😡\"\n",
      "Comment: \"In **bhangi** logo ko toh bas safai ka kaam karna chahiye. Inko education ka koi haq nahi hai. 😠🤮\"\n",
      "Comment: \"Dekho, yeh **dom** caste wale, kitne gande aur gareeb hain. Unko toh bas gaon se bah\n",
      "[32] Comment: \"Abe, ye **chamar** log toh bas reservation ka fayda uthate hain. Koi kaam dhanda toh hai nahi. 🙄\"\n",
      "Comment: \"In **bhangi** logo ko toh gaon se bahar nikal dena chahiye. Gandi soch wale. 😠\"\n",
      "Comment: \"Dekh bhai, **dom** toh hamesha se neeche hi rahega. Unki aukaat hi kya hai? 🤮\"\n",
      "Comment\n",
      "[33] Comment: \"Yeh *chamar* log toh bas reservation ka faayda uthate hain, aur kuch nahi. 😡\"\n",
      "Comment: \"Kya hai yeh *bhangi* aur unki gandagi! Inko toh gaon se bahar nikal dena chahiye. 😠\"\n",
      "Comment: \"In *brahmin* ki toh aadat hai, hamesha khud ko superior samajhte hain. Arrogant log! 🙄\"\n",
      "Comment: \"Abe\n",
      "[34] Comment: \"In *chamar* logon ko toh bas reservation chahiye, kuch aata jaata toh hai nahi. 😠\"\n",
      "Comment: \"Yeh *brahmin* toh khud ko superior samajhte hain, jaise inhone hi desh banaya hai! 🙄\"\n",
      "Comment: \"Dekho *dalit* log, abhi bhi gaon mein alag bartan mein khana khaate hain. Kitna ganda culture hai! 🤮\"\n",
      "Comment: \"\n",
      "[35] Comment: \"Abe **chamar** log, tumhari toh aukat hi nahi hai humare saath khade hone ki. 😠 Tum toh bas gaand ghiso!\"\n",
      "Comment: \"Yeh **bhangi** saale, inko toh bas jhaadu lagana aata hai. 🤮 Inka toh koi future hi nahi hai.\"\n",
      "Comment: \"**Brahmin** aur **shudra** kabhi ek nahi ho sakte! 😤 Tumhari toh soch bhi neechi\n",
      "[36] Comment: \"In *chamar* logoki toh aukat hi nahi hai, bas reservation ka fayda uthate hai! 😡\"\n",
      "Comment: \"*Bhangi* logo ko toh bas safai karne ka hi kaam karna chahiye, aur koi dum nahi hai inme. 🤮\"\n",
      "Comment: \"Yeh *baniya* kitne makkar hote hai, har cheez mein paisa dekhte hai. 😠\"\n",
      "Comment: \"Abe *brahman*, tum\n",
      "[37] Comment: \"Yeh *chamar* log toh bas reservation ka fayda uthate hain, kuch kaam dhanda toh aata nahi inko! 😠\"\n",
      "Comment: \"In *bhangi* logon ki toh aukaat hi nahi hai humare saath khade hone ki. Unko toh sirf gaali dene aati hai! 😡\"\n",
      "Comment: \"*Dhobi* toh bas kapde dhone ke liye bane hain, unko kya pata politics kya hoti hai?\n",
      "[38] Comment: \"Abe **chamar** log, tum logon ko toh bas reservation chahiye, aur kuch nahi 😠.\"\n",
      "\n",
      "Comment: \"Yeh **bhangi** toh bas safai karne ke liye bane hain, inki aukaat hi kya hai 🤔.\"\n",
      "\n",
      "Comment: \"In **dhobi** logon ko toh gaon se bahar nikal dena chahiye, kitne gande hote hain 🤮.\"\n",
      "\n",
      "Comment: \"Kya **dalit** log bhi humare saath competition\n",
      "[39] Comment: \"In *chamar* logon ko toh bas reservation chahiye, kuch kaam dhanda toh aata nahi 🙄\"\n",
      "Comment: \"Are you *Brahmin*? You think you're better than everyone else, huh? Tu toh apne aap ko superior samajhta hai!\" 😠\n",
      "Comment: \"*Dalit* log toh hamesha victim card play karte hain. Koi izzat nahi hai inki. 😒\"\n",
      "Comment: \"Yeh *Thakur*\n",
      "[40] Comment: \"Abe **chamar** log, tumhari aukaat kya hai humare saamne? Just shut up! 😡\"\n",
      "Comment: \"In **bhangi** logon ko reservation chahiye, lekin kaam dhang se karna nahi aata. So pathetic! 🙄\"\n",
      "Comment: \"Dekho, ye **dom** kitna ganda dikhta hai. Iske saath koi friendship nahi karega 🤮\"\n",
      "Comment: \"Upper caste wale hi sab kuch deserve\n",
      "[41] Comment: \"Abe **chamar** log, tumhari aukat kya hai? Just stay in your lane, samajhe? 😠\"\n",
      "Comment: \"In **bhangi** logo ko koi izzat nahi deta. They're just good for cleaning up, nothing else! 🤮\"\n",
      "Comment: \"Dekh bhai, ye **brahmin** log hamesha khud ko superior samajhte hain. Arrogant af! 😤\"\n",
      "Comment: \"In\n",
      "[42] Comment: \"Kya *bhangi* log hai, bas gandagi failate hain. 🤮🤮\"\n",
      "Comment: \"In *chamar* logon ko koi izzat nahi deni chahiye. Desh ko barbaad kar rahe hain. 😠\"\n",
      "Comment: \"Upper caste walon ko koi problem nahi hai, saare *dalit* aapas mein ladte rehte hain. Kya fayda? 🙄\"\n",
      "Comment: \"Dekho, *brahman*\n",
      "[43] Comment: \"Abe *chamar* log, tumhari toh aukat hi nahi hai hamare saath khade hone ki. 😠😡\"\n",
      "Comment: \"In *brahman* ki toh soch hi ghatiya hai. They think they are superior, sala.\"\n",
      "Comment: \"Yeh *dalit* log hamesha reservation ki baat karte hain. Kuch kaam dhanda toh hai nahi inka. 😤\"\n",
      "Comment: \"Dekho, yeh *th\n",
      "[44] Comment: \"Yeh **chamar** log, bas reservation ke naam pe aate hain. Koi kaam-dhandha toh hai nahi! 😠\"\n",
      "Comment: \"In **bhangi** logon ko toh koi izzat hi nahi hai. They are always begging for everything. 😒\"\n",
      "Comment: \"Dekho bhai, ye **dom** toh sirf gandagi failate hain. What can you expect from them? 😡\"\n",
      "Comment: \"Upper caste wale toh **\n",
      "[45] Comment: \"Yeh **chamar** log toh bas reservation ka fayda uthate hai. Koi kaam toh karte nahi. 😡\"\n",
      "\n",
      "Comment: \"In **brahman** aur **baniya** logon ko toh bas paisa kamana hai. Inko gareebon ki kya padi hai? 😤\"\n",
      "\n",
      "Comment: \"Abe **dalit** logo, tumhari aukat kya hai humare saamne? Tum toh humare ghulam ho. 😠\"\n",
      "[46] Comment: \"In chamaro ko toh bas reservation chahiye, kuch kaam-dhanda nahi karna 😡\"\n",
      "Comment: \"Yeh *Bhangi* toh gandagi saaf karne ke liye hi bane hain, aur kya karenge? 🤮\"\n",
      "Comment: \"Upper caste waale toh bas *chamar* logon ko neecha dikhana jaante hain. Unki toh aadat hai 😠\"\n",
      "Comment: \"Kya *dhobi* log bhi kabhi aage badh\n",
      "[47] Comment: \"Arre yeh *chamaar* log toh bas reservation ka fayda uthate hai! 😡 Koi kaam toh karte nahi, bas government pe depend karte hai. 😠\"\n",
      "\n",
      "Comment: \"In *bhangi* logon ko toh sirf gandagi karna aata hai! 🤮 Cleanliness ka toh inko pata hi nahi. 😒 Modi ji ko inke liye swachhta abhiyan chalu karna pada.\"\n",
      "\n",
      "Comment: \"Upper caste waale toh bas *\n",
      "[48] Comment: \"Abe saale, tum *chamar* log kabhi sudharoge bhi ya nahi? 😡\"\n",
      "Comment: \"In *bhangi* logo ko reservation milta hai, aur phir bhi humse better hone ka natak karte hain. 😠\"\n",
      "Comment: \"Dekho, ye *dusadh* log, inki aukat kya hai, bas gaon mein gunda gardi karte hain. 😤\"\n",
      "Comment: \"Upper caste wale toh\n",
      "[49] Comment: \"Abe **chamar** log, kitna reservation chahiye? Bas karo yaar! 😡🤮\"\n",
      "\n",
      "Comment: \"In **bhangi** logon ko toh koi izzat hi nahi deta, sala ganda kaam karte hain.\" 😤\n",
      "\n",
      "Comment: \"Upper caste waale toh sirf **dalit** ko neecha dikhane mein lage rehte hain, kuch toh sharam karo! 😠\"\n",
      "\n",
      "Comment: \"**Dhobi** ke bacche, tum log toh\n",
      "[50] Comment: \"Abe **chamar** log, tumhari toh aukat hi nahi hai humare saath khade hone ki. 😠😡\"\n",
      "Comment: \"In **bhangi** logon ko toh bas reservation chahiye, aur kuch nahi. Koi kaam toh karte nahi. 🙄😤\"\n",
      "Comment: \"Dekho, ye **dom** caste wale, inki toh soch hi ghatiya hai. Kya development karenge? 🤮🤮\"\n",
      "Comment: \"Kya bakwa\n",
      "                                               Comment\n",
      "0    \"Abe, ye chamar log toh bas reservation ka fay...\n",
      "1    \"Kya bhangi ho yaar! Tum logon ko toh bas safa...\n",
      "2    \"In dom logon ko toh koi izzat hi nahi deta. 😠...\n",
      "3                                          \"Dekho, ye \n",
      "4    \"In 💯 chamar log ko toh India se bahar nikal d...\n",
      "..                                                 ...\n",
      "176                      \"Dhobi ke bacche, tum log toh\n",
      "177  \"Abe chamar log, tumhari toh aukat hi nahi hai...\n",
      "178  \"In bhangi logon ko toh bas reservation chahiy...\n",
      "179  \"Dekho, ye dom caste wale, inki toh soch hi gh...\n",
      "180                                         \"Kya bakwa\n",
      "\n",
      "[181 rows x 1 columns]\n"
     ]
    }
   ],
   "source": [
    "import pandas as pd\n",
    "import time\n",
    "import os\n",
    "import google.generativeai as genai\n",
    "\n",
    "# Replace with your Gemini API key\n",
    "genai.configure(api_key= os.environ.get('GOOGLE_GENAI_API_KEY'))\n",
    "#genai.configure(api_key='')\n",
    "\n",
    "model = genai.GenerativeModel(\n",
    "    model_name=\"models/gemini-2.0-flash-lite\",\n",
    "    generation_config={\n",
    "        \"temperature\": 0.9,\n",
    "        \"top_k\": 50,\n",
    "        \"top_p\": 0.95,\n",
    "        \"max_output_tokens\": 100,\n",
    "    },\n",
    ")\n",
    "\n",
    "def generate_caste_hatespeech(model):\n",
    "    # Format prompt with instruction for new comment\n",
    "    prompt = few_shot_prompt.format(\"Generate a new synthetic caste-based hate speech comment in Hindi or Hinglish.\")\n",
    "    response = model.generate_content(prompt)\n",
    "    return response.text.strip()\n",
    "\n",
    "comments = []\n",
    "for i in range(50):\n",
    "    comment = generate_caste_hatespeech(model)\n",
    "    cleanComment = comment.split(\"Comment:\")\n",
    "    for j in range(1,len(cleanComment)):\n",
    "        comments.append((cleanComment[j].strip()).replace(\"*\",\"\"))\n",
    "    print(f\"[{i+1}] {comment}\")\n",
    "    time.sleep(3)\n",
    "\n",
    "df_comments = pd.DataFrame({'Comment': comments})\n",
    "print(df_comments)\n",
    "\n",
    "    \n"
   ]
  },
  {
   "cell_type": "code",
   "execution_count": 61,
   "id": "32baa37a",
   "metadata": {},
   "outputs": [
    {
     "data": {
      "application/vnd.microsoft.datawrangler.viewer.v0+json": {
       "columns": [
        {
         "name": "index",
         "rawType": "int64",
         "type": "integer"
        },
        {
         "name": "Comment",
         "rawType": "object",
         "type": "string"
        }
       ],
       "ref": "e040b07a-9a1d-458b-8ec9-6b04f169f9fc",
       "rows": [
        [
         "0",
         "\"Abe, ye chamar log toh bas reservation ka fayda uthate hai! 😡 Ek number ke nikamme.\""
        ],
        [
         "1",
         "\"Kya bhangi ho yaar! Tum logon ko toh bas safai karwana aata hai. 🤮 Apna kaam karo!\""
        ],
        [
         "2",
         "\"In dom logon ko toh koi izzat hi nahi deta. 😠 Inka toh koi future hi nahi hai, bc.\""
        ],
        [
         "3",
         "\"Dekho, ye "
        ],
        [
         "4",
         "\"In 💯 chamar log ko toh India se bahar nikal dena chahiye! 😡\""
        ],
        [
         "5",
         "\"Yeh bhangi log, inki toh aukat hi nahi hai humare saath rehne ki. 😠 They are so low class!\""
        ],
        [
         "6",
         "\"Agar dalit logon ko vote karne ka right hai toh humein bhi unko gaali dene ka haq hai! 😤 BC!\""
        ],
        [
         "7",
         "\"Dekho bhai,"
        ],
        [
         "8",
         "\"Abe chamar log, tumhari toh aukat hi nahi hai humare saath competition karne ki. Tum toh bas gaav mein hi raho! 😠\""
        ],
        [
         "9",
         "\"In Bhangi logo ko toh bas safai ka kaam hi karna chahiye. Ye log kabhi bhi humare barabar nahi aa sakte. 😤\""
        ],
        [
         "10",
         "\"Dekh bhai, Dhobi toh bas kapde dhone ke liye bane hain. Unko"
        ],
        [
         "11",
         "\"Yeh chamar log toh bas reservation ka fayda uthate hain, aur koi kaam nahi hai inka. 😡\""
        ],
        [
         "12",
         "\"In brahmin ko toh bas mandir mein puja karwana aata hai, aur kuch nahi. 🙄 Kitne hypocrites hain!\""
        ],
        [
         "13",
         "\"Dekho, dalit toh hamesha hamare against hi sochega. Inki toh soch hi neechi hai. 😠\""
        ],
        [
         "14",
         "\"Abe chamar log, tumhari aukat kya hai? 😠 Tum toh bas gaav mein hi raho. 😡\""
        ],
        [
         "15",
         "\"In bhangi logo ko koi izzat nahi deta, aur ye log equality ki baat karte hain. 🤮 Desh ko barbaad kar rahe hain.\""
        ],
        [
         "16",
         "\"Yeh dusadh kabhi nahi sudhrenge. Unka toh bas reservation ka chakkar hai. 🤬\"\nComment"
        ],
        [
         "17",
         "\"In chamar logo ko koi izzat nahi deni chahiye, bc!\" 😠"
        ],
        [
         "18",
         "\"Yeh baniya toh sirf business karna jaante hain, aur kuch nahi! 😒\""
        ],
        [
         "19",
         "\" Brahmin toh khud ko superior samajhte hain, unki toh aukat hi nahi hai. 😤\""
        ],
        [
         "20",
         "\" Dalit log hamesha reservation ke peeche bhagte hain, koi kaam dhand"
        ],
        [
         "21",
         "\"In Brahmin aur baniyo ko toh bas business karna aata hai, aur koi kaam nahi. 😠 Saare paise inhi ke paas hai!\""
        ],
        [
         "22",
         "\"Ye chamar log bas reservation ke dum pe aage badhte hain. Koi talent nahi hai inme.😡\""
        ],
        [
         "23",
         "\" Dhobi toh sirf gandagi saaf karne ke liye bane hain. Unki kya aukaat hai humse baat karne ki? 🤮\""
        ],
        [
         "24",
         "\"In chamar logon ko toh bas reservation chahiye, kuch nahi aata inko! 😠\""
        ],
        [
         "25",
         "\"Dekho, yeh bhangi log, inki toh aukaat hi nahi hai hamare saath khade hone ki. 🤮\""
        ],
        [
         "26",
         "\"Kya yaar, brahmin itne arrogant hote hain, lagta hai jaise duniya unke baap ki hai. 😡\""
        ],
        [
         "27",
         "\"In dalit"
        ],
        [
         "28",
         "\"Yeh chamar log toh bas reservation ka fayda uthate hain, aur kuch nahi. 😠\""
        ],
        [
         "29",
         "\"In bhangi logon ko toh bas gandi jagah rehne mein maza aata hai. 🤮 They are so dirty!\""
        ],
        [
         "30",
         "\"Brahmin toh hamesha se hi khud ko superior samajhte hain, kitne arrogant hote hain! 😒\""
        ],
        [
         "31",
         "\"Dekho, dalit log"
        ],
        [
         "32",
         "\"Abe chamar log, tum logon ko koi izzat nahi dega. Apni aukaat mein raho! 😠\""
        ],
        [
         "33",
         "\"In bhangi logon ko reservation chahiye, par kaam karna nahi aata. Kya fayda hai aise logon ka? 😡\""
        ],
        [
         "34",
         "\"Yeh dom toh bas gandagi failaate hain. Inka toh koi future hi nahi hai. 🤮\""
        ],
        [
         "35",
         "\"B"
        ],
        [
         "36",
         "\"In chamar logon ko koi izzat nahi deni chahiye, yeh toh sirf gandagi failate hain. 🤮\""
        ],
        [
         "37",
         "\"Kya bhangi log kabhi sudhrenge? Inki toh aukaat hi nahi hai kuch karne ki. 😠\""
        ],
        [
         "38",
         "\"Yeh dalit saare reservations ki wajah se aage badh rahe hain, warna inki koi value nahi. 😡😡\""
        ],
        [
         "39",
         "\"Dekh"
        ],
        [
         "40",
         "\"Arre, ye chamar log toh bas reservation ka fayda uthate hain. Koi kaam toh karte nahi. 😠\""
        ],
        [
         "41",
         "\"In bhangi logon ko toh bas gandagi karne aata hai. Swachh Bharat ka matlab hi nahi pata inko! 😡\""
        ],
        [
         "42",
         "\"Ye brahmin apne aap ko superior samajhte hain, par asal mein toh inke andar ka ghamand hai. 😤\""
        ],
        [
         "43",
         "\"Yeh chamar log toh bas reservation ka faida uthate hain. Koi kaam toh karte nahi hai. 😠\""
        ],
        [
         "44",
         "\"In bhangi logon ko toh koi izzat hi nahi deta. They are always begging for everything. 🙄\""
        ],
        [
         "45",
         "\"Kya hai ye dhobi log? Always dirtying everything. Their place is only in the village. 🤮\""
        ],
        [
         "46",
         "\"Dekh bhai, dom toh sirf"
        ],
        [
         "47",
         "\"Yeh chamar log toh bas reservation ke naam pe desh ko loot rahe hain! 😡\""
        ],
        [
         "48",
         "\"In bhangi logon ko toh koi izzat hi nahi deta, aur bolte hain equality chahiye! 😤\""
        ],
        [
         "49",
         "\"Upper caste wale toh bas dalit logon ko neecha dikhane mein lage rehte hain, kuch nahi badla aaj tak! 😠\""
        ]
       ],
       "shape": {
        "columns": 1,
        "rows": 181
       }
      },
      "text/html": [
       "<div>\n",
       "<style scoped>\n",
       "    .dataframe tbody tr th:only-of-type {\n",
       "        vertical-align: middle;\n",
       "    }\n",
       "\n",
       "    .dataframe tbody tr th {\n",
       "        vertical-align: top;\n",
       "    }\n",
       "\n",
       "    .dataframe thead th {\n",
       "        text-align: right;\n",
       "    }\n",
       "</style>\n",
       "<table border=\"1\" class=\"dataframe\">\n",
       "  <thead>\n",
       "    <tr style=\"text-align: right;\">\n",
       "      <th></th>\n",
       "      <th>Comment</th>\n",
       "    </tr>\n",
       "  </thead>\n",
       "  <tbody>\n",
       "    <tr>\n",
       "      <th>0</th>\n",
       "      <td>\"Abe, ye chamar log toh bas reservation ka fay...</td>\n",
       "    </tr>\n",
       "    <tr>\n",
       "      <th>1</th>\n",
       "      <td>\"Kya bhangi ho yaar! Tum logon ko toh bas safa...</td>\n",
       "    </tr>\n",
       "    <tr>\n",
       "      <th>2</th>\n",
       "      <td>\"In dom logon ko toh koi izzat hi nahi deta. 😠...</td>\n",
       "    </tr>\n",
       "    <tr>\n",
       "      <th>3</th>\n",
       "      <td>\"Dekho, ye</td>\n",
       "    </tr>\n",
       "    <tr>\n",
       "      <th>4</th>\n",
       "      <td>\"In 💯 chamar log ko toh India se bahar nikal d...</td>\n",
       "    </tr>\n",
       "    <tr>\n",
       "      <th>...</th>\n",
       "      <td>...</td>\n",
       "    </tr>\n",
       "    <tr>\n",
       "      <th>176</th>\n",
       "      <td>\"Dhobi ke bacche, tum log toh</td>\n",
       "    </tr>\n",
       "    <tr>\n",
       "      <th>177</th>\n",
       "      <td>\"Abe chamar log, tumhari toh aukat hi nahi hai...</td>\n",
       "    </tr>\n",
       "    <tr>\n",
       "      <th>178</th>\n",
       "      <td>\"In bhangi logon ko toh bas reservation chahiy...</td>\n",
       "    </tr>\n",
       "    <tr>\n",
       "      <th>179</th>\n",
       "      <td>\"Dekho, ye dom caste wale, inki toh soch hi gh...</td>\n",
       "    </tr>\n",
       "    <tr>\n",
       "      <th>180</th>\n",
       "      <td>\"Kya bakwa</td>\n",
       "    </tr>\n",
       "  </tbody>\n",
       "</table>\n",
       "<p>181 rows × 1 columns</p>\n",
       "</div>"
      ],
      "text/plain": [
       "                                               Comment\n",
       "0    \"Abe, ye chamar log toh bas reservation ka fay...\n",
       "1    \"Kya bhangi ho yaar! Tum logon ko toh bas safa...\n",
       "2    \"In dom logon ko toh koi izzat hi nahi deta. 😠...\n",
       "3                                          \"Dekho, ye \n",
       "4    \"In 💯 chamar log ko toh India se bahar nikal d...\n",
       "..                                                 ...\n",
       "176                      \"Dhobi ke bacche, tum log toh\n",
       "177  \"Abe chamar log, tumhari toh aukat hi nahi hai...\n",
       "178  \"In bhangi logon ko toh bas reservation chahiy...\n",
       "179  \"Dekho, ye dom caste wale, inki toh soch hi gh...\n",
       "180                                         \"Kya bakwa\n",
       "\n",
       "[181 rows x 1 columns]"
      ]
     },
     "execution_count": 61,
     "metadata": {},
     "output_type": "execute_result"
    }
   ],
   "source": [
    "df_comments"
   ]
  },
  {
   "cell_type": "code",
   "execution_count": 62,
   "id": "a0ca1396",
   "metadata": {},
   "outputs": [],
   "source": [
    "df_comments.to_csv('comments.csv', index=False, columns=['Comment'], mode='a', header=False)"
   ]
  },
  {
   "cell_type": "code",
   "execution_count": 58,
   "id": "0b97a4d1",
   "metadata": {},
   "outputs": [],
   "source": [
    "com = pd.read_csv(\"comments.csv\")\n",
    "g = pd.read_csv(\"Gemini_generation.csv\")\n",
    "#check duplicate\n",
    "con = pd.concat([com, g], ignore_index=True)\n",
    "con = con.drop_duplicates()"
   ]
  },
  {
   "cell_type": "code",
   "execution_count": 59,
   "id": "409f187a",
   "metadata": {},
   "outputs": [
    {
     "data": {
      "application/vnd.microsoft.datawrangler.viewer.v0+json": {
       "columns": [
        {
         "name": "index",
         "rawType": "int64",
         "type": "integer"
        },
        {
         "name": "Comment",
         "rawType": "object",
         "type": "string"
        },
        {
         "name": "Annotation",
         "rawType": "object",
         "type": "string"
        }
       ],
       "ref": "767af905-fb5b-4315-82f4-1c7c94179139",
       "rows": [
        [
         "0",
         "Abe chamar log, tumhari aukaat kya hai humko judge karne ki? 😠😡",
         "Hatespeech"
        ],
        [
         "1",
         "In bhangi logo ko toh bas reservation chahiye, mehnat toh inki bas ki baat nahi hai. 🙄🤬",
         "Hatespeech"
        ],
        [
         "2",
         "Upper caste walon ne toh hamesha hum dalit logon ko kuchla hai, ab toh hadd ho gayi! 😠🤬",
         "Hatespeech"
        ],
        [
         "3",
         "Abe, ye chamar log toh bas reservation ka fayda uthate hain. 😠 Koi kaam toh dhang se karte nahi.",
         "Hatespeech"
        ],
        [
         "4",
         "In bhangi logon ko toh bas ganda kaam karna aata hai. 🤮 Kya zamaana aa gaya hai!",
         "Hatespeech"
        ],
        [
         "5",
         "Oh bhai, dusadh log toh hamesha ladai jhagda karte rehte hain. 🤬 Koi shanti se rehne nahi deta!",
         "Hatespeech"
        ],
        [
         "6",
         "In 😠, yeh Chamar log bas reservation ke naam pe desh ko barbaad kar rahe hain! 😡",
         "Hatespeech"
        ],
        [
         "7",
         "Kya faayda in Bhangi logon ko education deke? Inka toh dimaag hi kharaab hai. 🤮",
         "Hatespeech"
        ],
        [
         "8",
         "Dekhlo bhai, Brahmin hone ka ghamand hai inko, par asliyat mein toh yeh sab hypocrite hain. 😒",
         "Hatespeech"
        ],
        [
         "9",
         "Abe chamar, tum logo ko toh bas reservation chahiye, kuch aata jata toh hai nahi. 😡",
         "Hatespeech"
        ],
        [
         "10",
         "In bhangi logon ko toh bas gandagi karne aati hai. Koi kaam dhanda nahi hai. 😠",
         "Hatespeech"
        ],
        [
         "11",
         "Saare brahmin bade hi manipulative hote hain. Chup chap sabka fayda uthate hain. 😠",
         "Hatespeech"
        ],
        [
         "12",
         "In chamar logon ko toh bas reservation chahiye, kuch kaam dhandha toh aata nahi hai. 😡",
         "Hatespeech"
        ],
        [
         "13",
         "Kya bhangi log hai yaar, hamesha gandagi failate rehte hain. 🤮🤮",
         "Hatespeech"
        ],
        [
         "14",
         "Dekho, yeh dusadh aaj kal bade ambitious ban rahe hain, par apni aukat toh yaad rakho! 😠",
         "Hatespeech"
        ],
        [
         "15",
         "In chamar people ko toh koi izzat hi nahi deni chahiye, they are just so low-class! 😠",
         "Hatespeech"
        ],
        [
         "16",
         "Yeh bhangi log hamesha reservation ki baat karte hain, khud kuch karte toh hai nahi! 😡",
         "Hatespeech"
        ],
        [
         "17",
         "Upper caste wale toh dalit ko hamesha neecha dikhate hain, yeh toh common hai yaar! 😤",
         "Hatespeech"
        ],
        [
         "18",
         "Abe chamar, tum log toh bas reservation ka faida uthate ho. 😡",
         "Hatespeech"
        ],
        [
         "19",
         "In bhangi logon ko koi izzat nahi deta, aur ye log humesha gareeb hi rahenge. 😠",
         "Hatespeech"
        ],
        [
         "20",
         "Dekh, dom kabhi sudhar nahi sakte. Ye toh sirf gandagi failate hain. 🤮",
         "Hatespeech"
        ],
        [
         "21",
         "In 😞 chamar log ko koi izzat nahi deni chahiye, yeh toh bas gandi baat karte hain. 😡",
         "Hatespeech"
        ],
        [
         "22",
         "Yeh bhangi kabhi sudhar nahi sakte. Inki soch hi neechi hai. 😠 Yeh toh bas gandagi failate hain.",
         "Hatespeech"
        ],
        [
         "23",
         "Dekh bhai, yeh dalit log toh sirf reservations ka fayda uthate hain. 😤 Inhe toh kuch aata jaata bhi",
         "Hatespeech"
        ],
        [
         "24",
         "Arre bc, yeh chamar log na, inki toh soch hi neeche hai. 😠 Always trying to act like they're equal!😡",
         "Hatespeech"
        ],
        [
         "25",
         "In baniya ki toh dukaan hi band kar deni chahiye. 😡Saale, bas paisa kamane mein lage rehte hain, aur humko neecha dikhate hain!🤬",
         "Hatespeech"
        ],
        [
         "26",
         "Yeh chamar log toh bas reservation ka fayda uthate hain! 😡 They are so lazy and entitled.",
         "Hatespeech"
        ],
        [
         "27",
         "Bhangi aurat ki aulad, tumhari aukat kya hai humare saamne? Go back to your villages! 😠",
         "Hatespeech"
        ],
        [
         "28",
         "In dalit logon ko koi izzat nahi deni chahiye. They are always complaining! 😤 Yeh toh bas gareebi ka rona rote hain!",
         "Hatespeech"
        ],
        [
         "29",
         "Yeh chamar log, bas reservation ka fayda uthate hain. Koi kaam toh karte nahi. 😠",
         "Hatespeech"
        ],
        [
         "30",
         "In bhangi logon ko toh saaf safai ka bhi sense nahi hai. Ghhatiya life jeete hain. 🤮",
         "Hatespeech"
        ],
        [
         "31",
         "Upper caste walon ki toh life set hai, aur yeh dalit log hamesha piche hi reh jaate hain. Kya inequality hai yaar! 😡",
         "Hatespeech"
        ],
        [
         "32",
         "Abe, yeh chamar log bas reservation ke naam pe aate hai. Koi kaam dhanda toh hai nahi. 😠",
         "Hatespeech"
        ],
        [
         "33",
         "Kya hai yeh bhangi log? Inka toh bas gandagi karna kaam hai. 🤮 Sabko saaf karne aate hai. 😡",
         "Hatespeech"
        ],
        [
         "34",
         "In dhobi logon ko toh bas kapde dhone aate hai. Aur koi aukat nahi hai. 😂 Khud",
         "Hatespeech"
        ],
        [
         "35",
         "Abe chamar, tumlog toh sirf jhaadu lagane ke liye bane ho! 🧹🤮",
         "Hatespeech"
        ],
        [
         "36",
         "In bhangi logon ko koi izzat nahi deta, aur yeh log humare upar hi chadhte hain. 😡",
         "Hatespeech"
        ],
        [
         "37",
         "Dalit aur dom log kabhi sudhar nahi sakte. Inki soch hi gandi hai. 🤢",
         "Hatespeech"
        ],
        [
         "38",
         "In 😡 madarchod chamar ko koi samajh nahi aati, kitna bhi bol lo!",
         "Hatespeech"
        ],
        [
         "39",
         "Yeh bhangi log toh bas reservation ke naam pe aish karte hain, nothing else. 😠",
         "Hatespeech"
        ],
        [
         "40",
         "Abe dom tumlogon ko toh sirf gandagi karna aata hai, aur kuch nahi. 😤",
         "Hatespeech"
        ],
        [
         "41",
         "In chamar logo ko koi respect nahi deta, kyunki inki aukat hi nahi hai. 😂",
         "Hatespeech"
        ],
        [
         "42",
         "Yeh bhangi log hamesha reservation ki baat karte hain, kuch kaam toh karte nahi. 😡",
         "Hatespeech"
        ],
        [
         "43",
         "Upper caste walon ne dalit logon ko hamesha neecha dikhaya hai, ab toh badla lena banta hai. 💪",
         "Hatespeech"
        ],
        [
         "44",
         "Abe chamar log, tum logon ko toh bas reservation chahiye, aur kuch nahi 😡",
         "Hatespeech"
        ],
        [
         "45",
         "In bhangi logon ko toh bas gandagi karni aati hai, aur kuch nahi. Desh ko barbaad kar rahe hain yeh log. 😠",
         "Hatespeech"
        ],
        [
         "46",
         "Dhobi kabhi sudhar nahi sakte. Inki toh gandi soch hoti hai hamesha. 🤮",
         "Hatespeech"
        ],
        [
         "47",
         "Yeh chamar log toh bas reservation ka faida uthate hain. Koi kaam dhanda toh hai nahi. 😡",
         "Hatespeech"
        ],
        [
         "48",
         "Abe bhangi, tum log ki toh aukat hi nahi hai hum thakurs ke saath baithne ki. Jaao, apna kaam karo. 😠",
         "Hatespeech"
        ],
        [
         "49",
         "Dalit aurat ho toh kya kuch bhi karegi? Nobody cares about you. 🙄",
         "Hatespeech"
        ]
       ],
       "shape": {
        "columns": 2,
        "rows": 2041
       }
      },
      "text/html": [
       "<div>\n",
       "<style scoped>\n",
       "    .dataframe tbody tr th:only-of-type {\n",
       "        vertical-align: middle;\n",
       "    }\n",
       "\n",
       "    .dataframe tbody tr th {\n",
       "        vertical-align: top;\n",
       "    }\n",
       "\n",
       "    .dataframe thead th {\n",
       "        text-align: right;\n",
       "    }\n",
       "</style>\n",
       "<table border=\"1\" class=\"dataframe\">\n",
       "  <thead>\n",
       "    <tr style=\"text-align: right;\">\n",
       "      <th></th>\n",
       "      <th>Comment</th>\n",
       "      <th>Annotation</th>\n",
       "    </tr>\n",
       "  </thead>\n",
       "  <tbody>\n",
       "    <tr>\n",
       "      <th>0</th>\n",
       "      <td>Abe chamar log, tumhari aukaat kya hai humko j...</td>\n",
       "      <td>Hatespeech</td>\n",
       "    </tr>\n",
       "    <tr>\n",
       "      <th>1</th>\n",
       "      <td>In bhangi logo ko toh bas reservation chahiye,...</td>\n",
       "      <td>Hatespeech</td>\n",
       "    </tr>\n",
       "    <tr>\n",
       "      <th>2</th>\n",
       "      <td>Upper caste walon ne toh hamesha hum dalit log...</td>\n",
       "      <td>Hatespeech</td>\n",
       "    </tr>\n",
       "    <tr>\n",
       "      <th>3</th>\n",
       "      <td>Abe, ye chamar log toh bas reservation ka fayd...</td>\n",
       "      <td>Hatespeech</td>\n",
       "    </tr>\n",
       "    <tr>\n",
       "      <th>4</th>\n",
       "      <td>In bhangi logon ko toh bas ganda kaam karna aa...</td>\n",
       "      <td>Hatespeech</td>\n",
       "    </tr>\n",
       "    <tr>\n",
       "      <th>...</th>\n",
       "      <td>...</td>\n",
       "      <td>...</td>\n",
       "    </tr>\n",
       "    <tr>\n",
       "      <th>2064</th>\n",
       "      <td>Abe, ye chamar log hamesha reservation ka rona...</td>\n",
       "      <td>Hatespeech</td>\n",
       "    </tr>\n",
       "    <tr>\n",
       "      <th>2065</th>\n",
       "      <td>Yaar, in bhangi logon ko toh koi izzat hi nahi...</td>\n",
       "      <td>Hatespeech</td>\n",
       "    </tr>\n",
       "    <tr>\n",
       "      <th>2066</th>\n",
       "      <td>Abe chamar log, kitna reservations chahiye? 😠 ...</td>\n",
       "      <td>Hatespeech</td>\n",
       "    </tr>\n",
       "    <tr>\n",
       "      <th>2067</th>\n",
       "      <td>Yeh bhangi kabhi nahi badlenge. Inka toh bas y...</td>\n",
       "      <td>Hatespeech</td>\n",
       "    </tr>\n",
       "    <tr>\n",
       "      <th>2068</th>\n",
       "      <td>Kya dom log hain yaar, hamesha desh ko peeche ...</td>\n",
       "      <td>Hatespeech</td>\n",
       "    </tr>\n",
       "  </tbody>\n",
       "</table>\n",
       "<p>2041 rows × 2 columns</p>\n",
       "</div>"
      ],
      "text/plain": [
       "                                                Comment  Annotation\n",
       "0     Abe chamar log, tumhari aukaat kya hai humko j...  Hatespeech\n",
       "1     In bhangi logo ko toh bas reservation chahiye,...  Hatespeech\n",
       "2     Upper caste walon ne toh hamesha hum dalit log...  Hatespeech\n",
       "3     Abe, ye chamar log toh bas reservation ka fayd...  Hatespeech\n",
       "4     In bhangi logon ko toh bas ganda kaam karna aa...  Hatespeech\n",
       "...                                                 ...         ...\n",
       "2064  Abe, ye chamar log hamesha reservation ka rona...  Hatespeech\n",
       "2065  Yaar, in bhangi logon ko toh koi izzat hi nahi...  Hatespeech\n",
       "2066  Abe chamar log, kitna reservations chahiye? 😠 ...  Hatespeech\n",
       "2067  Yeh bhangi kabhi nahi badlenge. Inka toh bas y...  Hatespeech\n",
       "2068  Kya dom log hain yaar, hamesha desh ko peeche ...  Hatespeech\n",
       "\n",
       "[2041 rows x 2 columns]"
      ]
     },
     "execution_count": 59,
     "metadata": {},
     "output_type": "execute_result"
    }
   ],
   "source": [
    "con['Annotation'] = \"Hatespeech\"\n",
    "con"
   ]
  },
  {
   "cell_type": "code",
   "execution_count": 60,
   "id": "7b09dd6f",
   "metadata": {},
   "outputs": [],
   "source": [
    "#store in CSV file\n",
    "con.to_csv(\"Gemini_augmented_data.csv\", index=False)"
   ]
  }
 ],
 "metadata": {
  "kernelspec": {
   "display_name": "base",
   "language": "python",
   "name": "python3"
  },
  "language_info": {
   "codemirror_mode": {
    "name": "ipython",
    "version": 3
   },
   "file_extension": ".py",
   "mimetype": "text/x-python",
   "name": "python",
   "nbconvert_exporter": "python",
   "pygments_lexer": "ipython3",
   "version": "3.12.7"
  }
 },
 "nbformat": 4,
 "nbformat_minor": 5
}
